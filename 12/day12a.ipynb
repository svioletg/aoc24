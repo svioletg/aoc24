{
 "cells": [
  {
   "cell_type": "code",
   "execution_count": 1,
   "id": "af47d580-0d0a-4f57-bc15-95b2addfc1e8",
   "metadata": {},
   "outputs": [],
   "source": [
    "import sys\n",
    "from typing import Self\n",
    "from dataclasses import dataclass\n",
    "\n",
    "sys.path.append('../utils')\n",
    "from pyutils import *"
   ]
  },
  {
   "cell_type": "code",
   "execution_count": 2,
   "id": "6b53093b-c7a9-4eaa-8de7-a4aa3e031323",
   "metadata": {},
   "outputs": [],
   "source": [
    "sample = \"\"\"RRRRIICCFF\n",
    "RRRRIICCCF\n",
    "VVRRRCCFFF\n",
    "VVRCCCJFFF\n",
    "VVVVCJJCFE\n",
    "VVIVCCJJEE\n",
    "VVIIICJJEE\n",
    "MIIIIIJJEE\n",
    "MIIISIJEEE\n",
    "MMMISSJEEE\n",
    "\"\"\""
   ]
  },
  {
   "cell_type": "code",
   "execution_count": 3,
   "id": "eb31f33a-58d9-42c3-85d8-b6fc1870186d",
   "metadata": {},
   "outputs": [],
   "source": [
    "puzzle = readutf8('input.txt')"
   ]
  },
  {
   "cell_type": "code",
   "execution_count": 4,
   "id": "7e94314b-f4e5-4469-b407-a12abbc22571",
   "metadata": {},
   "outputs": [],
   "source": [
    "@dataclass\n",
    "class GardenRegion:\n",
    "    plant: str\n",
    "    plots: list[Point]\n",
    "    perimeter: int\n",
    "    area: int\n",
    "\n",
    "    def _find_perimeter(self) -> int:\n",
    "        perimeter: int = 0\n",
    "        for pt in self.plots:\n",
    "            plot_sides: int = 4\n",
    "            for pt2 in self.plots:\n",
    "                if pt == pt2:\n",
    "                    continue\n",
    "                if (pt[0] == pt2[0]) and (abs(pt[1] - pt2[1]) == 1):\n",
    "                    plot_sides -= 1\n",
    "                if (pt[1] == pt2[1]) and (abs(pt[0] - pt2[0]) == 1):\n",
    "                    plot_sides -= 1\n",
    "            perimeter += plot_sides\n",
    "        return perimeter\n",
    "\n",
    "    @classmethod\n",
    "    def from_list(cls, data: list[tuple[Point, str]]) -> Self:\n",
    "        inst = GardenRegion(plant=data[0][1], plots=[pt for pt, _ in data], perimeter=0, area=0)\n",
    "        inst.area = len(inst.plots)\n",
    "        inst.perimeter = inst._find_perimeter()\n",
    "        return inst"
   ]
  },
  {
   "cell_type": "code",
   "execution_count": 1,
   "id": "c19dd254-5869-4cbd-957d-78a9d9fae336",
   "metadata": {},
   "outputs": [
    {
     "ename": "NameError",
     "evalue": "name 'Matrix' is not defined",
     "output_type": "error",
     "traceback": [
      "\u001b[0;31m---------------------------------------------------------------------------\u001b[0m",
      "\u001b[0;31mNameError\u001b[0m                                 Traceback (most recent call last)",
      "Cell \u001b[0;32mIn[1], line 1\u001b[0m\n\u001b[0;32m----> 1\u001b[0m \u001b[38;5;28;01mdef\u001b[39;00m\u001b[38;5;250m \u001b[39m\u001b[38;5;21mfind_regions\u001b[39m(mat: \u001b[43mMatrix\u001b[49m) \u001b[38;5;241m-\u001b[39m\u001b[38;5;241m>\u001b[39m \u001b[38;5;28mlist\u001b[39m[GardenRegion]:\n\u001b[1;32m      2\u001b[0m     pts_checked: \u001b[38;5;28mlist\u001b[39m[Point] \u001b[38;5;241m=\u001b[39m []\n\u001b[1;32m      3\u001b[0m     regions: \u001b[38;5;28mlist\u001b[39m[\u001b[38;5;28mlist\u001b[39m[\u001b[38;5;28mtuple\u001b[39m[Point, \u001b[38;5;28mstr\u001b[39m]]] \u001b[38;5;241m=\u001b[39m []\n",
      "\u001b[0;31mNameError\u001b[0m: name 'Matrix' is not defined"
     ]
    }
   ],
   "source": [
    "def find_regions(mat: Matrix) -> list[GardenRegion]:\n",
    "    pts_checked: list[Point] = []\n",
    "    regions: list[list[tuple[Point, str]]] = []\n",
    "\n",
    "    print(f'LEN: {len(list(mat_iter(mat)))}')\n",
    "\n",
    "    def _search_branches(pt: Point, mat: Matrix, plot: str) -> list[tuple[Point, str]]:\n",
    "        if pt in pts_checked:\n",
    "            return list()\n",
    "        pts_checked.append(pt)\n",
    "        region: list[tuple[Point, str]] = [(pt, plot)]\n",
    "        adj_matching = {k:v for k, v in points_adjacent(pt, mat, corners=False).items() if (k not in pts_checked) and (v == plot)}\n",
    "        for branch_pt, _ in adj_matching.items():\n",
    "            region.extend(_search_branches(branch_pt, mat, plot))\n",
    "        return region\n",
    "\n",
    "    for pt, plot in mat_iter(mat):\n",
    "        if pt in pts_checked:\n",
    "            continue\n",
    "        search_result = _search_branches(pt, mat, plot)\n",
    "        if search_result:\n",
    "            regions.append(search_result)\n",
    "\n",
    "    return [GardenRegion.from_list(data) for data in regions]"
   ]
  },
  {
   "cell_type": "code",
   "execution_count": 14,
   "id": "5255c6fa-42b7-46ab-9115-d0480c1c903e",
   "metadata": {},
   "outputs": [],
   "source": [
    "garden: Matrix = strtomat(puzzle)"
   ]
  },
  {
   "cell_type": "code",
   "execution_count": 15,
   "id": "8f283241-2969-48db-80ab-fc8d1dad5a7c",
   "metadata": {},
   "outputs": [
    {
     "name": "stdout",
     "output_type": "stream",
     "text": [
      "LEN: 19600\n",
      "Stopwatch region creation: 34.84168495\n"
     ]
    }
   ],
   "source": [
    "timer = Stopwatch('region creation')\n",
    "garden_regions = find_regions(garden)\n",
    "timer.print_lap()"
   ]
  },
  {
   "cell_type": "code",
   "execution_count": 16,
   "id": "dbd82041-5573-49ba-a95b-fa4eacbfac27",
   "metadata": {},
   "outputs": [
    {
     "name": "stdout",
     "output_type": "stream",
     "text": [
      "1449902\n"
     ]
    }
   ],
   "source": [
    "print(sum(r.area * r.perimeter for r in garden_regions))"
   ]
  },
  {
   "cell_type": "code",
   "execution_count": null,
   "id": "b8362386-a58d-44b9-a120-e8c3fdd2b89d",
   "metadata": {},
   "outputs": [],
   "source": []
  }
 ],
 "metadata": {
  "kernelspec": {
   "display_name": "Python 3 (ipykernel)",
   "language": "python",
   "name": "python3"
  },
  "language_info": {
   "codemirror_mode": {
    "name": "ipython",
    "version": 3
   },
   "file_extension": ".py",
   "mimetype": "text/x-python",
   "name": "python",
   "nbconvert_exporter": "python",
   "pygments_lexer": "ipython3",
   "version": "3.12.8"
  }
 },
 "nbformat": 4,
 "nbformat_minor": 5
}
