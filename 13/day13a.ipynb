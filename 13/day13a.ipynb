{
 "cells": [
  {
   "cell_type": "code",
   "execution_count": 7,
   "id": "8bd26dcc-37eb-4734-ab5d-7f441e9ab067",
   "metadata": {},
   "outputs": [],
   "source": [
    "import sys\n",
    "import re\n",
    "from dataclasses import dataclass\n",
    "\n",
    "sys.path.append('../utils')\n",
    "from pyutils import *"
   ]
  },
  {
   "cell_type": "code",
   "execution_count": 8,
   "id": "47bfb04d-111a-4169-b067-3ec3a30570f1",
   "metadata": {},
   "outputs": [],
   "source": [
    "sample = \"\"\"Button A: X+94, Y+34\n",
    "Button B: X+22, Y+67\n",
    "Prize: X=8400, Y=5400\n",
    "\n",
    "Button A: X+26, Y+66\n",
    "Button B: X+67, Y+21\n",
    "Prize: X=12748, Y=12176\n",
    "\n",
    "Button A: X+17, Y+86\n",
    "Button B: X+84, Y+37\n",
    "Prize: X=7870, Y=6450\n",
    "\n",
    "Button A: X+69, Y+23\n",
    "Button B: X+27, Y+71\n",
    "Prize: X=18641, Y=10279\n",
    "\"\"\""
   ]
  },
  {
   "cell_type": "code",
   "execution_count": 11,
   "id": "749b32e8-ef17-4e51-93d0-0dba329a1f14",
   "metadata": {},
   "outputs": [],
   "source": [
    "puzzle = readutf8('input.txt')"
   ]
  },
  {
   "cell_type": "code",
   "execution_count": 23,
   "id": "252129b1-7ee0-4beb-aa03-e94a158c7d7e",
   "metadata": {},
   "outputs": [],
   "source": [
    "MACHINE_REGEX = re.compile(r\"Button A: X\\+(\\d+), Y\\+(\\d+)\\nButton B: X\\+(\\d+), Y\\+(\\d+)\\nPrize: X=(\\d+), Y=(\\d+)\")\n",
    "A_COST = 3\n",
    "B_COST = 1"
   ]
  },
  {
   "cell_type": "code",
   "execution_count": 24,
   "id": "82b0f615-2847-431e-b16c-af0a5c10c31d",
   "metadata": {},
   "outputs": [],
   "source": [
    "@dataclass\n",
    "class ClawMachine:\n",
    "    bttn_a: tuple[int, int]\n",
    "    bttn_b: tuple[int, int]\n",
    "    prize: tuple[int, int]"
   ]
  },
  {
   "cell_type": "code",
   "execution_count": 25,
   "id": "fbc60f2e-4694-4783-9a9c-7e9a4c3cfa5a",
   "metadata": {},
   "outputs": [],
   "source": [
    "def get_machines(s: str) -> list[ClawMachine]:\n",
    "    machines: list[ClawMachine] = []\n",
    "    this_machine: list[str] = []\n",
    "    for line in s.split('\\n'):\n",
    "        if not line.strip():\n",
    "            if len(this_machine) == 3:\n",
    "                matches: list[int] = list(map(int, re.findall(MACHINE_REGEX, '\\n'.join(this_machine))[0]))\n",
    "                machines.append(ClawMachine((matches[0], matches[1]), (matches[2], matches[3]), (matches[4], matches[5])))\n",
    "                this_machine.clear()\n",
    "            continue\n",
    "        this_machine.append(line)\n",
    "    return machines"
   ]
  },
  {
   "cell_type": "code",
   "execution_count": 26,
   "id": "80529781-040f-4654-906a-26274c963f60",
   "metadata": {},
   "outputs": [
    {
     "data": {
      "text/plain": [
       "[ClawMachine(bttn_a=(94, 34), bttn_b=(22, 67), prize=(8400, 5400)),\n",
       " ClawMachine(bttn_a=(26, 66), bttn_b=(67, 21), prize=(12748, 12176)),\n",
       " ClawMachine(bttn_a=(17, 86), bttn_b=(84, 37), prize=(7870, 6450)),\n",
       " ClawMachine(bttn_a=(69, 23), bttn_b=(27, 71), prize=(18641, 10279))]"
      ]
     },
     "execution_count": 26,
     "metadata": {},
     "output_type": "execute_result"
    }
   ],
   "source": [
    "get_machines(sample)"
   ]
  },
  {
   "cell_type": "code",
   "execution_count": 31,
   "id": "8ffeae1e-7d29-4738-ba22-cedfcbcf959b",
   "metadata": {},
   "outputs": [
    {
     "data": {
      "text/plain": [
       "8400"
      ]
     },
     "execution_count": 31,
     "metadata": {},
     "output_type": "execute_result"
    }
   ],
   "source": [
    "94*80 + 22*40"
   ]
  },
  {
   "cell_type": "code",
   "execution_count": null,
   "id": "2c376b2e-3c24-4bac-ad06-c386e969e731",
   "metadata": {},
   "outputs": [],
   "source": []
  }
 ],
 "metadata": {
  "kernelspec": {
   "display_name": "Python 3 (ipykernel)",
   "language": "python",
   "name": "python3"
  },
  "language_info": {
   "codemirror_mode": {
    "name": "ipython",
    "version": 3
   },
   "file_extension": ".py",
   "mimetype": "text/x-python",
   "name": "python",
   "nbconvert_exporter": "python",
   "pygments_lexer": "ipython3",
   "version": "3.12.8"
  }
 },
 "nbformat": 4,
 "nbformat_minor": 5
}
