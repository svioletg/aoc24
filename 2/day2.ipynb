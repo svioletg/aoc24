{
 "cells": [
  {
   "cell_type": "code",
   "execution_count": 1,
   "id": "ffc6ae2c-881a-425c-ac58-7b29d9cf45b7",
   "metadata": {},
   "outputs": [],
   "source": [
    "import sys\n",
    "\n",
    "sys.path.append('../utils')\n",
    "from pyutils import *"
   ]
  },
  {
   "cell_type": "code",
   "execution_count": 11,
   "id": "33217bb6-7831-4456-8d08-ba2d7d6714ad",
   "metadata": {},
   "outputs": [],
   "source": [
    "def check_reports(reports: list[list[int]], problem_dampener: bool = False):\n",
    "    safe_reps: list[list[int]] = []\n",
    "    unsafe_reps: list[list[int]] = []\n",
    "\n",
    "    for rep in reports:\n",
    "        direction = 0\n",
    "        bad = False\n",
    "        for n, level in enumerate(rep):\n",
    "            if n + 1 == len(rep):\n",
    "                break\n",
    "            nextlvl = rep[n + 1]\n",
    "            if direction == 0:\n",
    "                direction = 1 if nextlvl > level else -1\n",
    "            if not abs(level - nextlvl) in range(1, 4):\n",
    "                bad = True\n",
    "                break\n",
    "            if (1 if nextlvl > level else -1) != direction:\n",
    "                bad = True\n",
    "                break\n",
    "        if not bad:\n",
    "            safe_reps.append(rep)\n",
    "        else:\n",
    "            if not problem_dampener:\n",
    "                unsafe_reps.append(rep)\n",
    "            else:\n",
    "                pass # TODO\n",
    "\n",
    "    return safe_reps, unsafe_reps"
   ]
  },
  {
   "cell_type": "code",
   "execution_count": 12,
   "id": "21381dbb-d467-4c3f-80e0-37dbc06a9271",
   "metadata": {},
   "outputs": [],
   "source": [
    "sample = readutf8('sample.txt')\n",
    "puzzle = readutf8('input.txt')"
   ]
  },
  {
   "cell_type": "code",
   "execution_count": 13,
   "id": "5b4963cc-9dec-470a-b08b-bbba446cfe01",
   "metadata": {},
   "outputs": [],
   "source": [
    "reports = [list(map(int, filter(lambda i: i.strip() != '', line.split()))) for line in puzzle.split('\\n') if line.strip() != '']"
   ]
  },
  {
   "cell_type": "code",
   "execution_count": 14,
   "id": "637fcf1c-5416-4730-b2a2-13863234acad",
   "metadata": {},
   "outputs": [
    {
     "data": {
      "text/plain": [
       "314"
      ]
     },
     "execution_count": 14,
     "metadata": {},
     "output_type": "execute_result"
    }
   ],
   "source": [
    "len(check_reports(reports)[0])"
   ]
  },
  {
   "cell_type": "code",
   "execution_count": null,
   "id": "1362c403-acac-4183-bfc4-ae9b022581fa",
   "metadata": {},
   "outputs": [],
   "source": []
  },
  {
   "cell_type": "code",
   "execution_count": null,
   "id": "9997b8fe-4237-4749-a6cc-81031411eb2a",
   "metadata": {},
   "outputs": [],
   "source": []
  }
 ],
 "metadata": {
  "kernelspec": {
   "display_name": "Python 3 (ipykernel)",
   "language": "python",
   "name": "python3"
  },
  "language_info": {
   "codemirror_mode": {
    "name": "ipython",
    "version": 3
   },
   "file_extension": ".py",
   "mimetype": "text/x-python",
   "name": "python",
   "nbconvert_exporter": "python",
   "pygments_lexer": "ipython3",
   "version": "3.12.8"
  }
 },
 "nbformat": 4,
 "nbformat_minor": 5
}
