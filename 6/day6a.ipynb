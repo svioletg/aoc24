{
 "cells": [
  {
   "cell_type": "code",
   "execution_count": 1,
   "id": "fe69923f-76cc-4608-b023-993094ec12ff",
   "metadata": {},
   "outputs": [],
   "source": [
    "from IPython.display import clear_output\n",
    "from time import sleep\n",
    "from copy import deepcopy"
   ]
  },
  {
   "cell_type": "code",
   "execution_count": 2,
   "id": "c6b82bf8-9bf0-4d27-8f3c-eec95a543dc7",
   "metadata": {},
   "outputs": [],
   "source": [
    "sample=\"\"\"....#.....\n",
    ".........#\n",
    "..........\n",
    "..#.......\n",
    ".......#..\n",
    "..........\n",
    ".#..^.....\n",
    "........#.\n",
    "#.........\n",
    "......#...\"\"\""
   ]
  },
  {
   "cell_type": "code",
   "execution_count": 3,
   "id": "22e21f1b-dc2f-4c36-aed1-bb1c655db453",
   "metadata": {},
   "outputs": [],
   "source": [
    "with open('input.txt', 'r', encoding='utf-8') as f:\n",
    "    content = f.read()"
   ]
  },
  {
   "cell_type": "code",
   "execution_count": 4,
   "id": "a8d96ba9-e9aa-42b9-a209-9b97a99fc028",
   "metadata": {},
   "outputs": [],
   "source": [
    "def restring(mat: list[list[str]]) -> str:\n",
    "    return '\\n'.join([''.join(row) for row in mat])"
   ]
  },
  {
   "cell_type": "code",
   "execution_count": 5,
   "id": "64d86133-a619-466a-806c-05d9f8ef113d",
   "metadata": {},
   "outputs": [],
   "source": [
    "def turn_vec_90deg(vec: tuple[int, int]) -> tuple[int, int]:\n",
    "    match vec:\n",
    "        case (-1, 0):\n",
    "            return (0, 1)\n",
    "        case (0, 1):\n",
    "            return (1, 0)\n",
    "        case (1, 0):\n",
    "            return (0, -1)\n",
    "        case (0, -1):\n",
    "            return (-1, 0)\n",
    "    raise ValueError(f'Unexpected: {vec!r}')"
   ]
  },
  {
   "cell_type": "code",
   "execution_count": 6,
   "id": "c030c4d5-0b8b-448a-a366-c3ca56234c24",
   "metadata": {},
   "outputs": [],
   "source": [
    "def predict(mat: list[list[str]],\n",
    "            guard_chars: dict[str, tuple[int, int]],\n",
    "            obj_char: str = '#',\n",
    "            fill_char: str = '.',\n",
    "            visited_char: str = 'X',\n",
    "            show: bool = False\n",
    "           ) -> list[list[str]]:\n",
    "    \"\"\"\n",
    "    :param guard_chars: Dictionary of characters to 2-integer tuples representing a direction as (row, column), i.e.\n",
    "        {'^': (-1, 0), '>': (0, 1), 'v': (1, 0), '<': (0, -1)}\n",
    "    \"\"\"\n",
    "    srcmat = mat\n",
    "    mat = deepcopy(srcmat)\n",
    "    guard_chars_bydir = {v:k for k, v in guard_chars.items()}\n",
    "\n",
    "    # Find guard\n",
    "    guard: dict = {'char': None, 'pos': None}\n",
    "    for row, _ in enumerate(mat):\n",
    "        for col, _ in enumerate(mat[row]):\n",
    "            if mat[row][col] in guard_chars:\n",
    "                guard['char'] = mat[row][col]\n",
    "                guard['pos'] = [row, col]\n",
    "                break\n",
    "        else: # First time i've used else in a for-loop, strange choice of word imo but i guess it worked\n",
    "            continue\n",
    "        break\n",
    "    assert(guard['pos'] is not None)\n",
    "\n",
    "    # Simulate path\n",
    "    guard_in_map = True\n",
    "    while True:\n",
    "        if show:\n",
    "            clear_output(wait=True)\n",
    "            print(restring(mat))\n",
    "            sleep(0.1)\n",
    "        direction = guard_chars[guard['char']]\n",
    "        while True:\n",
    "            # Check future pos, turn 90 degrees until there's no obstruction in front of guard\n",
    "            future = (guard['pos'][0] + direction[0], guard['pos'][1] + direction[1])\n",
    "            if (future[0] not in range(0, len(mat))) or (future[1] not in range(0, len(mat[0]))):\n",
    "                # Guard has exited map\n",
    "                guard_in_map = False\n",
    "                break\n",
    "            if mat[future[0]][future[1]] == obj_char:\n",
    "                # Turn\n",
    "                direction = turn_vec_90deg(direction)\n",
    "                guard['char'] = guard_chars_bydir[direction]\n",
    "            else:\n",
    "                break\n",
    "        if not guard_in_map:\n",
    "            break\n",
    "        # Turning done, we can move forward\n",
    "        mat[guard['pos'][0]][guard['pos'][1]] = visited_char\n",
    "        guard['pos'] = list(future)\n",
    "        mat[guard['pos'][0]][guard['pos'][1]] = guard['char']\n",
    "    mat[guard['pos'][0]][guard['pos'][1]] = visited_char\n",
    "    return mat"
   ]
  },
  {
   "cell_type": "code",
   "execution_count": 7,
   "id": "3bf6c71c-72e7-4a37-82fb-7c98f75ea7e4",
   "metadata": {},
   "outputs": [
    {
     "name": "stdout",
     "output_type": "stream",
     "text": [
      "....#.....\n",
      "....XXXXX#\n",
      "....X...X.\n",
      "..#.X...X.\n",
      "..XXXXX#X.\n",
      "..X.X.X.X.\n",
      ".#XXXXXXX.\n",
      ".XXXXXXX#.\n",
      "#XXXXXXX..\n",
      "......#X.. 41\n"
     ]
    }
   ],
   "source": [
    "matrix: list[list[str]] = [list(line) for line in sample.split('\\n')]\n",
    "guard_chars = {'^': (-1, 0), '>': (0, 1), 'v': (1, 0), '<': (0, -1)}\n",
    "result: str = restring(predict(matrix, guard_chars, show=False))\n",
    "print(result, result.count('X'))"
   ]
  },
  {
   "cell_type": "code",
   "execution_count": null,
   "id": "5c91d9d6-9cf3-4f33-835a-f73cf75ba741",
   "metadata": {},
   "outputs": [],
   "source": []
  }
 ],
 "metadata": {
  "kernelspec": {
   "display_name": "Python 3 (ipykernel)",
   "language": "python",
   "name": "python3"
  },
  "language_info": {
   "codemirror_mode": {
    "name": "ipython",
    "version": 3
   },
   "file_extension": ".py",
   "mimetype": "text/x-python",
   "name": "python",
   "nbconvert_exporter": "python",
   "pygments_lexer": "ipython3",
   "version": "3.12.8"
  }
 },
 "nbformat": 4,
 "nbformat_minor": 5
}
