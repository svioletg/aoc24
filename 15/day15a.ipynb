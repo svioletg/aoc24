{
 "cells": [
  {
   "cell_type": "code",
   "execution_count": 1,
   "id": "7d98ca88-caa5-4610-9731-f841907ad3dd",
   "metadata": {},
   "outputs": [],
   "source": [
    "import sys\n",
    "\n",
    "sys.path.append('../utils')\n",
    "from pyutils import *"
   ]
  },
  {
   "cell_type": "code",
   "execution_count": 2,
   "id": "a821d651-3337-457e-8f04-366f735494cf",
   "metadata": {},
   "outputs": [],
   "source": [
    "sample = readutf8('sample.txt')\n",
    "puzzle = readutf8('input.txt')"
   ]
  },
  {
   "cell_type": "code",
   "execution_count": 18,
   "id": "04127e76-a58e-406a-9a75-46c6531d649e",
   "metadata": {},
   "outputs": [],
   "source": [
    "def parse_input(puzzle_in: str) -> tuple[StrMatrix, list[Point]]:\n",
    "    warehouse_map: StrMatrix = []\n",
    "    robot_instructions: list[Point] = []\n",
    "    char_to_point = {'^': (-1, 0), '>': (0, 1), 'v': (1, 0), '<': (0, -1)}\n",
    "    part: int = 1\n",
    "    for line in puzzle_in.split('\\n'):\n",
    "        if line.strip() == '':\n",
    "            part += 1\n",
    "            continue\n",
    "        if part == 1:\n",
    "            warehouse_map.append(list(line))\n",
    "        elif part == 2:\n",
    "            robot_instructions.extend(list(line))\n",
    "    return (warehouse_map, robot_instructions)"
   ]
  },
  {
   "cell_type": "code",
   "execution_count": 34,
   "id": "6f610e9e-011e-4532-b8f5-338582a81663",
   "metadata": {},
   "outputs": [],
   "source": [
    "warehouse, robot_moves = parse_input(sample)"
   ]
  },
  {
   "cell_type": "code",
   "execution_count": null,
   "id": "e6007173-8e00-4157-aa60-fdf0002b18d1",
   "metadata": {},
   "outputs": [],
   "source": []
  }
 ],
 "metadata": {
  "kernelspec": {
   "display_name": "Python 3 (ipykernel)",
   "language": "python",
   "name": "python3"
  },
  "language_info": {
   "codemirror_mode": {
    "name": "ipython",
    "version": 3
   },
   "file_extension": ".py",
   "mimetype": "text/x-python",
   "name": "python",
   "nbconvert_exporter": "python",
   "pygments_lexer": "ipython3",
   "version": "3.12.8"
  }
 },
 "nbformat": 4,
 "nbformat_minor": 5
}
