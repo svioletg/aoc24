{
 "cells": [
  {
   "cell_type": "code",
   "execution_count": null,
   "id": "7d98ca88-caa5-4610-9731-f841907ad3dd",
   "metadata": {},
   "outputs": [],
   "source": [
    "import sys\n",
    "from copy import deepcopy\n",
    "import time\n",
    "\n",
    "sys.path.append('../utils')\n",
    "from pyutils import *"
   ]
  },
  {
   "cell_type": "code",
   "execution_count": null,
   "id": "a821d651-3337-457e-8f04-366f735494cf",
   "metadata": {},
   "outputs": [],
   "source": [
    "sample = readutf8('sample.txt')\n",
    "sample_long = readutf8('sample2.txt')\n",
    "puzzle = readutf8('input.txt')\n",
    "\n",
    "test1 = \"\"\"\n",
    "#######\n",
    "#.....#\n",
    "#.....#\n",
    "#..O..#\n",
    "#...O@#\n",
    "#..O..#\n",
    "#...O.#\n",
    "#..O#.#\n",
    "#...O.#\n",
    "#.....#\n",
    "#.....#\n",
    "#######\n",
    "\n",
    "<^^<<<vv\n",
    "\"\"\""
   ]
  },
  {
   "cell_type": "code",
   "execution_count": null,
   "id": "04127e76-a58e-406a-9a75-46c6531d649e",
   "metadata": {},
   "outputs": [],
   "source": [
    "def parse_input(puzzle_in: str, widen: bool=False) -> tuple[StrMatrix, list[Pt], Pt]:\n",
    "    warehouse_map: StrMatrix = []\n",
    "    robot_instructions: list[Pt] = []\n",
    "    robot_pos: Pt = Pt(-1, -1)\n",
    "    char_to_point = {'^': (-1, 0), '>': (0, 1), 'v': (1, 0), '<': (0, -1)}\n",
    "    part: int = 1\n",
    "    for line in puzzle_in.split('\\n'):\n",
    "        if line.strip() == '':\n",
    "            if len(warehouse_map) > 0:\n",
    "                part += 1\n",
    "            continue\n",
    "        if part == 1:\n",
    "            if widen:\n",
    "                wide_line = []\n",
    "                for ch in line:\n",
    "                    match ch:\n",
    "                        case '#': wide_line.extend('##')\n",
    "                        case 'O': wide_line.extend('[]')\n",
    "                        case '.': wide_line.extend('..')\n",
    "                        case '@': wide_line.extend('@.')\n",
    "                warehouse_map.append(wide_line)\n",
    "                if '@' in wide_line:\n",
    "                    robot_pos = Pt(len(warehouse_map) - 1, wide_line.index('@'))\n",
    "            else:\n",
    "                warehouse_map.append(line)\n",
    "                if '@' in line:\n",
    "                    robot_pos = Pt(len(warehouse_map) - 1, line.index('@'))\n",
    "        elif part == 2:\n",
    "            robot_instructions.extend(list(map(lambda i: Pt.of(char_to_point[i]), line)))\n",
    "    if robot_pos == (-1, -1):\n",
    "        raise ValueError('Robot position not found in warehouse map!')\n",
    "    return (warehouse_map, robot_instructions, robot_pos)"
   ]
  },
  {
   "cell_type": "code",
   "execution_count": null,
   "id": "a35b4f92-4292-4a23-93c0-1ff8087f4947",
   "metadata": {},
   "outputs": [],
   "source": [
    "def predict_robot(mat: StrMatrix, instructions: list[Pt], robot_start: Pt):\n",
    "    box_move_queue: list[tuple[tuple[Pt, Pt], tuple[Pt, Pt]]] = []\n",
    "    mat = deepcopy(mat)\n",
    "    def _check_boxes(box_pair: tuple[Pt, Pt]) -> bool:\n",
    "        box_future = (box_pair[0] + dirpt, box_pair[1] + dirpt)\n",
    "        ret = True\n",
    "        # future of [\n",
    "        if box_future[0] == box_pair[1]:\n",
    "            ret = True\n",
    "        elif box_future[0] in checked:\n",
    "            ret = checked[box_future[0]]\n",
    "        else:\n",
    "            match (obj_a := matget(mat, box_future[0])):\n",
    "                case '#': ret = False\n",
    "                case '.': ret = True\n",
    "                case '[' | ']':\n",
    "                    other_pair = (box_future[0], box_future[1]) if obj_a == '[' else (box_future[0] + (0, -1), box_future[0])\n",
    "                    ret = _check_boxes(other_pair)\n",
    "                case _: raise ValueError(f'Unexpected character at {box_future[0]!r}: {obj_a!r}')\n",
    "            checked[box_future[0]] = ret\n",
    "        if ret == False:\n",
    "            box_move_queue.clear()\n",
    "            return ret\n",
    "        # future of ]\n",
    "        if box_future[1] == box_pair[0]:\n",
    "            ret = True\n",
    "        elif box_future[1] in checked:\n",
    "            ret = checked[box_future[1]]\n",
    "        else:\n",
    "            match (obj_b := matget(mat, box_future[1])):\n",
    "                case '#': ret = False\n",
    "                case '.': ret = True\n",
    "                case '[' | ']':\n",
    "                    other_pair = (box_future[1], box_future[1] + (0, 1)) if obj_b == '[' else (box_future[0], box_future[1])\n",
    "                    ret = _check_boxes(other_pair)\n",
    "                case _: raise ValueError(f'Unexpected character at {box_future[1]!r}: {obj_b!r}')\n",
    "            checked[box_future[1]] = ret\n",
    "        if ret == True:\n",
    "            box_move_queue.append((box_pair, box_future))\n",
    "        return ret\n",
    "\n",
    "    robot_pos = robot_start\n",
    "    # for dirpt in instructions:\n",
    "    for n, dirpt in enumerate(instructions):\n",
    "        # time.sleep(0.005)\n",
    "        # clear_output(wait=True)\n",
    "        # print(dirpt)\n",
    "        # print(f'{n:<8} / {len(instructions) - 1:<8}')\n",
    "        # print(mat_restring(mat))\n",
    "        checked: dict[Pt, bool] = {}\n",
    "        robot_future: Pt = robot_pos + dirpt\n",
    "        match (obj := matget(mat, robot_future)):\n",
    "            case '#': continue\n",
    "            case '.':\n",
    "                matset(mat, robot_pos, '.')\n",
    "                robot_pos = robot_future\n",
    "                matset(mat, robot_pos, '@')\n",
    "            case '[' | ']':\n",
    "                box_pair = (robot_future, robot_future + (0, 1)) if obj == '[' else (robot_future + (0, -1), robot_future)\n",
    "                box_move_queue.clear()\n",
    "                result = _check_boxes(box_pair)\n",
    "                if result == True:\n",
    "                    for box_from, _ in box_move_queue:\n",
    "                        matset(mat, box_from[0], '.')\n",
    "                        matset(mat, box_from[1], '.')\n",
    "                    for _, box_to in box_move_queue:\n",
    "                        matset(mat, box_to[0], '[')\n",
    "                        matset(mat, box_to[1], ']')\n",
    "                    matset(mat, robot_pos, '.')\n",
    "                    robot_pos = robot_future\n",
    "                    matset(mat, robot_pos, '@')\n",
    "    return mat"
   ]
  },
  {
   "cell_type": "code",
   "execution_count": null,
   "id": "fa3bf89f-5d59-4ca9-a5cc-26db90d8b269",
   "metadata": {
    "jupyter": {
     "source_hidden": true
    }
   },
   "outputs": [],
   "source": [
    "def box_gps_coords(mat: StrMatrix) -> list[int]:\n",
    "    coords: list[int] = []\n",
    "    for pt, i in mat_iter(mat):\n",
    "        if i == '[':\n",
    "            coords.append((100 * pt[0]) + pt[1])\n",
    "    return coords"
   ]
  },
  {
   "cell_type": "code",
   "execution_count": null,
   "id": "6f610e9e-011e-4532-b8f5-338582a81663",
   "metadata": {},
   "outputs": [],
   "source": [
    "warehouse, robot_moves, robot = parse_input(puzzle, widen=True)\n",
    "# print(mat_restring(warehouse))"
   ]
  },
  {
   "cell_type": "code",
   "execution_count": null,
   "id": "ded685ee-d7c0-403a-8843-a637d82e2716",
   "metadata": {},
   "outputs": [],
   "source": [
    "# predict_robot(warehouse, robot_moves, robot)"
   ]
  },
  {
   "cell_type": "code",
   "execution_count": null,
   "id": "dde289b0-efe3-4aeb-9f4b-1c570a8ea6f7",
   "metadata": {},
   "outputs": [],
   "source": [
    "print(sum(box_gps_coords(predict_robot(warehouse, robot_moves, robot))))"
   ]
  },
  {
   "cell_type": "code",
   "execution_count": null,
   "id": "71970df5-d810-45ed-b706-b1f9d27360e4",
   "metadata": {},
   "outputs": [],
   "source": []
  },
  {
   "cell_type": "code",
   "execution_count": null,
   "id": "5ebe20eb-e451-4a45-8202-0fed14dd820d",
   "metadata": {},
   "outputs": [],
   "source": []
  }
 ],
 "metadata": {
  "kernelspec": {
   "display_name": "Python 3 (ipykernel)",
   "language": "python",
   "name": "python3"
  },
  "language_info": {
   "codemirror_mode": {
    "name": "ipython",
    "version": 3
   },
   "file_extension": ".py",
   "mimetype": "text/x-python",
   "name": "python",
   "nbconvert_exporter": "python",
   "pygments_lexer": "ipython3",
   "version": "3.12.8"
  }
 },
 "nbformat": 4,
 "nbformat_minor": 5
}
