{
 "cells": [
  {
   "cell_type": "code",
   "execution_count": 1,
   "id": "7d98ca88-caa5-4610-9731-f841907ad3dd",
   "metadata": {},
   "outputs": [],
   "source": [
    "import sys\n",
    "from copy import deepcopy\n",
    "import time\n",
    "\n",
    "sys.path.append('../utils')\n",
    "from pyutils import *"
   ]
  },
  {
   "cell_type": "code",
   "execution_count": 2,
   "id": "a821d651-3337-457e-8f04-366f735494cf",
   "metadata": {},
   "outputs": [],
   "source": [
    "sample = readutf8('sample.txt')\n",
    "sample_long = readutf8('sample2.txt')\n",
    "puzzle = readutf8('input.txt')"
   ]
  },
  {
   "cell_type": "code",
   "execution_count": 3,
   "id": "04127e76-a58e-406a-9a75-46c6531d649e",
   "metadata": {},
   "outputs": [],
   "source": [
    "def parse_input(puzzle_in: str) -> tuple[StrMatrix, list[Point], Point]:\n",
    "    warehouse_map: StrMatrix = []\n",
    "    robot_instructions: list[Point] = []\n",
    "    robot_pos: Point = (-1, -1)\n",
    "    char_to_point = {'^': (-1, 0), '>': (0, 1), 'v': (1, 0), '<': (0, -1)}\n",
    "    part: int = 1\n",
    "    for line in puzzle_in.split('\\n'):\n",
    "        if line.strip() == '':\n",
    "            part += 1\n",
    "            continue\n",
    "        if part == 1:\n",
    "            wide_line = []\n",
    "            for ch in line:\n",
    "                match ch:\n",
    "                    case '#': wide_line.extend('##')\n",
    "                    case 'O': wide_line.extend('[]')\n",
    "                    case '.': wide_line.extend('..')\n",
    "                    case '@': wide_line.extend('@.')\n",
    "            warehouse_map.append(wide_line)\n",
    "            if '@' in wide_line:\n",
    "                robot_pos = (len(warehouse_map) - 1, wide_line.index('@'))\n",
    "        elif part == 2:\n",
    "            robot_instructions.extend(list(map(lambda i: char_to_point[i], line)))\n",
    "    if robot_pos == (-1, -1):\n",
    "        raise ValueError('Robot position not found in warehouse map!')\n",
    "    return (warehouse_map, robot_instructions, robot_pos)"
   ]
  },
  {
   "cell_type": "code",
   "execution_count": 30,
   "id": "a35b4f92-4292-4a23-93c0-1ff8087f4947",
   "metadata": {},
   "outputs": [],
   "source": [
    "def predict_robot(mat: StrMatrix, instructions: list[Point], robot_start: Pt):\n",
    "    mat = deepcopy(mat)\n",
    "    def _check_boxes(box_pair: tuple[Pt, Pt]) -> bool:\n",
    "        print('CHECKBOXCALL')\n",
    "        box_future = (point_op(add, box_pair[0], dirpt), point_op(add, box_pair[1], dirpt))\n",
    "        print(box_pair)\n",
    "        print(box_future)\n",
    "        time.sleep(1)\n",
    "        ret = True\n",
    "        # future of [\n",
    "        if box_future[0] == box_pair[1]:\n",
    "            ret = True\n",
    "        elif box_future[0] in checked:\n",
    "            ret = checked[box_future[0]]\n",
    "        else:\n",
    "            match (obj_a := matget(mat, box_future[0])):\n",
    "                case '#': ret = False\n",
    "                case '.': ret = True\n",
    "                case '[' | ']':\n",
    "                    other_pair = (box_future[0], box_future[1]) if obj_a == '[' else (box_future[0] + (0, -1), box_future[0])\n",
    "                    ret = _check_boxes(other_pair)\n",
    "                case _: raise ValueError(f'Unexpected character at {box_future!r}: {obj_a!r}')\n",
    "            checked[box_future[0]] = ret\n",
    "        if ret == False:\n",
    "            return ret\n",
    "        # future of ]\n",
    "        if box_future[1] == box_pair[0]:\n",
    "            ret = True\n",
    "        elif box_future[1] in checked:\n",
    "            ret = checked[box_future[1]]\n",
    "        else:\n",
    "            match (obj_b := matget(mat, box_future[1])):\n",
    "                case '#': ret = False\n",
    "                case '.': ret = True\n",
    "                case '[' | ']':\n",
    "                    other_pair = (box_future[1], box_future[1] + (0, 1)) if obj_b == '[' else (box_future[0], box_future[1])\n",
    "                    ret = _check_boxes(other_pair)\n",
    "                case _: raise ValueError(f'Unexpected character at {box_future!r}: {obj_b!r}')\n",
    "            checked[box_future[1]] = ret\n",
    "        if ret == True:\n",
    "            matset(mat, box_pair[0], '.')\n",
    "            matset(mat, box_pair[1], '.')\n",
    "            matset(mat, box_future[0], '[')\n",
    "            matset(mat, box_future[1], ']')\n",
    "        return ret\n",
    "\n",
    "    robot_pos = robot_start\n",
    "    # for dirpt in instructions:\n",
    "    for n, dirpt in enumerate(instructions):\n",
    "        time.sleep(2)\n",
    "        clear_output(wait=True)\n",
    "        print(dirpt)\n",
    "        print(f'{n:<8} / {len(instructions) - 1:<8}')\n",
    "        print(mat_restring(mat))\n",
    "        checked: dict[Point, bool] = {}\n",
    "        robot_future = point_op(add, robot_pos, dirpt)\n",
    "        match (obj := matget(mat, robot_future)):\n",
    "            case '#': continue\n",
    "            case '.':\n",
    "                matset(mat, robot_pos, '.')\n",
    "                robot_pos = robot_future\n",
    "                matset(mat, robot_pos, '@')\n",
    "            case '[' | ']':\n",
    "                box_pair = (robot_future, robot_future + (0, 1)) if obj == '[' else (robot_future + (0, -1), robot_future)\n",
    "                print(f'.....{box_pair}')\n",
    "                result = _check_boxes(box_pair)\n",
    "                if result == True:\n",
    "                    matset(mat, robot_pos, '.')\n",
    "                    robot_pos = robot_future\n",
    "                    matset(mat, robot_pos, '@')\n",
    "\n",
    "    return mat"
   ]
  },
  {
   "cell_type": "code",
   "execution_count": 31,
   "id": "fa3bf89f-5d59-4ca9-a5cc-26db90d8b269",
   "metadata": {},
   "outputs": [],
   "source": [
    "def box_gps_coords(mat: StrMatrix) -> list[int]:\n",
    "    coords: list[int] = []\n",
    "    for pt, i in mat_iter(mat):\n",
    "        if i == 'O':\n",
    "            coords.append((100 * pt[0]) + pt[1])\n",
    "    return coords"
   ]
  },
  {
   "cell_type": "code",
   "execution_count": 32,
   "id": "6f610e9e-011e-4532-b8f5-338582a81663",
   "metadata": {},
   "outputs": [
    {
     "name": "stdout",
     "output_type": "stream",
     "text": [
      "####################\n",
      "##....[]....[]..[]##\n",
      "##............[]..##\n",
      "##..[][]....[]..[]##\n",
      "##....[]@.....[]..##\n",
      "##[]##....[]......##\n",
      "##[]....[]....[]..##\n",
      "##..[][]..[]..[][]##\n",
      "##........[]......##\n",
      "####################\n"
     ]
    }
   ],
   "source": [
    "warehouse, robot_moves, robot = parse_input(sample_long)\n",
    "print(mat_restring(warehouse))"
   ]
  },
  {
   "cell_type": "code",
   "execution_count": 33,
   "id": "ded685ee-d7c0-403a-8843-a637d82e2716",
   "metadata": {},
   "outputs": [
    {
     "name": "stdout",
     "output_type": "stream",
     "text": [
      "(0, -1)\n",
      "0        / 699     \n",
      "####################\n",
      "##....[]....[]..[]##\n",
      "##............[]..##\n",
      "##..[][]....[]..[]##\n",
      "##....[]@.....[]..##\n",
      "##[]##....[]......##\n",
      "##[]....[]....[]..##\n",
      "##..[][]..[]..[][]##\n",
      "##........[]......##\n",
      "####################\n",
      ".....((4, 7, 0, -1), (4, 7))\n",
      "CHECKBOXCALL\n",
      "((4, 7, 0, -1), (4, 7))\n",
      "((4, 6), (4, 6))\n",
      "CHECKBOXCALL\n",
      "((4, 6), (4, 6))\n",
      "((4, 5), (4, 5))\n"
     ]
    },
    {
     "ename": "KeyboardInterrupt",
     "evalue": "",
     "output_type": "error",
     "traceback": [
      "\u001b[0;31m---------------------------------------------------------------------------\u001b[0m",
      "\u001b[0;31mKeyboardInterrupt\u001b[0m                         Traceback (most recent call last)",
      "Cell \u001b[0;32mIn[33], line 1\u001b[0m\n\u001b[0;32m----> 1\u001b[0m x \u001b[38;5;241m=\u001b[39m \u001b[43mpredict_robot\u001b[49m\u001b[43m(\u001b[49m\u001b[43mwarehouse\u001b[49m\u001b[43m,\u001b[49m\u001b[43m \u001b[49m\u001b[43mrobot_moves\u001b[49m\u001b[43m,\u001b[49m\u001b[43m \u001b[49m\u001b[43mrobot\u001b[49m\u001b[43m)\u001b[49m\n",
      "Cell \u001b[0;32mIn[30], line 66\u001b[0m, in \u001b[0;36mpredict_robot\u001b[0;34m(mat, instructions, robot_start)\u001b[0m\n\u001b[1;32m     64\u001b[0m box_pair \u001b[38;5;241m=\u001b[39m (robot_future, robot_future \u001b[38;5;241m+\u001b[39m (\u001b[38;5;241m0\u001b[39m, \u001b[38;5;241m1\u001b[39m)) \u001b[38;5;28;01mif\u001b[39;00m obj \u001b[38;5;241m==\u001b[39m \u001b[38;5;124m'\u001b[39m\u001b[38;5;124m[\u001b[39m\u001b[38;5;124m'\u001b[39m \u001b[38;5;28;01melse\u001b[39;00m (robot_future \u001b[38;5;241m+\u001b[39m (\u001b[38;5;241m0\u001b[39m, \u001b[38;5;241m-\u001b[39m\u001b[38;5;241m1\u001b[39m), robot_future)\n\u001b[1;32m     65\u001b[0m \u001b[38;5;28mprint\u001b[39m(\u001b[38;5;124mf\u001b[39m\u001b[38;5;124m'\u001b[39m\u001b[38;5;124m.....\u001b[39m\u001b[38;5;132;01m{\u001b[39;00mbox_pair\u001b[38;5;132;01m}\u001b[39;00m\u001b[38;5;124m'\u001b[39m)\n\u001b[0;32m---> 66\u001b[0m result \u001b[38;5;241m=\u001b[39m \u001b[43m_check_boxes\u001b[49m\u001b[43m(\u001b[49m\u001b[43mbox_pair\u001b[49m\u001b[43m)\u001b[49m\n\u001b[1;32m     67\u001b[0m \u001b[38;5;28;01mif\u001b[39;00m result \u001b[38;5;241m==\u001b[39m \u001b[38;5;28;01mTrue\u001b[39;00m:\n\u001b[1;32m     68\u001b[0m     matset(mat, robot_pos, \u001b[38;5;124m'\u001b[39m\u001b[38;5;124m.\u001b[39m\u001b[38;5;124m'\u001b[39m)\n",
      "Cell \u001b[0;32mIn[30], line 21\u001b[0m, in \u001b[0;36mpredict_robot.<locals>._check_boxes\u001b[0;34m(box_pair)\u001b[0m\n\u001b[1;32m     19\u001b[0m     \u001b[38;5;28;01mcase\u001b[39;00m \u001b[38;5;124m'\u001b[39m\u001b[38;5;124m[\u001b[39m\u001b[38;5;124m'\u001b[39m \u001b[38;5;241m|\u001b[39m \u001b[38;5;124m'\u001b[39m\u001b[38;5;124m]\u001b[39m\u001b[38;5;124m'\u001b[39m:\n\u001b[1;32m     20\u001b[0m         other_pair \u001b[38;5;241m=\u001b[39m (box_future[\u001b[38;5;241m0\u001b[39m], box_future[\u001b[38;5;241m1\u001b[39m]) \u001b[38;5;28;01mif\u001b[39;00m obj_a \u001b[38;5;241m==\u001b[39m \u001b[38;5;124m'\u001b[39m\u001b[38;5;124m[\u001b[39m\u001b[38;5;124m'\u001b[39m \u001b[38;5;28;01melse\u001b[39;00m (box_future[\u001b[38;5;241m0\u001b[39m] \u001b[38;5;241m+\u001b[39m (\u001b[38;5;241m0\u001b[39m, \u001b[38;5;241m-\u001b[39m\u001b[38;5;241m1\u001b[39m), box_future[\u001b[38;5;241m0\u001b[39m])\n\u001b[0;32m---> 21\u001b[0m         ret \u001b[38;5;241m=\u001b[39m \u001b[43m_check_boxes\u001b[49m\u001b[43m(\u001b[49m\u001b[43mother_pair\u001b[49m\u001b[43m)\u001b[49m\n\u001b[1;32m     22\u001b[0m     \u001b[38;5;28;01mcase\u001b[39;00m\u001b[38;5;250m \u001b[39m\u001b[38;5;28;01m_\u001b[39;00m: \u001b[38;5;28;01mraise\u001b[39;00m \u001b[38;5;167;01mValueError\u001b[39;00m(\u001b[38;5;124mf\u001b[39m\u001b[38;5;124m'\u001b[39m\u001b[38;5;124mUnexpected character at \u001b[39m\u001b[38;5;132;01m{\u001b[39;00mbox_future\u001b[38;5;132;01m!r}\u001b[39;00m\u001b[38;5;124m: \u001b[39m\u001b[38;5;132;01m{\u001b[39;00mobj_a\u001b[38;5;132;01m!r}\u001b[39;00m\u001b[38;5;124m'\u001b[39m)\n\u001b[1;32m     23\u001b[0m checked[box_future[\u001b[38;5;241m0\u001b[39m]] \u001b[38;5;241m=\u001b[39m ret\n",
      "Cell \u001b[0;32mIn[30], line 8\u001b[0m, in \u001b[0;36mpredict_robot.<locals>._check_boxes\u001b[0;34m(box_pair)\u001b[0m\n\u001b[1;32m      6\u001b[0m \u001b[38;5;28mprint\u001b[39m(box_pair)\n\u001b[1;32m      7\u001b[0m \u001b[38;5;28mprint\u001b[39m(box_future)\n\u001b[0;32m----> 8\u001b[0m \u001b[43mtime\u001b[49m\u001b[38;5;241;43m.\u001b[39;49m\u001b[43msleep\u001b[49m\u001b[43m(\u001b[49m\u001b[38;5;241;43m1\u001b[39;49m\u001b[43m)\u001b[49m\n\u001b[1;32m      9\u001b[0m ret \u001b[38;5;241m=\u001b[39m \u001b[38;5;28;01mTrue\u001b[39;00m\n\u001b[1;32m     10\u001b[0m \u001b[38;5;66;03m# future of [\u001b[39;00m\n",
      "\u001b[0;31mKeyboardInterrupt\u001b[0m: "
     ]
    }
   ],
   "source": [
    "x = predict_robot(warehouse, robot_moves, robot)"
   ]
  },
  {
   "cell_type": "code",
   "execution_count": 24,
   "id": "dde289b0-efe3-4aeb-9f4b-1c570a8ea6f7",
   "metadata": {},
   "outputs": [],
   "source": [
    "# print(sum(box_gps_coords(predict_robot(warehouse, robot_moves, robot))))"
   ]
  },
  {
   "cell_type": "code",
   "execution_count": null,
   "id": "98597d86-acad-43b9-a6b2-dd1444210d05",
   "metadata": {},
   "outputs": [],
   "source": []
  }
 ],
 "metadata": {
  "kernelspec": {
   "display_name": "Python 3 (ipykernel)",
   "language": "python",
   "name": "python3"
  },
  "language_info": {
   "codemirror_mode": {
    "name": "ipython",
    "version": 3
   },
   "file_extension": ".py",
   "mimetype": "text/x-python",
   "name": "python",
   "nbconvert_exporter": "python",
   "pygments_lexer": "ipython3",
   "version": "3.12.8"
  }
 },
 "nbformat": 4,
 "nbformat_minor": 5
}
