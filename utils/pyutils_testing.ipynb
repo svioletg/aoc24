{
 "cells": [
  {
   "cell_type": "code",
   "execution_count": 1,
   "id": "a1446161-61bc-4f2c-ba31-58541594933e",
   "metadata": {},
   "outputs": [],
   "source": [
    "from pyutils import *"
   ]
  },
  {
   "cell_type": "code",
   "execution_count": 2,
   "id": "6232873c-ca61-4f60-a1e7-24b2a0aa1347",
   "metadata": {},
   "outputs": [],
   "source": [
    "s = \"\"\"ASDFG\n",
    "DFSGA\n",
    "FSGAD\n",
    "DDDFS\n",
    "FAFFS\n",
    "\"\"\""
   ]
  },
  {
   "cell_type": "code",
   "execution_count": 3,
   "id": "c487a440-29a8-4a9c-b8eb-03d57165531a",
   "metadata": {},
   "outputs": [],
   "source": [
    "m = strtomat(s)"
   ]
  },
  {
   "cell_type": "code",
   "execution_count": 5,
   "id": "fbe8a1d5-591a-4674-8870-262084aaeb82",
   "metadata": {},
   "outputs": [
    {
     "name": "stdout",
     "output_type": "stream",
     "text": [
      "{Pt(1, 4): 'white on blue'}\n",
      "(1, 1) white on red\n",
      "(1, 2) white on red\n",
      "(1, 3) white on red\n",
      "ASDFG\n",
      "D\u001b[37m\u001b[41mF\u001b[0m\u001b[37m\u001b[41mS\u001b[0m\u001b[37m\u001b[41mG\u001b[0mA\n",
      "FSGAD\n",
      "DDDFS\n",
      "FAFFS\n"
     ]
    }
   ],
   "source": [
    "print(show_in_matrix(m, Pt(1, 1), Pt(1, 2), Pt(1, 3), colmap={Pt(1, 4): 'white on blue'}))"
   ]
  },
  {
   "cell_type": "code",
   "execution_count": null,
   "id": "8f6bdf7c-f60d-4ecb-9101-91a64b842e16",
   "metadata": {},
   "outputs": [],
   "source": []
  }
 ],
 "metadata": {
  "kernelspec": {
   "display_name": "Python 3 (ipykernel)",
   "language": "python",
   "name": "python3"
  },
  "language_info": {
   "codemirror_mode": {
    "name": "ipython",
    "version": 3
   },
   "file_extension": ".py",
   "mimetype": "text/x-python",
   "name": "python",
   "nbconvert_exporter": "python",
   "pygments_lexer": "ipython3",
   "version": "3.12.8"
  }
 },
 "nbformat": 4,
 "nbformat_minor": 5
}
