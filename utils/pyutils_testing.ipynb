{
 "cells": [
  {
   "cell_type": "code",
   "execution_count": 1,
   "id": "a1446161-61bc-4f2c-ba31-58541594933e",
   "metadata": {},
   "outputs": [],
   "source": [
    "from pyutils import *"
   ]
  },
  {
   "cell_type": "code",
   "execution_count": 3,
   "id": "6232873c-ca61-4f60-a1e7-24b2a0aa1347",
   "metadata": {},
   "outputs": [],
   "source": [
    "s = \"\"\"ASDFG\n",
    "DFSGA\n",
    "FSGAD\n",
    "DDDFS\n",
    "FAFFS\n",
    "\"\"\""
   ]
  },
  {
   "cell_type": "code",
   "execution_count": 4,
   "id": "c487a440-29a8-4a9c-b8eb-03d57165531a",
   "metadata": {},
   "outputs": [],
   "source": [
    "m = strtomat(s)"
   ]
  },
  {
   "cell_type": "code",
   "execution_count": 5,
   "id": "fd6fd022-f570-436d-a82e-8b132a3307ed",
   "metadata": {},
   "outputs": [
    {
     "data": {
      "text/plain": [
       "[['A', 'S', 'D', 'F', 'G'],\n",
       " ['D', 'F', 'S', 'G', 'A'],\n",
       " ['F', 'S', 'G', 'A', 'D'],\n",
       " ['D', 'D', 'D', 'F', 'S'],\n",
       " ['F', 'A', 'F', 'F', 'S']]"
      ]
     },
     "execution_count": 5,
     "metadata": {},
     "output_type": "execute_result"
    }
   ],
   "source": [
    "m"
   ]
  },
  {
   "cell_type": "code",
   "execution_count": 28,
   "id": "0c905ae6-fa5f-4d81-840f-c9b0a2ac15cd",
   "metadata": {},
   "outputs": [],
   "source": [
    "def matslice(mat: Matrix, topleft: Point, bottomright: Point) -> Matrix:\n",
    "    if not(point_in_matrix(topleft, mat) and point_in_matrix(bottomright, mat)):\n",
    "        raise IndexError(f'One of the provided corner points are out of bounds: {topleft!r}, {bottomright!r}')\n",
    "    \n",
    "    start_row, start_col = topleft\n",
    "    end_row, end_col = bottomright\n",
    "    submat: Matrix = [list() for _ in range(start_row, end_row + 1)]\n",
    "    for ridx, row in enumerate(mat[start_row:end_row + 1]):\n",
    "        submat[ridx] = row[start_col:end_col + 1].copy()\n",
    "\n",
    "    return submat"
   ]
  },
  {
   "cell_type": "code",
   "execution_count": 31,
   "id": "ce0bad1b-39de-4611-a3da-7428d26ff759",
   "metadata": {},
   "outputs": [
    {
     "data": {
      "text/plain": [
       "[['S', 'G'], ['G', 'A'], ['D', 'F'], ['F', 'F']]"
      ]
     },
     "execution_count": 31,
     "metadata": {},
     "output_type": "execute_result"
    }
   ],
   "source": [
    "matslice(m, (1,2), (4,3))"
   ]
  },
  {
   "cell_type": "code",
   "execution_count": 27,
   "id": "6cbe0840-5d2d-4646-a347-d16ade915a5c",
   "metadata": {},
   "outputs": [
    {
     "data": {
      "text/plain": [
       "[['D', 'F', 'S', 'G', 'A'],\n",
       " ['F', 'S', 'G', 'A', 'D'],\n",
       " ['D', 'D', 'D', 'F', 'S']]"
      ]
     },
     "execution_count": 27,
     "metadata": {},
     "output_type": "execute_result"
    }
   ],
   "source": [
    "m[1:4]"
   ]
  },
  {
   "cell_type": "code",
   "execution_count": null,
   "id": "fbe8a1d5-591a-4674-8870-262084aaeb82",
   "metadata": {},
   "outputs": [],
   "source": []
  }
 ],
 "metadata": {
  "kernelspec": {
   "display_name": "Python 3 (ipykernel)",
   "language": "python",
   "name": "python3"
  },
  "language_info": {
   "codemirror_mode": {
    "name": "ipython",
    "version": 3
   },
   "file_extension": ".py",
   "mimetype": "text/x-python",
   "name": "python",
   "nbconvert_exporter": "python",
   "pygments_lexer": "ipython3",
   "version": "3.12.8"
  }
 },
 "nbformat": 4,
 "nbformat_minor": 5
}
