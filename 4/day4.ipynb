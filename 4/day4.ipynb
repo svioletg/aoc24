{
 "cells": [
  {
   "cell_type": "code",
   "execution_count": 1,
   "id": "55f78006-59ea-4f41-a38f-971fa4eced1d",
   "metadata": {},
   "outputs": [],
   "source": [
    "import colorama\n",
    "from colorama import Fore, Back, Style"
   ]
  },
  {
   "cell_type": "code",
   "execution_count": 2,
   "id": "d563e279-2f35-4415-8571-df87d56a35d4",
   "metadata": {},
   "outputs": [],
   "source": [
    "with open('input.txt', 'r', encoding='utf-8') as f:\n",
    "    \n",
    "# sample=\"\"\"MMMSXXMASM\n",
    "# MSAMXMSMSA\n",
    "# AMXSXMAAMM\n",
    "# MSAMASMSMX\n",
    "# XMASAMXAMM\n",
    "# XXAMMXXAMA\n",
    "# SMSMSASXSS\n",
    "# SAXAMASAAA\n",
    "# MAMMMXMMMM\n",
    "# MXMXAXMASX\"\"\""
   ]
  },
  {
   "cell_type": "code",
   "execution_count": 3,
   "id": "8262da22-c59e-499a-85b3-51d21276deb8",
   "metadata": {},
   "outputs": [],
   "source": [
    "target_seq = 'XMAS'"
   ]
  },
  {
   "cell_type": "code",
   "execution_count": 4,
   "id": "7ef1dbe2-6f34-407b-87c0-469738891130",
   "metadata": {},
   "outputs": [],
   "source": [
    "matrix = [list(line) for line in sample.split()]\n",
    "def restring(mat: list[list[str]]) -> str:\n",
    "    print('here i go!')\n",
    "    return '\\n'.join([''.join(row) for row in mat])"
   ]
  },
  {
   "cell_type": "code",
   "execution_count": 5,
   "id": "2a018879-0e91-405b-b02f-1f56e464cfe0",
   "metadata": {},
   "outputs": [],
   "source": [
    "def mat_get[T](mat: list[list[T]], row: int, col: int) -> T | None:\n",
    "    if (row < 0) or (col < 0):\n",
    "        return None\n",
    "    try:\n",
    "        return mat[row][col]\n",
    "    except IndexError:\n",
    "        return None"
   ]
  },
  {
   "cell_type": "code",
   "execution_count": 6,
   "id": "323c6ebf-9641-49bf-a8dc-5062eb20cb01",
   "metadata": {},
   "outputs": [],
   "source": [
    "def mat_adj[T](mat: list[list[T]], row: int, col: int) -> dict[tuple[int, int], T | None]:\n",
    "    rows = len(mat)\n",
    "    columns = len(mat[0])\n",
    "    adjacent: dict[tuple[int, int], T | None] = {coord:mat_get(mat, row + coord[0], col + coord[1]) for coord in [\n",
    "        (-1, -1), (-1, 0), (-1, 1),\n",
    "        (0, -1), (0, 0), (0, 1),\n",
    "        (1, -1), (1, 0), (1, 1)\n",
    "    ]}\n",
    "    return adjacent"
   ]
  },
  {
   "cell_type": "code",
   "execution_count": 11,
   "id": "33fc6a4d-73e0-4927-876d-4521d4f576c3",
   "metadata": {},
   "outputs": [],
   "source": [
    "def mat_find_strseq[T](mat: list[list[T]], seq: list[str] | str):\n",
    "    occurrences = 0\n",
    "    for row, _ in enumerate(matrix):\n",
    "        for column, _ in enumerate(matrix[row]):\n",
    "            if matrix[row][column] == target_seq[0]:\n",
    "                origin = (row, column)\n",
    "                hr = ''\n",
    "                hl = ''\n",
    "                vu = ''\n",
    "                vd = ''\n",
    "                d1 = ''\n",
    "                d2 = ''\n",
    "                d3 = ''\n",
    "                d4 = ''\n",
    "                for n, ch in enumerate(target_seq):\n",
    "                    # Horizontal to right\n",
    "                    if mat_get(mat, row, column + n) == ch:\n",
    "                        hr += ch\n",
    "                    # Horizontal to left\n",
    "                    if mat_get(mat, row, column - n) == ch:\n",
    "                        hl += ch\n",
    "                    # Vertical upwards\n",
    "                    if mat_get(mat, row - n, column) == ch:\n",
    "                        vu += ch\n",
    "                    # Vertical downwards\n",
    "                    if mat_get(mat, row + n, column) == ch:\n",
    "                        vd += ch\n",
    "                    # Diagonal up to left\n",
    "                    if mat_get(mat, row - n, column - n) == ch:\n",
    "                        d1 += ch\n",
    "                    # Diagonal up to right\n",
    "                    if mat_get(mat, row - n, column + n) == ch:\n",
    "                        d2 += ch\n",
    "                    # Diagonal down to left\n",
    "                    if mat_get(mat, row + n, column - n) == ch:\n",
    "                        d3 += ch\n",
    "                    # Diagonal down to right\n",
    "                    if mat_get(mat, row + n, column + n) == ch:\n",
    "                        d4 += ch\n",
    "                occurrences += len([i == target_seq for i in (hr, hl, vu, vd, d1, d2, d3, d4)])\n",
    "    return occurrences"
   ]
  },
  {
   "cell_type": "code",
   "execution_count": 12,
   "id": "7932ee9c-a94f-4958-a986-c6060a831997",
   "metadata": {},
   "outputs": [
    {
     "data": {
      "text/plain": [
       "152"
      ]
     },
     "execution_count": 12,
     "metadata": {},
     "output_type": "execute_result"
    }
   ],
   "source": [
    "mat_find_strseq(matrix, target_seq)"
   ]
  },
  {
   "cell_type": "code",
   "execution_count": null,
   "id": "8c93f5d1-58db-45b2-9cbf-fb76dbd5e8ae",
   "metadata": {},
   "outputs": [],
   "source": []
  }
 ],
 "metadata": {
  "kernelspec": {
   "display_name": "Python 3 (ipykernel)",
   "language": "python",
   "name": "python3"
  },
  "language_info": {
   "codemirror_mode": {
    "name": "ipython",
    "version": 3
   },
   "file_extension": ".py",
   "mimetype": "text/x-python",
   "name": "python",
   "nbconvert_exporter": "python",
   "pygments_lexer": "ipython3",
   "version": "3.12.8"
  }
 },
 "nbformat": 4,
 "nbformat_minor": 5
}
