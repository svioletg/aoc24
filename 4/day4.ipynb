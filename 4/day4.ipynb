{
 "cells": [
  {
   "cell_type": "code",
   "execution_count": 1,
   "id": "55f78006-59ea-4f41-a38f-971fa4eced1d",
   "metadata": {},
   "outputs": [],
   "source": [
    "from collections.abc import Sequence\n",
    "import sys\n",
    "from typing import Any\n",
    "\n",
    "sys.path.append('../utils')\n",
    "from pyutils import *\n",
    "\n",
    "import colorama\n",
    "from colorama import Fore, Back, Style"
   ]
  },
  {
   "cell_type": "code",
   "execution_count": 2,
   "id": "d563e279-2f35-4415-8571-df87d56a35d4",
   "metadata": {},
   "outputs": [],
   "source": [
    "sample = readutf8('sample.txt')"
   ]
  },
  {
   "cell_type": "code",
   "execution_count": 3,
   "id": "fd69068e-750b-4e67-be4d-5a14f36ddc6f",
   "metadata": {},
   "outputs": [],
   "source": [
    "puzzle = readutf8('input.txt')"
   ]
  },
  {
   "cell_type": "code",
   "execution_count": 4,
   "id": "8262da22-c59e-499a-85b3-51d21276deb8",
   "metadata": {},
   "outputs": [],
   "source": [
    "target_seq = 'XMAS'"
   ]
  },
  {
   "cell_type": "code",
   "execution_count": 5,
   "id": "fc601dc3-5f7e-4f95-9602-62f3ce7b9894",
   "metadata": {},
   "outputs": [],
   "source": [
    "def word_search(mat: StrMatrix, target: Sequence) -> int:\n",
    "    found: list = []\n",
    "    def find_next(pt: Point, direction: Point, seq_idx: int) -> int:\n",
    "        adj = points_adjacent(pt, mat, relative=True)\n",
    "        for adj_pt, val in adj.items():\n",
    "            if adj_pt == (0, 0):\n",
    "                continue\n",
    "            if adj_pt == direction or direction == (0, 0):\n",
    "                if val == target[seq_idx + 1]:\n",
    "                    if val == target[-1]:\n",
    "                        # Initially `found` was just an integer, but even using `nonlocal` adding to it won't affect it\n",
    "                        # So it has to be a list, that way it's a reference\n",
    "                        found.append(1)\n",
    "                        return\n",
    "                    find_next(point_op(add, pt, adj_pt), adj_pt, seq_idx + 1)\n",
    "\n",
    "    for ridx, row in enumerate(mat):\n",
    "        for cidx, column in enumerate(row):\n",
    "            if column == target[0]:\n",
    "                find_next((ridx, cidx), (0, 0), 0)\n",
    "    return len(found)"
   ]
  },
  {
   "cell_type": "code",
   "execution_count": 6,
   "id": "1a7fd295-cedf-4325-9a86-bdd60921d026",
   "metadata": {},
   "outputs": [],
   "source": [
    "def x_search(mat: StrMatrix, target: Sequence) -> int:\n",
    "    assert(len(target) == 3)\n",
    "    found: int = 0\n",
    "\n",
    "    for ridx, row in enumerate(mat):\n",
    "        for cidx, column in enumerate(row):\n",
    "            if column == target[len(target) // 2]:\n",
    "                adj = points_adjacent((ridx, cidx), mat, relative=True, corners=True)\n",
    "                corners: dict[Point, str] = {k:v for k, v in adj.items() if k in [(-1, -1), (-1, 1), (1, -1), (1, 1)]}\n",
    "                cornervals: list[str] = list(corners.values())\n",
    "                if None in cornervals:\n",
    "                    continue\n",
    "                if not (cornervals.count(target[0]) == 2 and cornervals.count(target[-1]) == 2):\n",
    "                    continue\n",
    "                if (corners[(-1, -1)] == corners[(-1, 1)]) or (corners[(-1, -1)] == corners[(1, -1)]):\n",
    "                    found += 1\n",
    "    \n",
    "    return found            "
   ]
  },
  {
   "cell_type": "code",
   "execution_count": 10,
   "id": "8ce967f2-d7e4-466a-a69a-136f5cfd29cd",
   "metadata": {},
   "outputs": [],
   "source": [
    "matrix: StrMatrix = strtomat(puzzle.strip())"
   ]
  },
  {
   "cell_type": "code",
   "execution_count": 11,
   "id": "d5d16207-767a-499e-9c45-e4f67b4b5f26",
   "metadata": {},
   "outputs": [
    {
     "name": "stdout",
     "output_type": "stream",
     "text": [
      "2532\n"
     ]
    }
   ],
   "source": [
    "print(word_search(matrix, 'XMAS'))"
   ]
  },
  {
   "cell_type": "code",
   "execution_count": 12,
   "id": "ef31e618-e82b-4637-98ef-756bbcbe0a90",
   "metadata": {},
   "outputs": [
    {
     "name": "stdout",
     "output_type": "stream",
     "text": [
      "1941\n"
     ]
    }
   ],
   "source": [
    "print(x_search(matrix, 'MAS'))"
   ]
  },
  {
   "cell_type": "code",
   "execution_count": null,
   "id": "0c06d413-47ea-47ff-8d6b-c9f82f2790b7",
   "metadata": {},
   "outputs": [],
   "source": []
  }
 ],
 "metadata": {
  "kernelspec": {
   "display_name": "Python 3 (ipykernel)",
   "language": "python",
   "name": "python3"
  },
  "language_info": {
   "codemirror_mode": {
    "name": "ipython",
    "version": 3
   },
   "file_extension": ".py",
   "mimetype": "text/x-python",
   "name": "python",
   "nbconvert_exporter": "python",
   "pygments_lexer": "ipython3",
   "version": "3.12.8"
  }
 },
 "nbformat": 4,
 "nbformat_minor": 5
}
