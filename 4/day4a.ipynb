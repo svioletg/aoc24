{
 "cells": [
  {
   "cell_type": "code",
   "execution_count": 18,
   "id": "55f78006-59ea-4f41-a38f-971fa4eced1d",
   "metadata": {},
   "outputs": [],
   "source": [
    "from collections.abc import Iterable\n",
    "import sys\n",
    "from typing import Any\n",
    "\n",
    "sys.path.append('../utils')\n",
    "from pyutils import *\n",
    "\n",
    "import colorama\n",
    "from colorama import Fore, Back, Style"
   ]
  },
  {
   "cell_type": "code",
   "execution_count": 19,
   "id": "d563e279-2f35-4415-8571-df87d56a35d4",
   "metadata": {},
   "outputs": [],
   "source": [
    "sample=\"\"\"MMMSXXMASM\n",
    "MSAMXMSMSA\n",
    "AMXSXMAAMM\n",
    "MSAMASMSMX\n",
    "XMASAMXAMM\n",
    "XXAMMXXAMA\n",
    "SMSMSASXSS\n",
    "SAXAMASAAA\n",
    "MAMMMXMMMM\n",
    "MXMXAXMASX\n",
    "\"\"\""
   ]
  },
  {
   "cell_type": "code",
   "execution_count": 20,
   "id": "fd69068e-750b-4e67-be4d-5a14f36ddc6f",
   "metadata": {},
   "outputs": [],
   "source": [
    "with open('input.txt', 'r', encoding='utf-8') as f:\n",
    "    puzzle = f.read()"
   ]
  },
  {
   "cell_type": "code",
   "execution_count": 21,
   "id": "8262da22-c59e-499a-85b3-51d21276deb8",
   "metadata": {},
   "outputs": [],
   "source": [
    "target_seq = 'XMAS'"
   ]
  },
  {
   "cell_type": "code",
   "execution_count": 22,
   "id": "8ce967f2-d7e4-466a-a69a-136f5cfd29cd",
   "metadata": {},
   "outputs": [],
   "source": [
    "matrix: StrMatrix = strtomat(sample.strip())"
   ]
  },
  {
   "cell_type": "code",
   "execution_count": 17,
   "id": "1d4242f0-6e5b-44f1-92da-2c0112a64d5f",
   "metadata": {},
   "outputs": [
    {
     "data": {
      "text/plain": [
       "[['M', 'M', 'M', 'S', 'X', 'X', 'M', 'A', 'S', 'M'],\n",
       " ['M', 'S', 'A', 'M', 'X', 'M', 'S', 'M', 'S', 'A'],\n",
       " ['A', 'M', 'X', 'S', 'X', 'M', 'A', 'A', 'M', 'M'],\n",
       " ['M', 'S', 'A', 'M', 'A', 'S', 'M', 'S', 'M', 'X'],\n",
       " ['X', 'M', 'A', 'S', 'A', 'M', 'X', 'A', 'M', 'M'],\n",
       " ['X', 'X', 'A', 'M', 'M', 'X', 'X', 'A', 'M', 'A'],\n",
       " ['S', 'M', 'S', 'M', 'S', 'A', 'S', 'X', 'S', 'S'],\n",
       " ['S', 'A', 'X', 'A', 'M', 'A', 'S', 'A', 'A', 'A'],\n",
       " ['M', 'A', 'M', 'M', 'M', 'X', 'M', 'M', 'M', 'M'],\n",
       " ['M', 'X', 'M', 'X', 'A', 'X', 'M', 'A', 'S', 'X']]"
      ]
     },
     "execution_count": 17,
     "metadata": {},
     "output_type": "execute_result"
    }
   ],
   "source": [
    "def find_seqs(mat: Matrix, seq: Iterable):\n",
    "    found: list[list[Point]] = []\n",
    "    def _find_next(pt: Point, n: int):\n",
    "        adj: dict[Point, Any] = points_adjacent(pt, mat)\n",
    "        branches: list[Point] = [k for k, v in adj.items() if v == seq[n + 1]]\n",
    "        if not branches:\n",
    "            if matget(mat, pt) == seq[-1]:\n",
    "                found.append(path)\n",
    "            path.clear()\n",
    "\n",
    "    path: list[Point] = []\n",
    "    last_dir: Point = (0, 0)\n",
    "    for pt, val in mat_iter(mat):\n",
    "        if val == seq[0]:\n",
    "            _find_next(pt, 0)"
   ]
  },
  {
   "cell_type": "code",
   "execution_count": null,
   "id": "fc601dc3-5f7e-4f95-9602-62f3ce7b9894",
   "metadata": {},
   "outputs": [],
   "source": []
  }
 ],
 "metadata": {
  "kernelspec": {
   "display_name": "Python 3 (ipykernel)",
   "language": "python",
   "name": "python3"
  },
  "language_info": {
   "codemirror_mode": {
    "name": "ipython",
    "version": 3
   },
   "file_extension": ".py",
   "mimetype": "text/x-python",
   "name": "python",
   "nbconvert_exporter": "python",
   "pygments_lexer": "ipython3",
   "version": "3.12.8"
  }
 },
 "nbformat": 4,
 "nbformat_minor": 5
}
