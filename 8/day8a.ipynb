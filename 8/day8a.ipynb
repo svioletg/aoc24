{
 "cells": [
  {
   "cell_type": "code",
   "execution_count": 1,
   "id": "041bf840-238c-4732-8598-3016dd66764a",
   "metadata": {},
   "outputs": [],
   "source": [
    "import re\n",
    "import sys\n",
    "from colorama import Fore, Back, Style\n",
    "from copy import deepcopy\n",
    "from typing import TypedDict\n",
    "import time\n",
    "\n",
    "sys.path.append('../utils')\n",
    "from pyutils import *"
   ]
  },
  {
   "cell_type": "code",
   "execution_count": 2,
   "id": "60ae1dac-e4ff-4147-8855-f37dbb48a927",
   "metadata": {},
   "outputs": [],
   "source": [
    "sample=\"\"\"............\n",
    "........0...\n",
    ".....0......\n",
    ".......0....\n",
    "....0.......\n",
    "......A.....\n",
    "............\n",
    "............\n",
    "........A...\n",
    ".........A..\n",
    "............\n",
    "............\"\"\".replace('#', '.')"
   ]
  },
  {
   "cell_type": "code",
   "execution_count": 3,
   "id": "ad90584f-64c6-42c5-bf7f-edbeb584f2b3",
   "metadata": {},
   "outputs": [],
   "source": [
    "with open('input.txt', 'r', encoding='utf-8') as f:\n",
    "    content = f.read().strip()"
   ]
  },
  {
   "cell_type": "code",
   "execution_count": 4,
   "id": "e70146a4-3616-48c7-b009-29e227000db5",
   "metadata": {},
   "outputs": [],
   "source": [
    "matrix = strtomat(content)"
   ]
  },
  {
   "cell_type": "code",
   "execution_count": 5,
   "id": "be973cf7-ba95-47a7-86a1-db43f1db6234",
   "metadata": {},
   "outputs": [],
   "source": [
    "def find_antennas(mat: StrMatrix) -> list[Point]:\n",
    "    antpts: dict[Point, str] = {}\n",
    "    for row, _ in enumerate(mat):\n",
    "        for col, _ in enumerate(mat[row]):\n",
    "            if ant := re.findall(r\"[\\da-zA-Z]\", mat[row][col]):\n",
    "                antpts[(row, col)] = ant[0]\n",
    "    return antpts"
   ]
  },
  {
   "cell_type": "code",
   "execution_count": 6,
   "id": "c6c59239-698f-43b3-a08c-9e29323fa135",
   "metadata": {},
   "outputs": [],
   "source": [
    "def find_antinodes(mat: StrMatrix, antennas: dict[Point, str],\n",
    "       allow_oob: bool = False,\n",
    "       show: bool = False):\n",
    "    antinodes: list[Point] = []\n",
    "    for pt1, freq1 in antennas.items():\n",
    "        if show:\n",
    "            prev1 = matget(mat, pt1)\n",
    "            matset(mat, pt1, colored(prev1, 'white on red'))\n",
    "        for pt2, freq2 in antennas.items():\n",
    "            if pt1 == pt2:\n",
    "                continue\n",
    "            if show:\n",
    "                prev2 = matget(mat, pt2)\n",
    "                matset(mat, pt2, colored(prev2, 'white on blue'))\n",
    "                clear_output(wait=True)\n",
    "                print(mat_restring(mat))\n",
    "                print(pt1, freq1, pt2, freq2, point_op(sub, pt2, pt1), freq1 == freq2)\n",
    "                time.sleep(0.01)\n",
    "            if freq1 == freq2:\n",
    "                antipt = point_op(add, pt2, point_op(sub, pt2, pt1))\n",
    "                if allow_oob or (\n",
    "                    (antipt[0] in range(0, len(mat))) \\\n",
    "                    and (antipt[1] in range(0, len(mat[0])))\n",
    "                ):\n",
    "                    antinodes.append(antipt)\n",
    "                if show:\n",
    "                    if (antipt[0] in range(0, len(mat))) and (antipt[1] in range(0, len(mat[0]))):\n",
    "                        matset(mat, antipt, colored('#', 'white on green'))\n",
    "                        clear_output(wait=True)\n",
    "                        print(mat_restring(mat))\n",
    "                        print(pt1, freq1, pt2, freq2, point_op(sub, pt2, pt1), freq1 == freq2)\n",
    "                        time.sleep(0.01)\n",
    "            if show:\n",
    "                matset(mat, pt2, prev2)\n",
    "        if show:\n",
    "            matset(mat, pt1, prev1)\n",
    "    return antinodes"
   ]
  },
  {
   "cell_type": "code",
   "execution_count": 7,
   "id": "3eb28763-2117-484a-9374-4e021b36c5af",
   "metadata": {},
   "outputs": [
    {
     "name": "stdout",
     "output_type": "stream",
     "text": [
      "Found 392 in 0.00301\n"
     ]
    }
   ],
   "source": [
    "ants = find_antennas(matrix)\n",
    "ta = time.perf_counter()\n",
    "antinodes = find_antinodes(matrix, ants, show=False)\n",
    "tb = time.perf_counter()\n",
    "print(f'Found {len(set(antinodes))} in {tb - ta:.05f}')"
   ]
  },
  {
   "cell_type": "code",
   "execution_count": null,
   "id": "655a5411-8df0-4430-b989-4c61282d6f4b",
   "metadata": {},
   "outputs": [],
   "source": []
  }
 ],
 "metadata": {
  "kernelspec": {
   "display_name": "Python 3 (ipykernel)",
   "language": "python",
   "name": "python3"
  },
  "language_info": {
   "codemirror_mode": {
    "name": "ipython",
    "version": 3
   },
   "file_extension": ".py",
   "mimetype": "text/x-python",
   "name": "python",
   "nbconvert_exporter": "python",
   "pygments_lexer": "ipython3",
   "version": "3.12.8"
  }
 },
 "nbformat": 4,
 "nbformat_minor": 5
}
