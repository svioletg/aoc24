{
 "cells": [
  {
   "cell_type": "code",
   "execution_count": 1,
   "id": "041bf840-238c-4732-8598-3016dd66764a",
   "metadata": {},
   "outputs": [],
   "source": [
    "import re\n",
    "import sys\n",
    "from colorama import Fore, Back, Style\n",
    "from copy import deepcopy\n",
    "from typing import TypedDict\n",
    "import time\n",
    "\n",
    "sys.path.append('../utils')\n",
    "from pyutils import *"
   ]
  },
  {
   "cell_type": "code",
   "execution_count": 2,
   "id": "60ae1dac-e4ff-4147-8855-f37dbb48a927",
   "metadata": {},
   "outputs": [],
   "source": [
    "sample=\"\"\"............\n",
    "........0...\n",
    ".....0......\n",
    ".......0....\n",
    "....0.......\n",
    "......A.....\n",
    "............\n",
    "............\n",
    "........A...\n",
    ".........A..\n",
    "............\n",
    "............\"\"\".replace('#', '.')"
   ]
  },
  {
   "cell_type": "code",
   "execution_count": 3,
   "id": "ad90584f-64c6-42c5-bf7f-edbeb584f2b3",
   "metadata": {},
   "outputs": [],
   "source": [
    "with open('input.txt', 'r', encoding='utf-8') as f:\n",
    "    puzzle = f.read().strip()"
   ]
  },
  {
   "cell_type": "code",
   "execution_count": 4,
   "id": "e70146a4-3616-48c7-b009-29e227000db5",
   "metadata": {},
   "outputs": [],
   "source": [
    "matrix = strtomat(puzzle)"
   ]
  },
  {
   "cell_type": "code",
   "execution_count": 5,
   "id": "be973cf7-ba95-47a7-86a1-db43f1db6234",
   "metadata": {},
   "outputs": [],
   "source": [
    "def find_antennas(mat: StrMatrix) -> list[Point]:\n",
    "    antpts: dict[Point, str] = {}\n",
    "    for row, _ in enumerate(mat):\n",
    "        for col, _ in enumerate(mat[row]):\n",
    "            if ant := re.findall(r\"[\\da-zA-Z]\", mat[row][col]):\n",
    "                antpts[(row, col)] = ant[0]\n",
    "    return antpts"
   ]
  },
  {
   "cell_type": "code",
   "execution_count": 6,
   "id": "c6c59239-698f-43b3-a08c-9e29323fa135",
   "metadata": {},
   "outputs": [],
   "source": [
    "def find_antinodes(mat: StrMatrix, antennas: dict[Point, str],\n",
    "        show: bool = False\n",
    "    ) -> list[Point]:\n",
    "    antinodes: list[Point] = []\n",
    "    for pt1, freq1 in antennas.items():\n",
    "        for pt2, freq2 in antennas.items():\n",
    "            if pt1 == pt2:\n",
    "                continue\n",
    "            if freq1 == freq2:\n",
    "                antinodes.extend(traverse_matrix(mat, pt2, point_op(sub, pt1, pt2), bidi=True))\n",
    "    antinodes = list(set(antinodes))\n",
    "    return antinodes"
   ]
  },
  {
   "cell_type": "code",
   "execution_count": 7,
   "id": "3eb28763-2117-484a-9374-4e021b36c5af",
   "metadata": {},
   "outputs": [
    {
     "name": "stdout",
     "output_type": "stream",
     "text": [
      "Found 1235 in 0.01040\n"
     ]
    }
   ],
   "source": [
    "ants = find_antennas(matrix)\n",
    "ta = time.perf_counter()\n",
    "antinodes = find_antinodes(matrix, ants, show=False)\n",
    "tb = time.perf_counter()\n",
    "print(f'Found {len(set(antinodes))} in {tb - ta:.05f}')"
   ]
  },
  {
   "cell_type": "code",
   "execution_count": null,
   "id": "f0666927-f2fd-4bd5-b923-89b6fbbfbe88",
   "metadata": {},
   "outputs": [],
   "source": []
  }
 ],
 "metadata": {
  "kernelspec": {
   "display_name": "Python 3 (ipykernel)",
   "language": "python",
   "name": "python3"
  },
  "language_info": {
   "codemirror_mode": {
    "name": "ipython",
    "version": 3
   },
   "file_extension": ".py",
   "mimetype": "text/x-python",
   "name": "python",
   "nbconvert_exporter": "python",
   "pygments_lexer": "ipython3",
   "version": "3.12.8"
  }
 },
 "nbformat": 4,
 "nbformat_minor": 5
}
