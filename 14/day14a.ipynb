{
 "cells": [
  {
   "cell_type": "code",
   "execution_count": 1,
   "id": "26a48626-dffb-43ef-85b8-64a7ba4d51e2",
   "metadata": {},
   "outputs": [],
   "source": [
    "import sys\n",
    "import re\n",
    "from dataclasses import dataclass\n",
    "from functools import reduce\n",
    "from operator import mul\n",
    "\n",
    "sys.path.append('../utils')\n",
    "from pyutils import *"
   ]
  },
  {
   "cell_type": "code",
   "execution_count": 2,
   "id": "f9896fb8-a7c4-447e-ac58-31509020bea7",
   "metadata": {},
   "outputs": [],
   "source": [
    "puzzle = readutf8('input.txt')\n",
    "rmsize_puzzle = (101, 103)"
   ]
  },
  {
   "cell_type": "code",
   "execution_count": 3,
   "id": "2169db3e-3a49-46ec-8df9-fb0e841353d4",
   "metadata": {},
   "outputs": [],
   "source": [
    "sample = readutf8('sample.txt')\n",
    "rmsize_sample = (11, 7)"
   ]
  },
  {
   "cell_type": "code",
   "execution_count": 28,
   "id": "54fd69be-357a-49bb-9653-0390f5954606",
   "metadata": {},
   "outputs": [],
   "source": [
    "@dataclass\n",
    "class Robot:\n",
    "    pos: Point\n",
    "    vel: Point\n",
    "\n",
    "class RobotRoom:\n",
    "    ROBOT_REGEX = re.compile(r\"[pv]=(\\d+|-\\d+),(\\d+|-\\d+)\")\n",
    "    def __init__(self, robot_string: list[str], w: int, h: int):\n",
    "        self.robots: list[Robot] = []\n",
    "        for line in robot_string.split('\\n'):\n",
    "            if matches := self.ROBOT_REGEX.findall(line):\n",
    "                self.robots.append(Robot(*[tuple(map(int, g)) for g in matches]))\n",
    "        self.w: int = w\n",
    "        self.h: int = h\n",
    "    \n",
    "    def count_robots(self) -> dict[Point, int]:\n",
    "        count: dict[Point, int] = {}\n",
    "        for rob in self.robots:\n",
    "            if rob.pos not in count:\n",
    "                count[rob.pos] = 0\n",
    "            count[rob.pos] += 1\n",
    "        return count\n",
    "\n",
    "    def advance_sec(self):\n",
    "        for rob in self.robots:\n",
    "            future = list(point_op(add, rob.pos, rob.vel))\n",
    "            if future[0] < 0:\n",
    "                future[0] += self.w\n",
    "            if future[0] >= self.w:\n",
    "                future[0] -= self.w\n",
    "            if future[1] < 0:\n",
    "                future[1] += self.h\n",
    "            if future[1] >= self.h:\n",
    "                future[1] -= self.h\n",
    "            rob.pos = tuple(future)\n",
    "\n",
    "    def safety_factor(self) -> int:\n",
    "        topleft     = range(0, floor(self.w / 2)),          range(0, floor(self.h / 2))\n",
    "        topright    = range(floor(self.w / 2) + 1, self.w), range(0, floor(self.h / 2))\n",
    "        bottomleft  = range(0, floor(self.w / 2)),          range(floor(self.h / 2) + 1, self.h)\n",
    "        bottomright = range(floor(self.w / 2) + 1, self.w), range(floor(self.h / 2) + 1, self.h)\n",
    "        quadrant_counts: list[int] = [0, 0, 0, 0]\n",
    "        for n, quadrange in enumerate((topleft, topright, bottomleft, bottomright)):\n",
    "            for rob in self.robots:\n",
    "                if rob.pos[0] in quadrange[0] and rob.pos[1] in quadrange[1]:\n",
    "                    quadrant_counts[n] += 1\n",
    "        return reduce(mul, quadrant_counts)"
   ]
  },
  {
   "cell_type": "code",
   "execution_count": 29,
   "id": "0ad3c3a7-a9a9-4006-be78-1a81fad69659",
   "metadata": {},
   "outputs": [],
   "source": [
    "rm = RobotRoom(puzzle, *rmsize_puzzle)"
   ]
  },
  {
   "cell_type": "code",
   "execution_count": 30,
   "id": "3a868da7-e89f-4ad4-8bab-b8ab14a8781d",
   "metadata": {},
   "outputs": [],
   "source": [
    "for _ in range(100):\n",
    "    rm.advance_sec()"
   ]
  },
  {
   "cell_type": "code",
   "execution_count": 31,
   "id": "05f919ab-bd70-48bf-b13d-d46fc2bc545e",
   "metadata": {},
   "outputs": [
    {
     "data": {
      "text/plain": [
       "224554908"
      ]
     },
     "execution_count": 31,
     "metadata": {},
     "output_type": "execute_result"
    }
   ],
   "source": [
    "rm.safety_factor()"
   ]
  },
  {
   "cell_type": "code",
   "execution_count": null,
   "id": "43aba323-b7ca-401f-a825-c953899beb22",
   "metadata": {},
   "outputs": [],
   "source": []
  }
 ],
 "metadata": {
  "kernelspec": {
   "display_name": "Python 3 (ipykernel)",
   "language": "python",
   "name": "python3"
  },
  "language_info": {
   "codemirror_mode": {
    "name": "ipython",
    "version": 3
   },
   "file_extension": ".py",
   "mimetype": "text/x-python",
   "name": "python",
   "nbconvert_exporter": "python",
   "pygments_lexer": "ipython3",
   "version": "3.12.8"
  }
 },
 "nbformat": 4,
 "nbformat_minor": 5
}
