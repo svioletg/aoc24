{
 "cells": [
  {
   "cell_type": "code",
   "execution_count": 1,
   "id": "26a48626-dffb-43ef-85b8-64a7ba4d51e2",
   "metadata": {},
   "outputs": [],
   "source": [
    "import sys\n",
    "import re\n",
    "from dataclasses import dataclass\n",
    "\n",
    "sys.path.append('../utils')\n",
    "from pyutils import *"
   ]
  },
  {
   "cell_type": "code",
   "execution_count": 2,
   "id": "f9896fb8-a7c4-447e-ac58-31509020bea7",
   "metadata": {},
   "outputs": [],
   "source": [
    "puzzle = readutf8('input.txt')\n",
    "rmsize_puzzle = (101, 103)"
   ]
  },
  {
   "cell_type": "code",
   "execution_count": 3,
   "id": "2169db3e-3a49-46ec-8df9-fb0e841353d4",
   "metadata": {},
   "outputs": [],
   "source": [
    "sample = \"\"\"p=0,4 v=3,-3\n",
    "p=6,3 v=-1,-3\n",
    "p=10,3 v=-1,2\n",
    "p=2,0 v=2,-1\n",
    "p=0,0 v=1,3\n",
    "p=3,0 v=-2,-2\n",
    "p=7,6 v=-1,-3\n",
    "p=3,0 v=-1,-2\n",
    "p=9,3 v=2,3\n",
    "p=7,3 v=-1,2\n",
    "p=2,4 v=2,-3\n",
    "p=9,5 v=-3,-3\n",
    "\"\"\"\n",
    "rmsize_sample = (11, 7)"
   ]
  },
  {
   "cell_type": "code",
   "execution_count": 4,
   "id": "54fd69be-357a-49bb-9653-0390f5954606",
   "metadata": {},
   "outputs": [],
   "source": [
    "@dataclass\n",
    "class Robot:\n",
    "    pos: Point\n",
    "    vel: Point\n",
    "\n",
    "class RobotRoom:\n",
    "    ROBOT_REGEX = re.compile(r\"[pv]=(\\d+|-\\d+),(\\d+|-\\d+)\")\n",
    "    def __init__(self, robot_string: list[str], w: int, h: int):\n",
    "        self.robots: list[Robot] = []\n",
    "        for line in robot_string.split('\\n'):\n",
    "            if matches := self.ROBOT_REGEX.findall(line):\n",
    "                self.robots.append(Robot(*[tuple(map(int, g)) for g in matches]))\n",
    "        self.w: int = w\n",
    "        self.h: int = h\n",
    "    \n",
    "    def count_robots(self) -> dict[Point, int]:\n",
    "        count: dict[Point, int] = {}\n",
    "        for rob in self.robots:\n",
    "            if rob.pos not in count:\n",
    "                count[rob.pos] = 0\n",
    "            count[rob.pos] += 1\n",
    "        return count\n",
    "\n",
    "    def advance_sec(self):\n",
    "        for rob in self.robots:\n",
    "            future = list(point_op(add, rob.pos, rob.vel))\n",
    "            if future[0] < 0:\n",
    "                future[0] += self.w\n",
    "            if future[0] >= self.w:\n",
    "                future[0] -= self.w\n",
    "            if future[1] < 0:\n",
    "                future[1] += self.h\n",
    "            if future[1] >= self.h:\n",
    "                future[1] -= self.h\n",
    "            rob.pos = tuple(future)"
   ]
  },
  {
   "cell_type": "code",
   "execution_count": 5,
   "id": "0ad3c3a7-a9a9-4006-be78-1a81fad69659",
   "metadata": {},
   "outputs": [],
   "source": [
    "rm = RobotRoom(sample, *rmsize_sample)"
   ]
  },
  {
   "cell_type": "code",
   "execution_count": 6,
   "id": "8457fcc7-a618-43a8-8bb0-e5528bf40ae8",
   "metadata": {},
   "outputs": [
    {
     "data": {
      "text/plain": [
       "[Robot(pos=(0, 4), vel=(3, -3)),\n",
       " Robot(pos=(6, 3), vel=(-1, -3)),\n",
       " Robot(pos=(10, 3), vel=(-1, 2)),\n",
       " Robot(pos=(2, 0), vel=(2, -1)),\n",
       " Robot(pos=(0, 0), vel=(1, 3)),\n",
       " Robot(pos=(3, 0), vel=(-2, -2)),\n",
       " Robot(pos=(7, 6), vel=(-1, -3)),\n",
       " Robot(pos=(3, 0), vel=(-1, -2)),\n",
       " Robot(pos=(9, 3), vel=(2, 3)),\n",
       " Robot(pos=(7, 3), vel=(-1, 2)),\n",
       " Robot(pos=(2, 4), vel=(2, -3)),\n",
       " Robot(pos=(9, 5), vel=(-3, -3))]"
      ]
     },
     "execution_count": 6,
     "metadata": {},
     "output_type": "execute_result"
    }
   ],
   "source": [
    "rm.robots"
   ]
  },
  {
   "cell_type": "code",
   "execution_count": 7,
   "id": "3a868da7-e89f-4ad4-8bab-b8ab14a8781d",
   "metadata": {},
   "outputs": [],
   "source": [
    "while _ in range(100): rm.advance_sec()"
   ]
  },
  {
   "cell_type": "code",
   "execution_count": 8,
   "id": "a2bc2320-90ce-47e7-bf74-4d4f9e63ba42",
   "metadata": {},
   "outputs": [
    {
     "data": {
      "text/plain": [
       "{(0, 4): 1,\n",
       " (6, 3): 1,\n",
       " (10, 3): 1,\n",
       " (2, 0): 1,\n",
       " (0, 0): 1,\n",
       " (3, 0): 2,\n",
       " (7, 6): 1,\n",
       " (9, 3): 1,\n",
       " (7, 3): 1,\n",
       " (2, 4): 1,\n",
       " (9, 5): 1}"
      ]
     },
     "execution_count": 8,
     "metadata": {},
     "output_type": "execute_result"
    }
   ],
   "source": [
    "rm.count_robots()"
   ]
  },
  {
   "cell_type": "code",
   "execution_count": null,
   "id": "05f919ab-bd70-48bf-b13d-d46fc2bc545e",
   "metadata": {},
   "outputs": [],
   "source": []
  }
 ],
 "metadata": {
  "kernelspec": {
   "display_name": "Python 3 (ipykernel)",
   "language": "python",
   "name": "python3"
  },
  "language_info": {
   "codemirror_mode": {
    "name": "ipython",
    "version": 3
   },
   "file_extension": ".py",
   "mimetype": "text/x-python",
   "name": "python",
   "nbconvert_exporter": "python",
   "pygments_lexer": "ipython3",
   "version": "3.12.8"
  }
 },
 "nbformat": 4,
 "nbformat_minor": 5
}
