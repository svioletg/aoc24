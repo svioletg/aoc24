{
 "cells": [
  {
   "cell_type": "markdown",
   "id": "9a8016a0-1e01-412e-aff3-02094896c500",
   "metadata": {},
   "source": [
    "# Setup"
   ]
  },
  {
   "cell_type": "code",
   "execution_count": 1,
   "id": "b6eb6cfb-f052-4328-aaad-8d088dff112e",
   "metadata": {},
   "outputs": [],
   "source": [
    "import sys\n",
    "import time\n",
    "\n",
    "sys.path.append('../utils')\n",
    "from pyutils import *"
   ]
  },
  {
   "cell_type": "code",
   "execution_count": 2,
   "id": "0204ff71-8245-417d-b014-32b0d3f34574",
   "metadata": {},
   "outputs": [],
   "source": [
    "sample=\"2333133121414131402\""
   ]
  },
  {
   "cell_type": "code",
   "execution_count": 3,
   "id": "dbd0134b-d413-4a39-96c5-8a2447802365",
   "metadata": {},
   "outputs": [],
   "source": [
    "with open('input.txt', 'r', encoding='utf-8') as f:\n",
    "    puzzle = f.read()"
   ]
  },
  {
   "cell_type": "code",
   "execution_count": 4,
   "id": "881a0aa9-27ba-4ea9-b316-6290a441d94b",
   "metadata": {},
   "outputs": [],
   "source": [
    "def read_diskmap(dm: str) -> list[int]:\n",
    "    processed: list[str] = []\n",
    "    mode: int = 1 # 1 == file, -1 == free space\n",
    "    files: int = -1\n",
    "    for digit in dm:\n",
    "        if not digit.isnumeric():\n",
    "            continue\n",
    "        digit = int(digit)\n",
    "        if mode == 1:\n",
    "            files += 1\n",
    "            processed.extend([files] * digit)\n",
    "        elif mode == -1:\n",
    "            processed.extend([-1] * digit)\n",
    "        mode *= -1\n",
    "    return processed"
   ]
  },
  {
   "cell_type": "code",
   "execution_count": 61,
   "id": "b787bb07-73f6-4afa-aec3-56892e578d6f",
   "metadata": {},
   "outputs": [],
   "source": [
    "def block_report(d: list[int]):\n",
    "    groups = {'used': {}, 'free': {}}\n",
    "    freeblock = 0\n",
    "    for n, fid in enumerate(d):\n",
    "        if fid == -1:\n",
    "            freeblock += 1\n",
    "        else:\n",
    "            if freeblock > 0:\n",
    "                groups['free'][n - freeblock] = freeblock\n",
    "                freeblock = 0\n",
    "            if fid not in groups['used']:\n",
    "                groups['used'][fid] = []\n",
    "            groups['used'][fid].append(fid)\n",
    "    return groups"
   ]
  },
  {
   "cell_type": "code",
   "execution_count": 5,
   "id": "316cc17f-6eae-427f-9ad4-790fa3760fb0",
   "metadata": {},
   "outputs": [],
   "source": [
    "def optimize_disk(d: list[int]) -> list[int]:\n",
    "    d = d.copy()\n",
    "    for n in range(len(d)):\n",
    "        n = abs(n - len(d)) - 1\n",
    "        if d[n] != -1:\n",
    "            leftmost_free = d.index(-1)\n",
    "            if leftmost_free > n:\n",
    "                # All sorted, no more work to do\n",
    "                break\n",
    "            d[leftmost_free], d[n] = d[n], d[leftmost_free]\n",
    "    return d"
   ]
  },
  {
   "cell_type": "code",
   "execution_count": 6,
   "id": "19af3c24-023a-4c71-b82d-dfc80d17f016",
   "metadata": {},
   "outputs": [],
   "source": [
    "def calc_disk_checksum(d: list[int], show: bool=False) -> str:\n",
    "    chsum: int = 0\n",
    "    for n, digit in enumerate(d):\n",
    "        if show:\n",
    "            time.sleep(0.005)\n",
    "            clear_output(wait=True)\n",
    "            print(f'{repr(n):^8}{repr(digit):^8}{chsum}')\n",
    "        if digit == -1:\n",
    "            break\n",
    "        chsum += n * digit\n",
    "    return chsum"
   ]
  },
  {
   "cell_type": "markdown",
   "id": "b0f71fec-c9f8-4214-9355-c141f1490105",
   "metadata": {},
   "source": [
    "# Solve"
   ]
  },
  {
   "cell_type": "code",
   "execution_count": 15,
   "id": "ab9c804d-495c-44c1-a035-dd2777fdd2ed",
   "metadata": {},
   "outputs": [],
   "source": [
    "disk: list[int] = read_diskmap(sample)"
   ]
  },
  {
   "cell_type": "code",
   "execution_count": 16,
   "id": "e9117118-f0e1-4ebb-a475-13aa1e1c7bab",
   "metadata": {},
   "outputs": [
    {
     "name": "stdout",
     "output_type": "stream",
     "text": [
      "Optimized disk of length 42 in 0.00006s\n"
     ]
    }
   ],
   "source": [
    "ta = time.perf_counter()\n",
    "optimized = optimize_disk(disk)\n",
    "tb = time.perf_counter()\n",
    "print(f'Optimized disk of length {len(optimized)} in {tb - ta:.05f}s')"
   ]
  },
  {
   "cell_type": "code",
   "execution_count": 17,
   "id": "532e4734-3e89-4126-9b45-a4d2b433ee90",
   "metadata": {},
   "outputs": [
    {
     "data": {
      "text/plain": [
       "1928"
      ]
     },
     "execution_count": 17,
     "metadata": {},
     "output_type": "execute_result"
    }
   ],
   "source": [
    "calc_disk_checksum(optimized, show=False)"
   ]
  },
  {
   "cell_type": "code",
   "execution_count": 60,
   "id": "6335e65a-e65e-42af-8460-3d51560f0f67",
   "metadata": {},
   "outputs": [
    {
     "data": {
      "text/plain": [
       "'0 0 -1 -1 -1 1 1 1 -1 -1 -1 2 -1 -1 -1 3 3 3 -1 4 4 -1 5 5 5 5 -1 6 6 6 6 -1 7 7 7 -1 8 8 8 8 9 9'"
      ]
     },
     "execution_count": 60,
     "metadata": {},
     "output_type": "execute_result"
    }
   ],
   "source": [
    "' '.join(map(str, disk))"
   ]
  },
  {
   "cell_type": "code",
   "execution_count": 62,
   "id": "2bedbe7a-f956-413f-a392-5ea1f93892d8",
   "metadata": {},
   "outputs": [
    {
     "data": {
      "text/plain": [
       "{'used': {0: [0, 0],\n",
       "  1: [1, 1, 1],\n",
       "  2: [2],\n",
       "  3: [3, 3, 3],\n",
       "  4: [4, 4],\n",
       "  5: [5, 5, 5, 5],\n",
       "  6: [6, 6, 6, 6],\n",
       "  7: [7, 7, 7],\n",
       "  8: [8, 8, 8, 8],\n",
       "  9: [9, 9]},\n",
       " 'free': {2: 3, 8: 3, 12: 3, 18: 1, 21: 1, 26: 1, 31: 1, 35: 1}}"
      ]
     },
     "execution_count": 62,
     "metadata": {},
     "output_type": "execute_result"
    }
   ],
   "source": [
    "block_report(disk)"
   ]
  },
  {
   "cell_type": "code",
   "execution_count": 70,
   "id": "7d74fe34-5256-4d81-bae3-35d79f534535",
   "metadata": {},
   "outputs": [],
   "source": []
  },
  {
   "cell_type": "code",
   "execution_count": null,
   "id": "ec28346b-83e6-4850-9906-c1a34a7c7478",
   "metadata": {},
   "outputs": [],
   "source": []
  }
 ],
 "metadata": {
  "kernelspec": {
   "display_name": "Python 3 (ipykernel)",
   "language": "python",
   "name": "python3"
  },
  "language_info": {
   "codemirror_mode": {
    "name": "ipython",
    "version": 3
   },
   "file_extension": ".py",
   "mimetype": "text/x-python",
   "name": "python",
   "nbconvert_exporter": "python",
   "pygments_lexer": "ipython3",
   "version": "3.12.8"
  }
 },
 "nbformat": 4,
 "nbformat_minor": 5
}
