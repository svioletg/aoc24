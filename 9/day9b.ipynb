{
 "cells": [
  {
   "cell_type": "markdown",
   "id": "9a8016a0-1e01-412e-aff3-02094896c500",
   "metadata": {},
   "source": [
    "# Setup"
   ]
  },
  {
   "cell_type": "code",
   "execution_count": 79,
   "id": "b6eb6cfb-f052-4328-aaad-8d088dff112e",
   "metadata": {},
   "outputs": [],
   "source": [
    "import sys\n",
    "import time\n",
    "\n",
    "sys.path.append('../utils')\n",
    "from pyutils import *"
   ]
  },
  {
   "cell_type": "code",
   "execution_count": 80,
   "id": "0204ff71-8245-417d-b014-32b0d3f34574",
   "metadata": {},
   "outputs": [],
   "source": [
    "sample=\"2333133121414131402\""
   ]
  },
  {
   "cell_type": "code",
   "execution_count": 81,
   "id": "dbd0134b-d413-4a39-96c5-8a2447802365",
   "metadata": {},
   "outputs": [],
   "source": [
    "with open('input.txt', 'r', encoding='utf-8') as f:\n",
    "    puzzle = f.read()"
   ]
  },
  {
   "cell_type": "code",
   "execution_count": 82,
   "id": "881a0aa9-27ba-4ea9-b316-6290a441d94b",
   "metadata": {},
   "outputs": [],
   "source": [
    "def read_diskmap(dm: str) -> list[int]:\n",
    "    processed: list[str] = []\n",
    "    mode: int = 1 # 1 == file, -1 == free space\n",
    "    files: int = -1\n",
    "    for digit in dm:\n",
    "        if not digit.isnumeric():\n",
    "            continue\n",
    "        digit = int(digit)\n",
    "        if mode == 1:\n",
    "            files += 1\n",
    "            processed.extend([files] * digit)\n",
    "        elif mode == -1:\n",
    "            processed.extend([-1] * digit)\n",
    "        mode *= -1\n",
    "    return processed"
   ]
  },
  {
   "cell_type": "code",
   "execution_count": 83,
   "id": "b787bb07-73f6-4afa-aec3-56892e578d6f",
   "metadata": {},
   "outputs": [],
   "source": [
    "def block_report(d: list[int]):\n",
    "    groups = {'used': {}, 'free': []}\n",
    "    freeblock = 0\n",
    "    for n, fid in enumerate(d):\n",
    "        if fid == -1:\n",
    "            freeblock += 1\n",
    "        else:\n",
    "            if freeblock > 0:\n",
    "                groups['free'].append((n - freeblock, freeblock))\n",
    "                freeblock = 0\n",
    "            if fid not in groups['used']:\n",
    "                groups['used'][fid] = (n, [])\n",
    "            groups['used'][fid][1].append(fid)\n",
    "    return groups"
   ]
  },
  {
   "cell_type": "code",
   "execution_count": 84,
   "id": "2bedbe7a-f956-413f-a392-5ea1f93892d8",
   "metadata": {},
   "outputs": [
    {
     "data": {
      "text/plain": [
       "{'used': {0: (0, [0, 0]),\n",
       "  1: (5, [1, 1, 1]),\n",
       "  2: (11, [2]),\n",
       "  3: (15, [3, 3, 3]),\n",
       "  4: (19, [4, 4]),\n",
       "  5: (22, [5, 5, 5, 5]),\n",
       "  6: (27, [6, 6, 6, 6]),\n",
       "  7: (32, [7, 7, 7]),\n",
       "  8: (36, [8, 8, 8, 8]),\n",
       "  9: (40, [9, 9])},\n",
       " 'free': [(2, 3),\n",
       "  (8, 3),\n",
       "  (12, 3),\n",
       "  (18, 1),\n",
       "  (21, 1),\n",
       "  (26, 1),\n",
       "  (31, 1),\n",
       "  (35, 1)]}"
      ]
     },
     "execution_count": 84,
     "metadata": {},
     "output_type": "execute_result"
    }
   ],
   "source": [
    "block_report(disk)"
   ]
  },
  {
   "cell_type": "code",
   "execution_count": 94,
   "id": "316cc17f-6eae-427f-9ad4-790fa3760fb0",
   "metadata": {},
   "outputs": [],
   "source": [
    "def optimize_disk(d: list[int], defrag: bool=True) -> list[int]:\n",
    "    d = d.copy()\n",
    "    report = block_report(d)\n",
    "    report['used'] = {k:report['used'][k] for k in sorted(report['used'].keys(), reverse=True)}\n",
    "    for ubid, ublock in report['used'].items():\n",
    "        time.sleep(1)\n",
    "        print(''.join(map(str, d)).replace('-1', '.'))\n",
    "        for fbid, fblock in enumerate(report['free']):\n",
    "            fblock = report['free'].pop(fbid)\n",
    "            if fblock[1] >= len(ublock[1]):\n",
    "                # Replace free space with file\n",
    "                d[fblock[0]:fblock[0] + len(ublock[1])] = ublock[1]\n",
    "                # Replace previous file space with free space\n",
    "                d[ublock[0]:ublock[0] + len(ublock[1])] = ['-1'] * len(ublock[1])\n",
    "                # Add free block back into same list position, adjust index and shrink size\n",
    "                report['free'].insert(fbid, (fblock[0] + len(ublock[1]), fblock[1] - len(ublock[1])))\n",
    "                break\n",
    "    # for n in range(len(d)):\n",
    "    #     n = abs(n - len(d)) - 1\n",
    "    #     if d[n] != -1:\n",
    "    #         leftmost_free = d.index(-1)\n",
    "    #         if leftmost_free > n:\n",
    "    #             # All sorted, no more work to do\n",
    "    #             break\n",
    "    #         d[leftmost_free], d[n] = d[n], d[leftmost_free]\n",
    "    return d"
   ]
  },
  {
   "cell_type": "code",
   "execution_count": 86,
   "id": "19af3c24-023a-4c71-b82d-dfc80d17f016",
   "metadata": {},
   "outputs": [],
   "source": [
    "def calc_disk_checksum(d: list[int], show: bool=False) -> str:\n",
    "    chsum: int = 0\n",
    "    for n, digit in enumerate(d):\n",
    "        if show:\n",
    "            time.sleep(0.005)\n",
    "            clear_output(wait=True)\n",
    "            print(f'{repr(n):^8}{repr(digit):^8}{chsum}')\n",
    "        if digit == -1:\n",
    "            break\n",
    "        chsum += n * digit\n",
    "    return chsum"
   ]
  },
  {
   "cell_type": "markdown",
   "id": "b0f71fec-c9f8-4214-9355-c141f1490105",
   "metadata": {},
   "source": [
    "# Solve"
   ]
  },
  {
   "cell_type": "code",
   "execution_count": 87,
   "id": "ab9c804d-495c-44c1-a035-dd2777fdd2ed",
   "metadata": {},
   "outputs": [],
   "source": [
    "disk: list[int] = read_diskmap(sample)"
   ]
  },
  {
   "cell_type": "code",
   "execution_count": 95,
   "id": "e9117118-f0e1-4ebb-a475-13aa1e1c7bab",
   "metadata": {},
   "outputs": [
    {
     "name": "stdout",
     "output_type": "stream",
     "text": [
      "00...111...2...333.44.5555.6666.777.888899\n",
      "0099.111...2...333.44.5555.6666.777.8888..\n",
      "0099.111...2...333.44.5555.6666.777.8888..\n",
      "0099.1117772...333.44.5555.6666.....8888..\n",
      "0099.1117772...333.44.5555.6666.....8888..\n",
      "0099.1117772...333.44.5555.6666.....8888..\n",
      "0099.1117772...333.44.5555.6666.....8888..\n",
      "0099.1117772...333.44.5555.6666.....8888..\n",
      "0099.1117772...333.44.5555.6666.....8888..\n",
      "0099.1117772...333.44.5555.6666.....8888..\n",
      "Optimized disk of length 42 in 10.00614s\n"
     ]
    }
   ],
   "source": [
    "ta = time.perf_counter()\n",
    "optimized = optimize_disk(disk)\n",
    "tb = time.perf_counter()\n",
    "print(f'Optimized disk of length {len(optimized)} in {tb - ta:.05f}s')"
   ]
  },
  {
   "cell_type": "code",
   "execution_count": 69,
   "id": "532e4734-3e89-4126-9b45-a4d2b433ee90",
   "metadata": {},
   "outputs": [
    {
     "data": {
      "text/plain": [
       "45"
      ]
     },
     "execution_count": 69,
     "metadata": {},
     "output_type": "execute_result"
    }
   ],
   "source": [
    "calc_disk_checksum(optimized, show=False)"
   ]
  },
  {
   "cell_type": "code",
   "execution_count": 93,
   "id": "7d74fe34-5256-4d81-bae3-35d79f534535",
   "metadata": {},
   "outputs": [
    {
     "name": "stdout",
     "output_type": "stream",
     "text": [
      "00...111...2...333.44.5555.6666.777.888899\n"
     ]
    }
   ],
   "source": [
    "print(''.join(map(str, disk)).replace('-1', '.'))"
   ]
  },
  {
   "cell_type": "code",
   "execution_count": null,
   "id": "96f23d6c-7e6b-4beb-95ed-97d8c6e8839e",
   "metadata": {},
   "outputs": [],
   "source": []
  }
 ],
 "metadata": {
  "kernelspec": {
   "display_name": "Python 3 (ipykernel)",
   "language": "python",
   "name": "python3"
  },
  "language_info": {
   "codemirror_mode": {
    "name": "ipython",
    "version": 3
   },
   "file_extension": ".py",
   "mimetype": "text/x-python",
   "name": "python",
   "nbconvert_exporter": "python",
   "pygments_lexer": "ipython3",
   "version": "3.12.8"
  }
 },
 "nbformat": 4,
 "nbformat_minor": 5
}
