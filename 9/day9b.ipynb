{
 "cells": [
  {
   "cell_type": "markdown",
   "id": "9a8016a0-1e01-412e-aff3-02094896c500",
   "metadata": {},
   "source": [
    "# Setup"
   ]
  },
  {
   "cell_type": "code",
   "execution_count": 1,
   "id": "b6eb6cfb-f052-4328-aaad-8d088dff112e",
   "metadata": {},
   "outputs": [],
   "source": [
    "import sys\n",
    "import time\n",
    "\n",
    "sys.path.append('../utils')\n",
    "from pyutils import *"
   ]
  },
  {
   "cell_type": "code",
   "execution_count": 2,
   "id": "0204ff71-8245-417d-b014-32b0d3f34574",
   "metadata": {},
   "outputs": [],
   "source": [
    "sample=\"2333133121414131402\""
   ]
  },
  {
   "cell_type": "code",
   "execution_count": 3,
   "id": "dbd0134b-d413-4a39-96c5-8a2447802365",
   "metadata": {},
   "outputs": [],
   "source": [
    "with open('input.txt', 'r', encoding='utf-8') as f:\n",
    "    puzzle = f.read()"
   ]
  },
  {
   "cell_type": "code",
   "execution_count": 4,
   "id": "881a0aa9-27ba-4ea9-b316-6290a441d94b",
   "metadata": {},
   "outputs": [],
   "source": [
    "def read_diskmap(diskmap: str) -> list[int]:\n",
    "    processed: list[int] = []\n",
    "    mode: int = 1 # 1 == file, -1 == free space\n",
    "    files: int = -1\n",
    "    for digit in diskmap:\n",
    "        if not digit.isnumeric():\n",
    "            continue\n",
    "        digit = int(digit)\n",
    "        if mode == 1:\n",
    "            files += 1\n",
    "            processed.extend([files] * digit)\n",
    "        elif mode == -1:\n",
    "            processed.extend([-1] * digit)\n",
    "        mode *= -1\n",
    "    return processed"
   ]
  },
  {
   "cell_type": "code",
   "execution_count": 5,
   "id": "b787bb07-73f6-4afa-aec3-56892e578d6f",
   "metadata": {},
   "outputs": [],
   "source": [
    "def block_report(disk: list[int]):\n",
    "    groups = {'used': {}, 'free': []}\n",
    "    \"\"\"\n",
    "    gruops dict structure is: {\n",
    "        'used': {\n",
    "            <int; file id>: (<int; index of first block for this file>, [<list[int]; block contents>])\n",
    "        },\n",
    "        'free': [\n",
    "            (<int; index of first block for this free space>, <int; size of this free space, i.e. number of blocks>)\n",
    "        ]\n",
    "    }\n",
    "    \"\"\"\n",
    "    freeblock = 0\n",
    "    for n, file_id in enumerate(disk):\n",
    "        if file_id == -1:\n",
    "            freeblock += 1\n",
    "        else:\n",
    "            if freeblock > 0:\n",
    "                # If we've reached a non-free block, and we *were* counting free blocks before, save the counted blocks\n",
    "                groups['free'].append((n - freeblock, freeblock))\n",
    "                freeblock = 0\n",
    "            if file_id not in groups['used']:\n",
    "                groups['used'][file_id] = (n, [])\n",
    "            groups['used'][file_id][1].append(file_id)\n",
    "    return groups"
   ]
  },
  {
   "cell_type": "code",
   "execution_count": 6,
   "id": "316cc17f-6eae-427f-9ad4-790fa3760fb0",
   "metadata": {},
   "outputs": [],
   "source": [
    "def optimize_disk(disk: list[int], defrag: bool=True) -> list[int]:\n",
    "    disk = disk.copy()\n",
    "    if defrag:\n",
    "        report = block_report(disk)\n",
    "        # Reverse order of used blocks to iterate from the end as per instructions\n",
    "        report['used'] = {k:report['used'][k] for k in sorted(report['used'].keys(), reverse=True)}\n",
    "        for used_id, ublock in report['used'].items():\n",
    "            # Tried to visualize what was going on so I could fix it, but it didn't help much...\n",
    "            # clear_output(wait=True)\n",
    "            # time.sleep(0.1)\n",
    "            # print(''.join(map(str, d)).replace('-1', '.')[:1000])\n",
    "            for free_id, fblock in enumerate(report['free']):\n",
    "                if fblock[1] >= len(ublock[1]):\n",
    "                    fblock = report['free'].pop(free_id)\n",
    "                    # Replace free space with file\n",
    "                    disk[fblock[0]:fblock[0] + len(ublock[1])] = ublock[1]\n",
    "                    # Replace previous file space with free space\n",
    "                    disk[ublock[0]:ublock[0] + len(ublock[1])] = [-1] * len(ublock[1])\n",
    "                    # Add free block back into same list position, adjust index and shrink size in report\n",
    "                    report['free'].insert(free_id, (fblock[0] + len(ublock[1]), fblock[1] - len(ublock[1])))\n",
    "                    break\n",
    "    else:\n",
    "        for n in range(len(disk)):\n",
    "            n = abs(n - len(disk)) - 1\n",
    "            if disk[n] != -1:\n",
    "                leftmost_free = disk.index(-1)\n",
    "                if leftmost_free > n:\n",
    "                    # All sorted, no more work to do\n",
    "                    break\n",
    "                disk[leftmost_free], disk[n] = disk[n], disk[leftmost_free]\n",
    "    return disk"
   ]
  },
  {
   "cell_type": "code",
   "execution_count": 7,
   "id": "19af3c24-023a-4c71-b82d-dfc80d17f016",
   "metadata": {},
   "outputs": [],
   "source": [
    "def calc_disk_checksum(d: list[int], show: bool=False) -> int:\n",
    "    chsum: int = 0\n",
    "    for n, digit in enumerate(d):\n",
    "        if show:\n",
    "            time.sleep(0.005)\n",
    "            clear_output(wait=True)\n",
    "            print(f'{repr(n):^8}{repr(digit):^8}{chsum}')\n",
    "        if digit == -1:\n",
    "            continue\n",
    "        chsum += n * digit\n",
    "    return chsum"
   ]
  },
  {
   "cell_type": "markdown",
   "id": "b0f71fec-c9f8-4214-9355-c141f1490105",
   "metadata": {},
   "source": [
    "# Solve"
   ]
  },
  {
   "cell_type": "code",
   "execution_count": 8,
   "id": "ab9c804d-495c-44c1-a035-dd2777fdd2ed",
   "metadata": {},
   "outputs": [],
   "source": [
    "disk: list[int] = read_diskmap(puzzle)"
   ]
  },
  {
   "cell_type": "code",
   "execution_count": 9,
   "id": "e9117118-f0e1-4ebb-a475-13aa1e1c7bab",
   "metadata": {},
   "outputs": [
    {
     "name": "stdout",
     "output_type": "stream",
     "text": [
      "Optimized disk of length 94957 in 2.73097s\n"
     ]
    }
   ],
   "source": [
    "ta = time.perf_counter()\n",
    "optimized = optimize_disk(disk, defrag=True)\n",
    "tb = time.perf_counter()\n",
    "print(f'Optimized disk of length {len(optimized)} in {tb - ta:.05f}s')"
   ]
  },
  {
   "cell_type": "code",
   "execution_count": 10,
   "id": "532e4734-3e89-4126-9b45-a4d2b433ee90",
   "metadata": {},
   "outputs": [
    {
     "data": {
      "text/plain": [
       "8582381894860"
      ]
     },
     "execution_count": 10,
     "metadata": {},
     "output_type": "execute_result"
    }
   ],
   "source": [
    "calc_disk_checksum(optimized, show=False)"
   ]
  },
  {
   "cell_type": "code",
   "execution_count": null,
   "id": "271aee5a",
   "metadata": {},
   "outputs": [],
   "source": []
  }
 ],
 "metadata": {
  "kernelspec": {
   "display_name": "Python 3 (ipykernel)",
   "language": "python",
   "name": "python3"
  },
  "language_info": {
   "codemirror_mode": {
    "name": "ipython",
    "version": 3
   },
   "file_extension": ".py",
   "mimetype": "text/x-python",
   "name": "python",
   "nbconvert_exporter": "python",
   "pygments_lexer": "ipython3",
   "version": "3.12.8"
  }
 },
 "nbformat": 4,
 "nbformat_minor": 5
}
