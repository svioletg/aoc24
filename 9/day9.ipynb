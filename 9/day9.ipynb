{
 "cells": [
  {
   "cell_type": "code",
   "execution_count": 1,
   "id": "b6eb6cfb-f052-4328-aaad-8d088dff112e",
   "metadata": {},
   "outputs": [],
   "source": [
    "import sys\n",
    "import time\n",
    "\n",
    "sys.path.append('../utils')\n",
    "from pyutils import *"
   ]
  },
  {
   "cell_type": "code",
   "execution_count": 2,
   "id": "0204ff71-8245-417d-b014-32b0d3f34574",
   "metadata": {},
   "outputs": [],
   "source": [
    "sample=\"2333133121414131402\""
   ]
  },
  {
   "cell_type": "code",
   "execution_count": 3,
   "id": "dbd0134b-d413-4a39-96c5-8a2447802365",
   "metadata": {},
   "outputs": [],
   "source": [
    "with open('input.txt', 'r', encoding='utf-8') as f:\n",
    "    puzzle = f.read()"
   ]
  },
  {
   "cell_type": "code",
   "execution_count": 10,
   "id": "881a0aa9-27ba-4ea9-b316-6290a441d94b",
   "metadata": {},
   "outputs": [],
   "source": [
    "def read_diskmap(dm: str) -> str:\n",
    "    processed: list[str] = []\n",
    "    mode: int = 1 # 1 == file, -1 == free space\n",
    "    files: int = -1\n",
    "    for digit in dm:\n",
    "        if not digit.isnumeric():\n",
    "            continue\n",
    "        digit = int(digit)\n",
    "        if mode == 1:\n",
    "            files += 1\n",
    "            # if files == 10:\n",
    "            #     files = 0\n",
    "            processed.append(str(files) * digit)\n",
    "        elif mode == -1:\n",
    "            processed.append('.' * digit)\n",
    "        mode *= -1\n",
    "    return ''.join(processed)"
   ]
  },
  {
   "cell_type": "code",
   "execution_count": 11,
   "id": "316cc17f-6eae-427f-9ad4-790fa3760fb0",
   "metadata": {},
   "outputs": [],
   "source": [
    "def optimize_disk(d: str) -> str:\n",
    "    d: list[str] = list(d)\n",
    "    for n in range(len(d)):\n",
    "        n = abs(n - len(d)) - 1\n",
    "        if d[n] != '.':\n",
    "            leftmost_free = d.index('.')\n",
    "            if leftmost_free > n:\n",
    "                # All sorted, no more work to do\n",
    "                break\n",
    "            d[leftmost_free], d[n] = d[n], d[leftmost_free]\n",
    "    return ''.join(d)"
   ]
  },
  {
   "cell_type": "code",
   "execution_count": 12,
   "id": "19af3c24-023a-4c71-b82d-dfc80d17f016",
   "metadata": {},
   "outputs": [],
   "source": [
    "def calc_disk_checksum(d: str, show: bool=False) -> str:\n",
    "    chsum: int = 0\n",
    "    for n, digit in enumerate(d):\n",
    "        if show:\n",
    "            time.sleep(0.005)\n",
    "            clear_output(wait=True)\n",
    "            print(f'{repr(n):^8}{repr(digit):^8}{chsum}')\n",
    "        if digit == '.':\n",
    "            break\n",
    "        digit = int(digit)\n",
    "        chsum += n * digit\n",
    "    return chsum"
   ]
  },
  {
   "cell_type": "code",
   "execution_count": 13,
   "id": "ab9c804d-495c-44c1-a035-dd2777fdd2ed",
   "metadata": {},
   "outputs": [],
   "source": [
    "disk = read_diskmap(puzzle)"
   ]
  },
  {
   "cell_type": "code",
   "execution_count": 14,
   "id": "e9117118-f0e1-4ebb-a475-13aa1e1c7bab",
   "metadata": {},
   "outputs": [
    {
     "name": "stdout",
     "output_type": "stream",
     "text": [
      "Optimized disk of length 239474 in 48.39027s\n"
     ]
    }
   ],
   "source": [
    "ta = time.perf_counter()\n",
    "optimized = optimize_disk(disk)\n",
    "tb = time.perf_counter()\n",
    "print(f'Optimized disk of length {len(optimized)} in {tb - ta:.05f}s')"
   ]
  },
  {
   "cell_type": "code",
   "execution_count": 15,
   "id": "532e4734-3e89-4126-9b45-a4d2b433ee90",
   "metadata": {},
   "outputs": [
    {
     "data": {
      "text/plain": [
       "90779541117"
      ]
     },
     "execution_count": 15,
     "metadata": {},
     "output_type": "execute_result"
    }
   ],
   "source": [
    "calc_disk_checksum(optimized, show=False)"
   ]
  },
  {
   "cell_type": "code",
   "execution_count": null,
   "id": "6335e65a-e65e-42af-8460-3d51560f0f67",
   "metadata": {},
   "outputs": [],
   "source": []
  }
 ],
 "metadata": {
  "kernelspec": {
   "display_name": "Python 3 (ipykernel)",
   "language": "python",
   "name": "python3"
  },
  "language_info": {
   "codemirror_mode": {
    "name": "ipython",
    "version": 3
   },
   "file_extension": ".py",
   "mimetype": "text/x-python",
   "name": "python",
   "nbconvert_exporter": "python",
   "pygments_lexer": "ipython3",
   "version": "3.12.8"
  }
 },
 "nbformat": 4,
 "nbformat_minor": 5
}
