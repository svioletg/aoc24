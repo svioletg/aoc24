{
 "cells": [
  {
   "cell_type": "code",
   "execution_count": 1,
   "id": "b015324a-df0d-42ec-8bc7-50d13dc69688",
   "metadata": {},
   "outputs": [],
   "source": [
    "import sys\n",
    "from copy import deepcopy\n",
    "import time\n",
    "\n",
    "sys.path.append('../utils')\n",
    "from pyutils import *"
   ]
  },
  {
   "cell_type": "code",
   "execution_count": 2,
   "id": "3454b254-6325-4dae-9b61-f669049873c3",
   "metadata": {},
   "outputs": [],
   "source": [
    "puzzle = readutf8('input.txt')\n",
    "sample = readutf8('sample.txt')"
   ]
  },
  {
   "cell_type": "code",
   "execution_count": 53,
   "id": "9b2a2482-7b6e-46b1-8b6a-d56b777d5d4b",
   "metadata": {},
   "outputs": [],
   "source": [
    "from PIL import Image, ImageDraw, ImageColor\n",
    "def heatmap(mat: StrMatrix, distances: dict[Pt, int], dmin: int, dmax: int,\n",
    "        highlight: list[Pt] | None = None,\n",
    "        out: tuple[int, int]=(-1, -1)\n",
    "    ) -> Image.Image:\n",
    "    highlight = highlight or []\n",
    "    im = Image.new(size=(len(mat[0]), len(mat)), mode='RGB', color='black')\n",
    "    brush = ImageDraw.Draw(im)\n",
    "    for pt, val in mat_iter(mat):\n",
    "        if val != '#':\n",
    "            brush.point((pt[1], pt[0]), 'white')\n",
    "        if pt in distances:\n",
    "            perc = (distances[pt] - dmin) / (dmax - dmin)\n",
    "            hue = int(120 * perc)\n",
    "            brush.point((pt[1], pt[0]), f'hsv({hue}, 100%, 100%)')\n",
    "    for pt in highlight:\n",
    "        brush.point((pt[1], pt[0]), 'blue')\n",
    "    if all(n > 0 for n in out):\n",
    "        im = im.resize(out, resample=0)\n",
    "        brush = ImageDraw.Draw(im)\n",
    "    gridw = len(mat[0])\n",
    "    gridh = len(mat)\n",
    "    for pt, d in distances.items():\n",
    "        x = pt[1] * (im.size[0] / gridw)\n",
    "        y = pt[0] * (im.size[1] / gridh)\n",
    "        # print(x, y, str(d))\n",
    "        # brush.text((x, y), str(d), fill='black')\n",
    "    return im"
   ]
  },
  {
   "cell_type": "code",
   "execution_count": 54,
   "id": "c1639ba9-7e90-4691-83fd-85aba56e0da4",
   "metadata": {},
   "outputs": [],
   "source": [
    "def walk_maze(mat: StrMatrix, start_char: str, end_char: str):\n",
    "    mat = deepcopy(mat)\n",
    "\n",
    "    start_pt: Pt = Pt(-1, -1)\n",
    "    end_pt: Pt = Pt(-1, -1)\n",
    "    for pt, val in mat_iter(mat):\n",
    "        if val == start_char:\n",
    "            start_pt = Pt.of(pt)\n",
    "        if val == end_char:\n",
    "            end_pt = Pt.of(pt)\n",
    "        if Pt(-1, -1) not in [start_pt, end_pt]:\n",
    "            break\n",
    "\n",
    "    assert(start_pt != Pt(-1, -1))\n",
    "    assert(end_pt != Pt(-1, -1))\n",
    "\n",
    "    visited: dict[Pt, int] = {}\n",
    "    vertices: list[Pt] = [start_pt]\n",
    "    segments: dict[Pt, list[Pt]] = {start_pt: []}\n",
    "    pos = start_pt\n",
    "    dirpt: Pt = Pt(0, 1)\n",
    "    score: int = 0\n",
    "\n",
    "    log: list[str] = ['...']\n",
    "    def _next_branch(pos: Pt, vertex: Pt) -> bool | None:\n",
    "        \"\"\"\n",
    "        Returns True if end was reached, False if wall was reached, None otherwise\n",
    "        \"\"\"\n",
    "        nonlocal dirpt, score\n",
    "    \n",
    "        time.sleep(0.1)\n",
    "        clear_output(wait=True)\n",
    "        display(heatmap(mat, visited, 0, end_pt.distance(start_pt), highlight=vertices))\n",
    "        # print(log[-1])\n",
    "        # print(f'Now: {pos} ; {dirpt}')\n",
    "        # print(f'Score: {score}')\n",
    "        # display(heatmap(mat, visited, 0, end_pt.distance(start_pt)).resize((400, 400), resample=0))\n",
    "        # print(show_in_matrix(mat, *visited, col='white on blue', colmap={pos:'black on red'}))\n",
    "\n",
    "        visited[pos] = pos.distance(start_pt)\n",
    "\n",
    "        branches: list[Pt] = []\n",
    "        for branch in Pt.cardinals():\n",
    "            future = pos + branch\n",
    "            if future in visited:\n",
    "                continue\n",
    "            val = matget(mat, future)\n",
    "            if val == '#':\n",
    "                continue\n",
    "            branches.append(branch)\n",
    "\n",
    "        if len(branches) > 1:\n",
    "            vertices.append(pos)\n",
    "            segments[pos] = []\n",
    "            vertex = pos\n",
    "            \n",
    "        pos_is_vertex = pos == vertex\n",
    "\n",
    "        for branch in branches:\n",
    "            future = pos + branch\n",
    "            if pos_is_vertex:\n",
    "                segments[vertex].clear()\n",
    "            segments[vertex].append(future)\n",
    "            log.append(f'Checking branch: {branch} off of vertex {vertex}')\n",
    "            if future == end_pt:\n",
    "                visited[future] = future.distance(start_pt)\n",
    "                log.append(f'{future}: is END')\n",
    "                # return True\n",
    "            if future in visited:\n",
    "                log.append(f'{future}: visited')\n",
    "                continue\n",
    "            if matget(mat, pos + branch) == '#':\n",
    "                log.append(f'{future}: is a wall')\n",
    "                continue\n",
    "            if dirpt != branch:\n",
    "                diff = abs(Pt.cardinals().index(branch) - Pt.cardinals().index(dirpt))\n",
    "                if diff == 2:\n",
    "                    score += 2000\n",
    "                if diff in [1, 3]:\n",
    "                    score += 1000\n",
    "            dirpt = branch\n",
    "            if _next_branch(future, vertex) is True:\n",
    "                return True\n",
    "        segments[vertex].clear()\n",
    "        if pos_is_vertex:\n",
    "            log.append(f'{vertex} is out of branches')\n",
    "            del segments[vertex]\n",
    "        else:\n",
    "            log.append('Out of branches')\n",
    "\n",
    "    ret = _next_branch(pos, pos)\n",
    "    successful: dict[Pt, int] = {}\n",
    "    for k, v in segments.items():\n",
    "        if k not in successful:\n",
    "            successful[k] = visited[k]\n",
    "        for pt in v:\n",
    "            if pt not in successful:\n",
    "                successful[pt] = visited[pt]\n",
    "    display(heatmap(mat, visited, 0, end_pt.distance(start_pt), highlight=vertices, out=(600,600)))\n",
    "    # display(heatmap(mat, {pt:d for pt, d in successful.items()}, 0, end_pt.distance(start_pt), highlight=vertices).resize((600, 600), resample=0))\n",
    "    return ret, visited, log, successful"
   ]
  },
  {
   "cell_type": "code",
   "execution_count": 57,
   "id": "bb9ed4b8-5f71-4d98-9d53-95b9e4f01784",
   "metadata": {},
   "outputs": [],
   "source": [
    "maze = strtomat(sample)"
   ]
  },
  {
   "cell_type": "code",
   "execution_count": null,
   "id": "fab8e0e7-7eac-468b-bd97-b27773c4dee1",
   "metadata": {},
   "outputs": [
    {
     "data": {
      "image/jpeg": "[encoded data removed]",
      "image/png": "[encoded data removed]",
      "text/plain": [
       "<PIL.Image.Image image mode=RGB size=17x17>"
      ]
     },
     "metadata": {},
     "output_type": "display_data"
    }
   ],
   "source": [
    "result = walk_maze(maze, 'S', 'E')"
   ]
  },
  {
   "cell_type": "code",
   "execution_count": 7,
   "id": "0a94fed3-b896-415f-986d-183101d2d25b",
   "metadata": {},
   "outputs": [
    {
     "data": {
      "text/plain": [
       "0"
      ]
     },
     "execution_count": 7,
     "metadata": {},
     "output_type": "execute_result"
    }
   ],
   "source": [
    "sum(result[3].values())"
   ]
  },
  {
   "cell_type": "code",
   "execution_count": 8,
   "id": "0c13f5ac-2b38-4c26-8006-eb775d6f0776",
   "metadata": {},
   "outputs": [
    {
     "data": {
      "text/plain": [
       "{}"
      ]
     },
     "execution_count": 8,
     "metadata": {},
     "output_type": "execute_result"
    }
   ],
   "source": [
    "result[3]"
   ]
  },
  {
   "cell_type": "code",
   "execution_count": 46,
   "id": "7781c0ea-8a35-45e1-8626-033bb8ccf561",
   "metadata": {},
   "outputs": [],
   "source": [
    "def dijkstra(mat: Matrix, start: Pt, end: Pt):\n",
    "    def visualize():\n",
    "        clear_output(wait=True)\n",
    "        im = Image.new(size=(len(mat[0]), len(mat)), mode='RGB', color='white')\n",
    "        brush = ImageDraw.Draw(im)\n",
    "        for pt, val in mat_iter(mat):\n",
    "            if val == '#':\n",
    "                brush.point((pt[1], pt[0]), 'black')\n",
    "            if pt in visited:\n",
    "                brush.point((pt[1], pt[0]), 'green')\n",
    "        brush.point((start[1], start[0]), 'cyan')\n",
    "        brush.point((end[1], end[0]), 'magenta')\n",
    "        display(im)\n",
    "        # display(im.resize((300,300), resample=0))\n",
    "\n",
    "    pos = start\n",
    "    active_nodes: list[Pt] = [start]\n",
    "    visited: list[Pt] = []\n",
    "\n",
    "    while True:\n",
    "        # time.sleep(0.01)\n",
    "        visualize()\n",
    "        for node in active_nodes:\n",
    "            visited.append(node)\n",
    "            for direc in Pt(-1, 0), Pt(0, 1), Pt(1, 0), Pt(0, -1):\n",
    "                if node + direc in visited:\n",
    "                    continue\n",
    "                if matget(mat, node + direc) == '#':\n",
    "                    continue\n",
    "                active_nodes.append(node + direc)\n",
    "            active_nodes.remove(node)"
   ]
  },
  {
   "cell_type": "code",
   "execution_count": 47,
   "id": "bff871dc-ce60-4145-881d-4ce8a53ca76e",
   "metadata": {},
   "outputs": [
    {
     "ename": "KeyboardInterrupt",
     "evalue": "",
     "output_type": "error",
     "traceback": [
      "\u001b[0;31m---------------------------------------------------------------------------\u001b[0m",
      "\u001b[0;31mKeyboardInterrupt\u001b[0m                         Traceback (most recent call last)",
      "Cell \u001b[0;32mIn[47], line 1\u001b[0m\n\u001b[0;32m----> 1\u001b[0m \u001b[43mdijkstra\u001b[49m\u001b[43m(\u001b[49m\u001b[43mstrtomat\u001b[49m\u001b[43m(\u001b[49m\u001b[43mpuzzle\u001b[49m\u001b[43m)\u001b[49m\u001b[43m,\u001b[49m\u001b[43m \u001b[49m\u001b[43mPt\u001b[49m\u001b[43m(\u001b[49m\u001b[38;5;241;43m15\u001b[39;49m\u001b[43m,\u001b[49m\u001b[43m \u001b[49m\u001b[38;5;241;43m1\u001b[39;49m\u001b[43m)\u001b[49m\u001b[43m,\u001b[49m\u001b[43m \u001b[49m\u001b[43mPt\u001b[49m\u001b[43m(\u001b[49m\u001b[38;5;241;43m1\u001b[39;49m\u001b[43m,\u001b[49m\u001b[43m \u001b[49m\u001b[38;5;241;43m15\u001b[39;49m\u001b[43m)\u001b[49m\u001b[43m)\u001b[49m\n",
      "Cell \u001b[0;32mIn[46], line 22\u001b[0m, in \u001b[0;36mdijkstra\u001b[0;34m(mat, start, end)\u001b[0m\n\u001b[1;32m     18\u001b[0m visited: \u001b[38;5;28mlist\u001b[39m[Pt] \u001b[38;5;241m=\u001b[39m []\n\u001b[1;32m     20\u001b[0m \u001b[38;5;28;01mwhile\u001b[39;00m \u001b[38;5;28;01mTrue\u001b[39;00m:\n\u001b[1;32m     21\u001b[0m     \u001b[38;5;66;03m# time.sleep(0.01)\u001b[39;00m\n\u001b[0;32m---> 22\u001b[0m     \u001b[43mvisualize\u001b[49m\u001b[43m(\u001b[49m\u001b[43m)\u001b[49m\n\u001b[1;32m     23\u001b[0m     \u001b[38;5;28;01mfor\u001b[39;00m node \u001b[38;5;129;01min\u001b[39;00m active_nodes:\n\u001b[1;32m     24\u001b[0m         visited\u001b[38;5;241m.\u001b[39mappend(node)\n",
      "Cell \u001b[0;32mIn[46], line 9\u001b[0m, in \u001b[0;36mdijkstra.<locals>.visualize\u001b[0;34m()\u001b[0m\n\u001b[1;32m      7\u001b[0m     \u001b[38;5;28;01mif\u001b[39;00m val \u001b[38;5;241m==\u001b[39m \u001b[38;5;124m'\u001b[39m\u001b[38;5;124m#\u001b[39m\u001b[38;5;124m'\u001b[39m:\n\u001b[1;32m      8\u001b[0m         brush\u001b[38;5;241m.\u001b[39mpoint((pt[\u001b[38;5;241m1\u001b[39m], pt[\u001b[38;5;241m0\u001b[39m]), \u001b[38;5;124m'\u001b[39m\u001b[38;5;124mblack\u001b[39m\u001b[38;5;124m'\u001b[39m)\n\u001b[0;32m----> 9\u001b[0m     \u001b[38;5;28;01mif\u001b[39;00m \u001b[43mpt\u001b[49m\u001b[43m \u001b[49m\u001b[38;5;129;43;01min\u001b[39;49;00m\u001b[43m \u001b[49m\u001b[43mvisited\u001b[49m:\n\u001b[1;32m     10\u001b[0m         brush\u001b[38;5;241m.\u001b[39mpoint((pt[\u001b[38;5;241m1\u001b[39m], pt[\u001b[38;5;241m0\u001b[39m]), \u001b[38;5;124m'\u001b[39m\u001b[38;5;124mgreen\u001b[39m\u001b[38;5;124m'\u001b[39m)\n\u001b[1;32m     11\u001b[0m brush\u001b[38;5;241m.\u001b[39mpoint((start[\u001b[38;5;241m1\u001b[39m], start[\u001b[38;5;241m0\u001b[39m]), \u001b[38;5;124m'\u001b[39m\u001b[38;5;124mcyan\u001b[39m\u001b[38;5;124m'\u001b[39m)\n",
      "File \u001b[0;32m~/code/misc/aoc24/16/../utils/pyutils.py:167\u001b[0m, in \u001b[0;36mPt.__eq__\u001b[0;34m(self, other)\u001b[0m\n\u001b[1;32m    164\u001b[0m \u001b[38;5;28;01mdef\u001b[39;00m\u001b[38;5;250m \u001b[39m\u001b[38;5;21m__getitem__\u001b[39m(\u001b[38;5;28mself\u001b[39m, idx: \u001b[38;5;28mint\u001b[39m) \u001b[38;5;241m-\u001b[39m\u001b[38;5;241m>\u001b[39m \u001b[38;5;28mint\u001b[39m:\n\u001b[1;32m    165\u001b[0m     \u001b[38;5;28;01mreturn\u001b[39;00m (\u001b[38;5;28mself\u001b[39m\u001b[38;5;241m.\u001b[39ma, \u001b[38;5;28mself\u001b[39m\u001b[38;5;241m.\u001b[39mb)[idx]\n\u001b[0;32m--> 167\u001b[0m \u001b[38;5;28;01mdef\u001b[39;00m\u001b[38;5;250m \u001b[39m\u001b[38;5;21m__eq__\u001b[39m(\u001b[38;5;28mself\u001b[39m, other: \u001b[38;5;124m'\u001b[39m\u001b[38;5;124mtuple[int, int] | Pt\u001b[39m\u001b[38;5;124m'\u001b[39m) \u001b[38;5;241m-\u001b[39m\u001b[38;5;241m>\u001b[39m \u001b[38;5;28mbool\u001b[39m:\n\u001b[1;32m    168\u001b[0m     \u001b[38;5;28;01mreturn\u001b[39;00m (\u001b[38;5;28mself\u001b[39m[\u001b[38;5;241m0\u001b[39m] \u001b[38;5;241m==\u001b[39m other[\u001b[38;5;241m0\u001b[39m]) \u001b[38;5;129;01mand\u001b[39;00m (\u001b[38;5;28mself\u001b[39m[\u001b[38;5;241m1\u001b[39m] \u001b[38;5;241m==\u001b[39m other[\u001b[38;5;241m1\u001b[39m])\n\u001b[1;32m    170\u001b[0m \u001b[38;5;28;01mdef\u001b[39;00m\u001b[38;5;250m \u001b[39m\u001b[38;5;21m__add__\u001b[39m(\u001b[38;5;28mself\u001b[39m, other: \u001b[38;5;124m'\u001b[39m\u001b[38;5;124mtuple[int, int] | Pt\u001b[39m\u001b[38;5;124m'\u001b[39m) \u001b[38;5;241m-\u001b[39m\u001b[38;5;241m>\u001b[39m \u001b[38;5;124m'\u001b[39m\u001b[38;5;124mPt\u001b[39m\u001b[38;5;124m'\u001b[39m:\n",
      "\u001b[0;31mKeyboardInterrupt\u001b[0m: "
     ]
    }
   ],
   "source": [
    "dijkstra(strtomat(puzzle), Pt(15, 1), Pt(1, 15))"
   ]
  },
  {
   "cell_type": "code",
   "execution_count": null,
   "id": "a73e098e-1357-452f-a2dd-f6303ea56e84",
   "metadata": {},
   "outputs": [],
   "source": []
  }
 ],
 "metadata": {
  "kernelspec": {
   "display_name": "Python 3 (ipykernel)",
   "language": "python",
   "name": "python3"
  },
  "language_info": {
   "codemirror_mode": {
    "name": "ipython",
    "version": 3
   },
   "file_extension": ".py",
   "mimetype": "text/x-python",
   "name": "python",
   "nbconvert_exporter": "python",
   "pygments_lexer": "ipython3",
   "version": "3.12.8"
  }
 },
 "nbformat": 4,
 "nbformat_minor": 5
}
