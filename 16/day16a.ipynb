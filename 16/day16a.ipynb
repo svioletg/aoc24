{
 "cells": [
  {
   "cell_type": "code",
   "execution_count": null,
   "id": "9920e5d0-46dc-4e62-9b02-d6d518df4a4c",
   "metadata": {},
   "outputs": [],
   "source": [
    "import sys\n",
    "import time\n",
    "from dataclasses import dataclass\n",
    "from PIL import Image, ImageDraw\n",
    "\n",
    "sys.path.append('../utils')\n",
    "from pyutils import *"
   ]
  },
  {
   "cell_type": "code",
   "execution_count": null,
   "id": "d7847029-216c-45a8-92cc-34d435a912e9",
   "metadata": {},
   "outputs": [],
   "source": [
    "@dataclass\n",
    "class Edge:\n",
    "    path: list[Pt]\n",
    "    dead: bool = False"
   ]
  },
  {
   "cell_type": "code",
   "execution_count": null,
   "id": "0beac0c4-5abd-4031-b115-feeaca6e0cc0",
   "metadata": {},
   "outputs": [],
   "source": [
    "def scan_vertices(mat: StrMatrix) -> dict[Pt, dict[Pt, Edge]]:\n",
    "    verts: dict[Pt, dict[Pt, Edge]] = {}\n",
    "    for pt, val in mat_iter(mat):\n",
    "        if val == '#':\n",
    "            continue\n",
    "        branches: list[Pt] = []\n",
    "        for direc in Pt.cardinals():\n",
    "            future = pt + direc\n",
    "            if matget(mat, future) != '#':\n",
    "                branches.append(future)\n",
    "        if len(branches) > 2:\n",
    "            verts[pt] = {br:Edge([pt]) for br in branches}\n",
    "\n",
    "    return verts"
   ]
  },
  {
   "cell_type": "code",
   "execution_count": null,
   "id": "0d082337-9968-46fc-85ff-b1d66e118be3",
   "metadata": {},
   "outputs": [],
   "source": [
    "def build_graph(maze: Matrix, start: Pt, end: Pt, gif: list[Image.Image] | None = None) -> dict[Pt, dict[Pt, Edge]]:\n",
    "    verts: dict[Pt, dict[Pt, Edge]] = scan_vertices(maze)\n",
    "    if start not in verts:\n",
    "        verts[start] = {start + br:Edge([start]) for br in Pt.cardinals() if matget(maze, start + br) != '#'}\n",
    "    if end not in verts:\n",
    "        verts[end] = {end + br:Edge([end]) for br in Pt.cardinals() if matget(maze, end + br) != '#'}\n",
    "\n",
    "    def explore_until_vert(head: Pt, edge: Edge):\n",
    "        cursor: Pt = head\n",
    "        while True:\n",
    "            edge.path.append(cursor)\n",
    "            if cursor in verts:\n",
    "                return\n",
    "            branches: list[Pt] = []\n",
    "            for br in Pt.cardinals():\n",
    "                future = cursor + br\n",
    "                if (matget(maze, future) != '#') and (future not in edge.path):\n",
    "                    branches.append(cursor + br)\n",
    "            if len(branches) == 0:\n",
    "                edge.dead = True\n",
    "                return\n",
    "            if len(branches) == 1:\n",
    "                cursor = branches[0]\n",
    "                continue\n",
    "\n",
    "    cursor: Pt = start\n",
    "    seen: set[Pt] = set()\n",
    "    for k in verts:\n",
    "        for head, edge in verts[k].items():\n",
    "            explore_until_vert(head, edge)\n",
    "            seen.update(edge.path)\n",
    "            if gif is not None:\n",
    "                gif.append(matimg(maze, colflt={\n",
    "                    (lambda p,v: v == '#'): 'black',\n",
    "                    (lambda p,v: p in seen): 'grey',\n",
    "                    (lambda p,v: p in edge.path): 'red',\n",
    "                    (lambda p,v: p in verts): 'blue',\n",
    "                    (lambda p,v: p == k): 'magenta'\n",
    "                }))\n",
    "\n",
    "    return verts"
   ]
  },
  {
   "cell_type": "code",
   "execution_count": null,
   "id": "fec9bb8c-b56e-4387-9b55-37e34c7e8add",
   "metadata": {},
   "outputs": [],
   "source": [
    "def score_path(path: list[Pt], startdir: Pt = Pt(0, 1)) -> int:\n",
    "    score = 0\n",
    "    if startdir != path[1] - path[0]:\n",
    "        score += 1000\n",
    "    for n, _ in enumerate(path):\n",
    "        if n + 2 >= len(path):\n",
    "            break\n",
    "        a = path[n]\n",
    "        b = path[n + 1]\n",
    "        c = path[n + 2]\n",
    "        if a[0] != c[0] and a[1] != c[1]:\n",
    "            score += 1000\n",
    "    score += (len(path) - 1)\n",
    "    return score"
   ]
  },
  {
   "cell_type": "code",
   "execution_count": null,
   "id": "c888c4e2-72bf-4cf3-9b5f-bee0e8e2ef49",
   "metadata": {},
   "outputs": [],
   "source": [
    "def best_path(graph: dict[Pt, dict[Pt, Edge]], start: Pt, end: Pt, gif: list[Image.Image] | None = None) -> list[Pt]:\n",
    "    vertstack: list[Pt] = []\n",
    "    dead_verts: list[Pt] = []\n",
    "\n",
    "    vert: Pt = start\n",
    "    score_total: int = 0\n",
    "    last_dir: Pt = Pt(0, 1)\n",
    "\n",
    "    count = 0\n",
    "    while True:\n",
    "        if gif is not None:\n",
    "            gif.append(matimg(maze, colflt={\n",
    "                (lambda p,v: v == '#'): 'black',\n",
    "                (lambda p,v: p in graph): 'blue',\n",
    "                (lambda p,v: p in vertstack): 'magenta',\n",
    "                (lambda p,v: p in dead_verts): 'grey',\n",
    "                (lambda p,v: p == vert): 'lime'\n",
    "            }))\n",
    "        count += 1\n",
    "        # if count == 50:\n",
    "        #     print('BREAK!')\n",
    "        #     break\n",
    "        edges: dict[Pt, Edge] = {h:e for h, e in graph[vert].items() if (not e.dead) and (e.path[-1] not in vertstack + dead_verts)}\n",
    "        scores: dict[Pt, int] = {}\n",
    "        if len(edges) == 0:\n",
    "            dead_verts.append(vert)\n",
    "            vert = vertstack.pop()\n",
    "            continue\n",
    "        for head, edge in edges.items():\n",
    "            tail: Pt = edge.path[-1]\n",
    "            if tail == end:\n",
    "                vertstack.append(vert)\n",
    "                vertstack.append(tail)\n",
    "                return vertstack\n",
    "            scores[head] = score_path(edge.path, last_dir)\n",
    "        vertstack.append(vert)\n",
    "        best = edges[sorted(edges, key=lambda k: scores[k] * k.distance(end))[0]].path\n",
    "        last_dir = best[-1] - best[-2]\n",
    "        vert = best[-1]\n",
    "        score_total += scores[best[1]]"
   ]
  },
  {
   "cell_type": "code",
   "execution_count": null,
   "id": "fd686201-04c0-4cd3-8889-908bbe5f7a24",
   "metadata": {},
   "outputs": [],
   "source": [
    "def follow_verts(mat: Matrix, graph: dict[Pt, dict[Pt, Edge]], verts: list[Pt], gif: list[Image.Image] | None = None) -> list[Pt]:\n",
    "    full_path: list[Pt] = []\n",
    "    for n, vt in enumerate(verts):\n",
    "        if n + 1 == len(verts):\n",
    "            break\n",
    "        # Consider optimizing the path by checking if the end vertex of any edge matches\n",
    "        # *any* upcoming vertex, i.e. in verts[n:], and the edge that leads to the vertex\n",
    "        # that is closest to the end of the list\n",
    "        edges: list[Edge] = [\n",
    "            graph[vt][head] \\\n",
    "            for head in sorted(graph[vt], key=lambda i: len(graph[vt][i].path)) \\\n",
    "            if (not graph[vt][head].dead) and (graph[vt][head].path[-1] == verts[n + 1])\n",
    "        ]\n",
    "        full_path.extend(edges[0].path[:-1])\n",
    "        if gif is not None:\n",
    "            gif.append(matimg(mat, colflt={\n",
    "                (lambda p,v: v == '#'): 'black',\n",
    "                (lambda p,v: p in full_path): 'red',\n",
    "                (lambda p,v: p in verts): 'blue',\n",
    "            }))\n",
    "    full_path.append(verts[-1])\n",
    "    return full_path"
   ]
  },
  {
   "cell_type": "code",
   "execution_count": null,
   "id": "2cc7ef48-fdd9-4004-bbf5-971bae5fcc2a",
   "metadata": {},
   "outputs": [],
   "source": [
    "sample = readutf8('sample.txt')\n",
    "real = readutf8('input.txt')\n",
    "maze = strtomat(real)"
   ]
  },
  {
   "cell_type": "code",
   "execution_count": null,
   "id": "2c397c50-38c2-4ad6-b6f1-4681aee34340",
   "metadata": {},
   "outputs": [],
   "source": [
    "start, end = Pt(len(maze) - 2, 1), Pt(1, len(maze[0]) - 2)"
   ]
  },
  {
   "cell_type": "code",
   "execution_count": null,
   "id": "1f55eeec-780e-4aa4-866f-773fbb9d1a39",
   "metadata": {},
   "outputs": [],
   "source": [
    "# _frames = []\n",
    "ta = time.perf_counter()\n",
    "graph = build_graph(maze, start, end)\n",
    "tb = time.perf_counter()\n",
    "print(f'{tb - ta:.8f}')\n",
    "print(len(graph), f'@ {sys.getsizeof(graph) / 1000}KB')\n",
    "# _frames[0].save('out_a.gif', save_all=True, append_images=_frames[1:], duration=100)"
   ]
  },
  {
   "cell_type": "code",
   "execution_count": null,
   "id": "3f641f0a-6343-46bc-86ed-9eb915c2b917",
   "metadata": {},
   "outputs": [],
   "source": [
    "# _frames = []\n",
    "ta = time.perf_counter()\n",
    "retpath = best_path(graph, start, end)\n",
    "tb = time.perf_counter()\n",
    "print(f'{tb - ta:.8f}')\n",
    "print(len(retpath), f'@ {sys.getsizeof(retpath) / 1000}KB')\n",
    "# _frames[0].save('out_b.gif', save_all=True, append_images=_frames[1:], duration=100)"
   ]
  },
  {
   "cell_type": "code",
   "execution_count": null,
   "id": "bc77dfc2-c28d-47b7-b6de-148d51143a9a",
   "metadata": {},
   "outputs": [],
   "source": [
    "_finalframes = []\n",
    "ta = time.perf_counter()\n",
    "final_path = follow_verts(maze, graph, retpath)\n",
    "tb = time.perf_counter()\n",
    "print(f'{tb - ta:.8f}')\n",
    "print(len(retpath), f'@ {sys.getsizeof(retpath) / 1000}KB')\n",
    "# _finalframes[0].save('out_c.gif', save_all=True, append_images=_finalframes[1:], duration=100)"
   ]
  },
  {
   "cell_type": "code",
   "execution_count": null,
   "id": "cd7b9e24-44ac-4258-ad0f-9b27f62cf0b6",
   "metadata": {},
   "outputs": [],
   "source": [
    "score_path(final_path)"
   ]
  },
  {
   "cell_type": "code",
   "execution_count": null,
   "id": "2153426f-b17c-42d7-9ee1-9e38bf39acd6",
   "metadata": {},
   "outputs": [],
   "source": []
  }
 ],
 "metadata": {
  "kernelspec": {
   "display_name": "Python 3 (ipykernel)",
   "language": "python",
   "name": "python3"
  },
  "language_info": {
   "codemirror_mode": {
    "name": "ipython",
    "version": 3
   },
   "file_extension": ".py",
   "mimetype": "text/x-python",
   "name": "python",
   "nbconvert_exporter": "python",
   "pygments_lexer": "ipython3",
   "version": "3.12.8"
  }
 },
 "nbformat": 4,
 "nbformat_minor": 5
}
