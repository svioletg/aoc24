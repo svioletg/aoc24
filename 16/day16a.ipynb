{
 "cells": [
  {
   "cell_type": "code",
   "execution_count": 1,
   "id": "b015324a-df0d-42ec-8bc7-50d13dc69688",
   "metadata": {},
   "outputs": [],
   "source": [
    "import sys\n",
    "from copy import deepcopy\n",
    "import time\n",
    "\n",
    "sys.path.append('../utils')\n",
    "from pyutils import *"
   ]
  },
  {
   "cell_type": "code",
   "execution_count": 2,
   "id": "3454b254-6325-4dae-9b61-f669049873c3",
   "metadata": {},
   "outputs": [],
   "source": [
    "puzzle = readutf8('input.txt')\n",
    "sample = readutf8('sample.txt')"
   ]
  },
  {
   "cell_type": "code",
   "execution_count": 3,
   "id": "c1639ba9-7e90-4691-83fd-85aba56e0da4",
   "metadata": {},
   "outputs": [],
   "source": [
    "def walk_maze(mat: StrMatrix, start_char: str, end_char: str):\n",
    "    mat = deepcopy(mat)\n",
    "\n",
    "    start_pt: Pt = Pt(-1, -1)\n",
    "    end_pt: Pt = Pt(-1, -1)\n",
    "    for pt, val in mat_iter(mat):\n",
    "        if val == start_char:\n",
    "            start_pt = Pt.of(pt)\n",
    "        if val == end_char:\n",
    "            end_pt = Pt.of(pt)\n",
    "        if Pt(-1, -1) not in [start_pt, end_pt]:\n",
    "            break\n",
    "\n",
    "    assert(start_pt != Pt(-1, -1))\n",
    "    assert(end_pt != Pt(-1, -1))\n",
    "\n",
    "    visited: list[Pt] = []\n",
    "    pos = start_pt\n",
    "    dirpt: Pt = Pt(0, 1)\n",
    "    score: int = 0\n",
    "\n",
    "    log: list[str] = ['...']\n",
    "    def _next_branch(pos: Pt, this_branch: int):\n",
    "        nonlocal dirpt, score\n",
    "        \n",
    "        time.sleep(0.5)\n",
    "        clear_output(wait=True)\n",
    "        print(log[-1])\n",
    "        print(f'Now: {pos} ; {dirpt}')\n",
    "        print(f'Score: {score}')\n",
    "        print(show_in_matrix(mat, *visited, col='white on blue', colmap={pos:'black on red'}))\n",
    "\n",
    "        visited.append(pos)\n",
    "        for branch in Pt.cardinals():\n",
    "            log.append(f'Checking branch: {branch} (#{this_branch})')\n",
    "            if pos + branch == end_pt:\n",
    "                log.append(f'{pos + branch}: is END')\n",
    "                return\n",
    "            if pos + branch in visited:\n",
    "                log.append(f'{pos + branch}: visited')\n",
    "                continue\n",
    "            if matget(mat, pos + branch) == '#':\n",
    "                log.append(f'{pos + branch}: is a wall')\n",
    "                continue\n",
    "            if dirpt != branch:\n",
    "                diff = abs(Pt.cardinals().index(branch) - Pt.cardinals().index(dirpt))\n",
    "                if diff == 2:\n",
    "                    score += 2000\n",
    "                if diff in [1, 3]:\n",
    "                    score += 1000\n",
    "            dirpt = branch\n",
    "            _next_branch(pos + branch, this_branch + 1)\n",
    "            log.append(f'Out of branches')\n",
    "\n",
    "    return _next_branch(pos, 0)"
   ]
  },
  {
   "cell_type": "code",
   "execution_count": 4,
   "id": "bb9ed4b8-5f71-4d98-9d53-95b9e4f01784",
   "metadata": {},
   "outputs": [],
   "source": [
    "maze = strtomat(sample)"
   ]
  },
  {
   "cell_type": "code",
   "execution_count": 5,
   "id": "fab8e0e7-7eac-468b-bd97-b27773c4dee1",
   "metadata": {},
   "outputs": [
    {
     "name": "stdout",
     "output_type": "stream",
     "text": [
      "Checking branch: (0, -1) (#20)\n",
      "Now: (5, 2) ; (0, -1)\n",
      "Score: 46000\n",
      "#################\n",
      "#\u001b[37m\u001b[44m.\u001b[0m\u001b[37m\u001b[44m.\u001b[0m\u001b[37m\u001b[44m.\u001b[0m#\u001b[37m\u001b[44m.\u001b[0m\u001b[37m\u001b[44m.\u001b[0m\u001b[37m\u001b[44m.\u001b[0m#\u001b[37m\u001b[44m.\u001b[0m\u001b[37m\u001b[44m.\u001b[0m\u001b[37m\u001b[44m.\u001b[0m#\u001b[37m\u001b[44m.\u001b[0m\u001b[37m\u001b[44m.\u001b[0mE#\n",
      "#\u001b[37m\u001b[44m.\u001b[0m#\u001b[37m\u001b[44m.\u001b[0m#\u001b[37m\u001b[44m.\u001b[0m#\u001b[37m\u001b[44m.\u001b[0m#\u001b[37m\u001b[44m.\u001b[0m#\u001b[37m\u001b[44m.\u001b[0m#\u001b[37m\u001b[44m.\u001b[0m#\u001b[37m\u001b[44m.\u001b[0m#\n",
      "#\u001b[37m\u001b[44m.\u001b[0m#\u001b[37m\u001b[44m.\u001b[0m#\u001b[37m\u001b[44m.\u001b[0m#\u001b[37m\u001b[44m.\u001b[0m\u001b[37m\u001b[44m.\u001b[0m\u001b[37m\u001b[44m.\u001b[0m#\u001b[37m\u001b[44m.\u001b[0m\u001b[37m\u001b[44m.\u001b[0m\u001b[37m\u001b[44m.\u001b[0m#\u001b[37m\u001b[44m.\u001b[0m#\n",
      "#\u001b[37m\u001b[44m.\u001b[0m#\u001b[37m\u001b[44m.\u001b[0m#\u001b[37m\u001b[44m.\u001b[0m#\u001b[37m\u001b[44m.\u001b[0m###\u001b[37m\u001b[44m.\u001b[0m#\u001b[37m\u001b[44m.\u001b[0m#\u001b[37m\u001b[44m.\u001b[0m#\n",
      "#\u001b[37m\u001b[44m.\u001b[0m\u001b[30m\u001b[41m.\u001b[0m\u001b[37m\u001b[44m.\u001b[0m#\u001b[37m\u001b[44m.\u001b[0m#\u001b[37m\u001b[44m.\u001b[0m#\u001b[37m\u001b[44m.\u001b[0m\u001b[37m\u001b[44m.\u001b[0m\u001b[37m\u001b[44m.\u001b[0m\u001b[37m\u001b[44m.\u001b[0m\u001b[37m\u001b[44m.\u001b[0m#\u001b[37m\u001b[44m.\u001b[0m#\n",
      "#\u001b[37m\u001b[44m.\u001b[0m#\u001b[37m\u001b[44m.\u001b[0m#\u001b[37m\u001b[44m.\u001b[0m#\u001b[37m\u001b[44m.\u001b[0m#\u001b[37m\u001b[44m.\u001b[0m#####\u001b[37m\u001b[44m.\u001b[0m#\n",
      "#\u001b[37m\u001b[44m.\u001b[0m#\u001b[37m\u001b[44m.\u001b[0m\u001b[37m\u001b[44m.\u001b[0m\u001b[37m\u001b[44m.\u001b[0m#\u001b[37m\u001b[44m.\u001b[0m#\u001b[37m\u001b[44m.\u001b[0m#\u001b[37m\u001b[44m.\u001b[0m\u001b[37m\u001b[44m.\u001b[0m\u001b[37m\u001b[44m.\u001b[0m\u001b[37m\u001b[44m.\u001b[0m\u001b[37m\u001b[44m.\u001b[0m#\n",
      "#\u001b[37m\u001b[44m.\u001b[0m#\u001b[37m\u001b[44m.\u001b[0m#####\u001b[37m\u001b[44m.\u001b[0m#\u001b[37m\u001b[44m.\u001b[0m###\u001b[37m\u001b[44m.\u001b[0m#\n",
      "#\u001b[37m\u001b[44m.\u001b[0m#\u001b[37m\u001b[44m.\u001b[0m#\u001b[37m\u001b[44m.\u001b[0m\u001b[37m\u001b[44m.\u001b[0m\u001b[37m\u001b[44m.\u001b[0m\u001b[37m\u001b[44m.\u001b[0m\u001b[37m\u001b[44m.\u001b[0m\u001b[37m\u001b[44m.\u001b[0m\u001b[37m\u001b[44m.\u001b[0m#\u001b[37m\u001b[44m.\u001b[0m\u001b[37m\u001b[44m.\u001b[0m\u001b[37m\u001b[44m.\u001b[0m#\n",
      "#\u001b[37m\u001b[44m.\u001b[0m#\u001b[37m\u001b[44m.\u001b[0m###\u001b[37m\u001b[44m.\u001b[0m#####\u001b[37m\u001b[44m.\u001b[0m###\n",
      "#\u001b[37m\u001b[44m.\u001b[0m#\u001b[37m\u001b[44m.\u001b[0m#\u001b[37m\u001b[44m.\u001b[0m\u001b[37m\u001b[44m.\u001b[0m\u001b[37m\u001b[44m.\u001b[0m#\u001b[37m\u001b[44m.\u001b[0m\u001b[37m\u001b[44m.\u001b[0m\u001b[37m\u001b[44m.\u001b[0m\u001b[37m\u001b[44m.\u001b[0m\u001b[37m\u001b[44m.\u001b[0m#\u001b[37m\u001b[44m.\u001b[0m#\n",
      "#\u001b[37m\u001b[44m.\u001b[0m#\u001b[37m\u001b[44m.\u001b[0m#\u001b[37m\u001b[44m.\u001b[0m#####\u001b[37m\u001b[44m.\u001b[0m###\u001b[37m\u001b[44m.\u001b[0m#\n",
      "#\u001b[37m\u001b[44m.\u001b[0m#\u001b[37m\u001b[44m.\u001b[0m#\u001b[37m\u001b[44m.\u001b[0m\u001b[37m\u001b[44m.\u001b[0m\u001b[37m\u001b[44m.\u001b[0m\u001b[37m\u001b[44m.\u001b[0m\u001b[37m\u001b[44m.\u001b[0m\u001b[37m\u001b[44m.\u001b[0m\u001b[37m\u001b[44m.\u001b[0m\u001b[37m\u001b[44m.\u001b[0m\u001b[37m\u001b[44m.\u001b[0m#\u001b[37m\u001b[44m.\u001b[0m#\n",
      "#\u001b[37m\u001b[44m.\u001b[0m#\u001b[37m\u001b[44m.\u001b[0m#\u001b[37m\u001b[44m.\u001b[0m#########\u001b[37m\u001b[44m.\u001b[0m#\n",
      "#\u001b[37m\u001b[44mS\u001b[0m#\u001b[37m\u001b[44m.\u001b[0m\u001b[37m\u001b[44m.\u001b[0m\u001b[37m\u001b[44m.\u001b[0m\u001b[37m\u001b[44m.\u001b[0m\u001b[37m\u001b[44m.\u001b[0m\u001b[37m\u001b[44m.\u001b[0m\u001b[37m\u001b[44m.\u001b[0m\u001b[37m\u001b[44m.\u001b[0m\u001b[37m\u001b[44m.\u001b[0m\u001b[37m\u001b[44m.\u001b[0m\u001b[37m\u001b[44m.\u001b[0m\u001b[37m\u001b[44m.\u001b[0m\u001b[37m\u001b[44m.\u001b[0m#\n",
      "#################\n"
     ]
    }
   ],
   "source": [
    "walk_maze(maze, 'S', 'E')"
   ]
  },
  {
   "cell_type": "code",
   "execution_count": null,
   "id": "cad6214b-d9a6-424d-86a2-aec02a1d7054",
   "metadata": {},
   "outputs": [],
   "source": []
  }
 ],
 "metadata": {
  "kernelspec": {
   "display_name": "Python 3 (ipykernel)",
   "language": "python",
   "name": "python3"
  },
  "language_info": {
   "codemirror_mode": {
    "name": "ipython",
    "version": 3
   },
   "file_extension": ".py",
   "mimetype": "text/x-python",
   "name": "python",
   "nbconvert_exporter": "python",
   "pygments_lexer": "ipython3",
   "version": "3.12.8"
  }
 },
 "nbformat": 4,
 "nbformat_minor": 5
}
