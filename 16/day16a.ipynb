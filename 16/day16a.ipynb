{
 "cells": [
  {
   "cell_type": "code",
   "execution_count": null,
   "id": "9920e5d0-46dc-4e62-9b02-d6d518df4a4c",
   "metadata": {},
   "outputs": [],
   "source": [
    "import sys\n",
    "import time\n",
    "from dataclasses import dataclass\n",
    "from PIL import Image, ImageDraw\n",
    "\n",
    "sys.path.append('../utils')\n",
    "from pyutils import *"
   ]
  },
  {
   "cell_type": "code",
   "execution_count": null,
   "id": "d7847029-216c-45a8-92cc-34d435a912e9",
   "metadata": {},
   "outputs": [],
   "source": [
    "@dataclass\n",
    "class Edge:\n",
    "    path: list[Pt]\n",
    "    dead: bool = False"
   ]
  },
  {
   "cell_type": "code",
   "execution_count": null,
   "id": "0beac0c4-5abd-4031-b115-feeaca6e0cc0",
   "metadata": {},
   "outputs": [],
   "source": [
    "def scan_vertices(mat: StrMatrix) -> dict[Pt, dict[Pt, Edge]]:\n",
    "    verts: dict[Pt, dict[Pt, Edge]] = {}\n",
    "    for pt, val in mat_iter(mat):\n",
    "        if val == '#':\n",
    "            continue\n",
    "        branches: list[Pt] = []\n",
    "        for direc in Pt.cardinals():\n",
    "            future = pt + direc\n",
    "            if matget(mat, future) != '#':\n",
    "                branches.append(future)\n",
    "        if len(branches) > 2:\n",
    "            verts[pt] = {br:Edge([pt]) for br in branches}\n",
    "\n",
    "    return verts"
   ]
  },
  {
   "cell_type": "code",
   "execution_count": null,
   "id": "0d082337-9968-46fc-85ff-b1d66e118be3",
   "metadata": {},
   "outputs": [],
   "source": [
    "def build_graph(maze: Matrix, start: Pt, end: Pt, gif: list[Image.Image] | None = None) -> dict[Pt, dict[Pt, Edge]]:\n",
    "    verts: dict[Pt, dict[Pt, Edge]] = scan_vertices(maze)\n",
    "    if start not in verts:\n",
    "        verts[start] = {start + br:Edge([start]) for br in Pt.cardinals() if matget(maze, start + br) != '#'}\n",
    "    if end not in verts:\n",
    "        verts[end] = {end + br:Edge([end]) for br in Pt.cardinals() if matget(maze, end + br) != '#'}\n",
    "\n",
    "    def explore_until_vert(head: Pt, edge: Edge):\n",
    "        cursor: Pt = head\n",
    "        while True:\n",
    "            edge.path.append(cursor)\n",
    "            if cursor in verts:\n",
    "                return\n",
    "            branches: list[Pt] = []\n",
    "            for br in Pt.cardinals():\n",
    "                future = cursor + br\n",
    "                if (matget(maze, future) != '#') and (future not in edge.path):\n",
    "                    branches.append(cursor + br)\n",
    "            if len(branches) == 0:\n",
    "                edge.dead = True\n",
    "                return\n",
    "            if len(branches) == 1:\n",
    "                cursor = branches[0]\n",
    "                continue\n",
    "\n",
    "    cursor: Pt = start\n",
    "    seen: set[Pt] = set()\n",
    "    for k in verts:\n",
    "        for head, edge in verts[k].items():\n",
    "            explore_until_vert(head, edge)\n",
    "            seen.update(edge.path)\n",
    "            if gif is not None:\n",
    "                gif.append(matimg(maze, colflt={\n",
    "                    (lambda p,v: v == '#'): 'black',\n",
    "                    (lambda p,v: p in seen): 'grey',\n",
    "                    (lambda p,v: p in edge.path): 'red',\n",
    "                    (lambda p,v: p in verts): 'blue',\n",
    "                    (lambda p,v: p == k): 'magenta'\n",
    "                }))\n",
    "\n",
    "    return verts"
   ]
  },
  {
   "cell_type": "code",
   "execution_count": null,
   "id": "c888c4e2-72bf-4cf3-9b5f-bee0e8e2ef49",
   "metadata": {},
   "outputs": [],
   "source": [
    "def path_astar(graph: dict[Pt, dict[Pt, Edge]], start: Pt, end: Pt) -> list[Pt]:\n",
    "    vertstack: list[Pt] = []\n",
    "\n",
    "    vert: Pt = start\n",
    "    g_total: int = 0\n",
    "    while True:\n",
    "        # print()\n",
    "        # time.sleep(0.5)\n",
    "        # print(vert, g_total, vertstack)\n",
    "        edges: dict[Pt, Edge] = {h:e for h, e in graph[vert].items() if (not e.dead) and (e.path[-1] not in vertstack)}\n",
    "        # print('.', vert, edges)\n",
    "        scores: dict[Pt, int] = {}\n",
    "        for head, edge in edges.items():\n",
    "            # print('...', head, edge)\n",
    "            tail: Pt = edge.path[-1]\n",
    "            if tail == end:\n",
    "                vertstack.append(tail)\n",
    "                return vertstack\n",
    "            g: int = g_total + len(edge.path)\n",
    "            # h: int = tail.distance(end)\n",
    "            h = 0\n",
    "            # print('...##', head, tail, g, h, g + h)\n",
    "            scores[head] = g + h\n",
    "        vertstack.append(vert)\n",
    "        best = edges[sorted(edges, key=lambda k: scores[k])[0]].path\n",
    "        vert = best[-1]\n",
    "        g_total += len(best)"
   ]
  },
  {
   "cell_type": "code",
   "execution_count": null,
   "id": "2cc7ef48-fdd9-4004-bbf5-971bae5fcc2a",
   "metadata": {},
   "outputs": [],
   "source": [
    "sample = readutf8('sample.txt')\n",
    "real = readutf8('input.txt')\n",
    "maze = strtomat(real)"
   ]
  },
  {
   "cell_type": "code",
   "execution_count": null,
   "id": "2c397c50-38c2-4ad6-b6f1-4681aee34340",
   "metadata": {},
   "outputs": [],
   "source": [
    "start, end = Pt(len(maze) - 2, 1), Pt(1, len(maze[0]) - 2)"
   ]
  },
  {
   "cell_type": "code",
   "execution_count": null,
   "id": "1f55eeec-780e-4aa4-866f-773fbb9d1a39",
   "metadata": {},
   "outputs": [],
   "source": [
    "ta = time.perf_counter()\n",
    "_frames = []\n",
    "graph = build_graph(maze, start, end)\n",
    "tb = time.perf_counter()\n",
    "print(f'{tb - ta:.8f}')\n",
    "print(len(graph), f'@ {sys.getsizeof(graph) / 1000}KB')"
   ]
  },
  {
   "cell_type": "code",
   "execution_count": null,
   "id": "6aee5e9f-d5e1-4af2-9e67-1a9896e6e3f8",
   "metadata": {},
   "outputs": [],
   "source": [
    "# _frames[0].save('out.gif', save_all=True, append_images=_frames[1:], duration=10)"
   ]
  },
  {
   "cell_type": "code",
   "execution_count": null,
   "id": "3f641f0a-6343-46bc-86ed-9eb915c2b917",
   "metadata": {},
   "outputs": [],
   "source": [
    "ret = path_astar(graph, start, end)"
   ]
  },
  {
   "cell_type": "code",
   "execution_count": null,
   "id": "38c109e7-9335-472d-97a0-f91d73b75ef2",
   "metadata": {},
   "outputs": [],
   "source": [
    "ret"
   ]
  },
  {
   "cell_type": "code",
   "execution_count": null,
   "id": "bd4b33cb-59a5-41ad-99bf-53d3c1610c7b",
   "metadata": {},
   "outputs": [],
   "source": [
    "matimg(maze, colflt={\n",
    "    (lambda p,v: v == '#'): 'black',\n",
    "    (lambda p,v: p in ret): 'blue'\n",
    "}, resize=(500,500))"
   ]
  },
  {
   "cell_type": "code",
   "execution_count": null,
   "id": "bb87d5cb-ad99-4802-a337-337f8e9ef7f9",
   "metadata": {},
   "outputs": [],
   "source": []
  }
 ],
 "metadata": {
  "kernelspec": {
   "display_name": "Python 3 (ipykernel)",
   "language": "python",
   "name": "python3"
  },
  "language_info": {
   "codemirror_mode": {
    "name": "ipython",
    "version": 3
   },
   "file_extension": ".py",
   "mimetype": "text/x-python",
   "name": "python",
   "nbconvert_exporter": "python",
   "pygments_lexer": "ipython3",
   "version": "3.12.8"
  }
 },
 "nbformat": 4,
 "nbformat_minor": 5
}
