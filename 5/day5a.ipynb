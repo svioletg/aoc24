{
 "cells": [
  {
   "cell_type": "code",
   "execution_count": 1,
   "id": "42a94a8a-2846-40b4-985e-8b02eb403c22",
   "metadata": {},
   "outputs": [],
   "source": [
    "from copy import deepcopy"
   ]
  },
  {
   "cell_type": "code",
   "execution_count": 2,
   "id": "a531afd2-bc49-4f5c-b863-2b1bc9b79947",
   "metadata": {
    "jupyter": {
     "source_hidden": true
    }
   },
   "outputs": [],
   "source": [
    "sample=\"\"\"47|53\n",
    "97|13\n",
    "97|61\n",
    "97|47\n",
    "75|29\n",
    "61|13\n",
    "75|53\n",
    "29|13\n",
    "97|29\n",
    "53|29\n",
    "61|53\n",
    "97|53\n",
    "61|29\n",
    "47|13\n",
    "75|47\n",
    "97|75\n",
    "47|61\n",
    "75|61\n",
    "47|29\n",
    "75|13\n",
    "53|13\n",
    "\n",
    "75,47,61,53,29\n",
    "97,61,53,29,13\n",
    "75,29,13\n",
    "75,97,47,61,53\n",
    "61,13,29\n",
    "97,13,75,29,47\"\"\""
   ]
  },
  {
   "cell_type": "code",
   "execution_count": 3,
   "id": "d9e2c06e-826d-4556-a4b2-e637a9434bff",
   "metadata": {},
   "outputs": [],
   "source": [
    "with open('input.txt', 'r', encoding='utf-8') as f:\n",
    "    content = f.read()"
   ]
  },
  {
   "cell_type": "code",
   "execution_count": 4,
   "id": "d159919a-7cc9-4d32-a364-500399ada7da",
   "metadata": {},
   "outputs": [],
   "source": [
    "def parse(s: str):\n",
    "    out = {'rules': [], 'updates': []}\n",
    "    for line in s.split('\\n'):\n",
    "        if '|' in line:\n",
    "            out['rules'].append(list(map(int, line.split('|'))))\n",
    "        if ',' in line:\n",
    "            out['updates'].append(list(map(int, line.split(','))))\n",
    "    return out"
   ]
  },
  {
   "cell_type": "code",
   "execution_count": 5,
   "id": "4a6d9d60-3dd9-4490-9abc-2f19940d5b06",
   "metadata": {},
   "outputs": [],
   "source": [
    "def filter_valid_updates(data: dict):\n",
    "    filtered = []\n",
    "    for u in data['updates']:\n",
    "        is_valid = True\n",
    "        for r in data['rules']:\n",
    "            matching = [i for i in u if i in r]\n",
    "            if (len(matching) == 2) and (r != matching):\n",
    "                is_valid = False\n",
    "                break\n",
    "                # u.insert(u.index(matching[0]), u.pop(u.index(matching[1])))\n",
    "        if is_valid:\n",
    "            filtered.append(u)\n",
    "    return filtered"
   ]
  },
  {
   "cell_type": "code",
   "execution_count": 6,
   "id": "131feed5-c071-4a03-9ed2-2da968b7f01d",
   "metadata": {},
   "outputs": [],
   "source": [
    "valid_updates: list[list[int]] = filter_valid_updates(parse(content))"
   ]
  },
  {
   "cell_type": "code",
   "execution_count": 7,
   "id": "01146729-6656-4135-9388-b2a578d14548",
   "metadata": {},
   "outputs": [],
   "source": [
    "medians = []\n",
    "for u in valid_updates:\n",
    "    medians.append(u[len(u) // 2])\n",
    "medsum = sum(medians)"
   ]
  },
  {
   "cell_type": "code",
   "execution_count": 10,
   "id": "d2188b40-50ec-4ca1-87dd-121fe2da8d84",
   "metadata": {},
   "outputs": [
    {
     "name": "stdout",
     "output_type": "stream",
     "text": [
      "4462\n"
     ]
    }
   ],
   "source": [
    "print(medsum)"
   ]
  },
  {
   "cell_type": "code",
   "execution_count": null,
   "id": "a095f486-0fff-4696-85d2-cd7a3c6a6e02",
   "metadata": {},
   "outputs": [],
   "source": []
  }
 ],
 "metadata": {
  "kernelspec": {
   "display_name": "Python 3 (ipykernel)",
   "language": "python",
   "name": "python3"
  },
  "language_info": {
   "codemirror_mode": {
    "name": "ipython",
    "version": 3
   },
   "file_extension": ".py",
   "mimetype": "text/x-python",
   "name": "python",
   "nbconvert_exporter": "python",
   "pygments_lexer": "ipython3",
   "version": "3.12.8"
  }
 },
 "nbformat": 4,
 "nbformat_minor": 5
}
