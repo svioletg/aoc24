{
 "cells": [
  {
   "cell_type": "code",
   "execution_count": 1,
   "id": "42a94a8a-2846-40b4-985e-8b02eb403c22",
   "metadata": {},
   "outputs": [],
   "source": [
    "from copy import deepcopy"
   ]
  },
  {
   "cell_type": "code",
   "execution_count": 2,
   "id": "a531afd2-bc49-4f5c-b863-2b1bc9b79947",
   "metadata": {
    "jupyter": {
     "source_hidden": true
    }
   },
   "outputs": [],
   "source": [
    "sample=\"\"\"47|53\n",
    "97|13\n",
    "97|61\n",
    "97|47\n",
    "75|29\n",
    "61|13\n",
    "75|53\n",
    "29|13\n",
    "97|29\n",
    "53|29\n",
    "61|53\n",
    "97|53\n",
    "61|29\n",
    "47|13\n",
    "75|47\n",
    "97|75\n",
    "47|61\n",
    "75|61\n",
    "47|29\n",
    "75|13\n",
    "53|13\n",
    "\n",
    "75,47,61,53,29\n",
    "97,61,53,29,13\n",
    "75,29,13\n",
    "75,97,47,61,53\n",
    "61,13,29\n",
    "97,13,75,29,47\"\"\""
   ]
  },
  {
   "cell_type": "code",
   "execution_count": 3,
   "id": "d9e2c06e-826d-4556-a4b2-e637a9434bff",
   "metadata": {},
   "outputs": [],
   "source": [
    "with open('input.txt', 'r', encoding='utf-8') as f:\n",
    "    content = f.read()"
   ]
  },
  {
   "cell_type": "code",
   "execution_count": 4,
   "id": "d159919a-7cc9-4d32-a364-500399ada7da",
   "metadata": {},
   "outputs": [],
   "source": [
    "def parse(s: str):\n",
    "    out = {'rules': [], 'updates': []}\n",
    "    for line in s.split('\\n'):\n",
    "        if '|' in line:\n",
    "            out['rules'].append(list(map(int, line.split('|'))))\n",
    "        if ',' in line:\n",
    "            out['updates'].append(list(map(int, line.split(','))))\n",
    "    return out"
   ]
  },
  {
   "cell_type": "code",
   "execution_count": 5,
   "id": "4a6d9d60-3dd9-4490-9abc-2f19940d5b06",
   "metadata": {},
   "outputs": [],
   "source": [
    "def filter_valid_updates(data: dict) -> dict[str, list[list[int]]]:\n",
    "    datacopy = deepcopy(data)\n",
    "    sorted_updates = {'valid': [], 'corrected': []}\n",
    "    for u in data['updates']:\n",
    "        was_valid = True\n",
    "        while True:\n",
    "            swaps = 0\n",
    "            for r in data['rules']:\n",
    "                matching = [i for i in u if i in r]\n",
    "                if (len(matching) == 2) and (r != matching):\n",
    "                    was_valid = False\n",
    "                    u.insert(u.index(matching[0]), u.pop(u.index(matching[1])))\n",
    "                    swaps += 1\n",
    "            if swaps == 0:\n",
    "                break\n",
    "        sorted_updates['valid' if was_valid else 'corrected'].append(u)\n",
    "    return sorted_updates"
   ]
  },
  {
   "cell_type": "code",
   "execution_count": 8,
   "id": "131feed5-c071-4a03-9ed2-2da968b7f01d",
   "metadata": {},
   "outputs": [],
   "source": [
    "corrected_updates: list[list[int]] = filter_valid_updates(parse(content))['corrected']"
   ]
  },
  {
   "cell_type": "code",
   "execution_count": 10,
   "id": "01146729-6656-4135-9388-b2a578d14548",
   "metadata": {},
   "outputs": [
    {
     "name": "stdout",
     "output_type": "stream",
     "text": [
      "[94, 15, 62, 57, 77, 54, 41, 67, 74, 85, 33, 64, 33, 74, 88, 33, 44, 83, 54, 77, 65, 68, 35, 48, 21, 62, 65, 69, 41, 67, 85, 48, 54, 85, 95, 79, 33, 72, 77, 89, 43, 39, 72, 44, 68, 34, 44, 74, 86, 82, 53, 89, 97, 39, 18, 82, 18, 83, 56, 12, 69, 48, 74, 75, 47, 72, 33, 41, 18, 39, 65, 34, 56, 85, 74, 18, 21, 52, 69, 72, 34, 64, 28, 72, 44, 34, 65, 65, 25, 33, 86, 73, 74, 95, 74, 28, 86, 99, 74, 48, 37, 77, 86, 65, 86, 36, 88, 74, 46, 44, 39, 33, 15, 35, 89, 54] 6767\n"
     ]
    }
   ],
   "source": [
    "medians = []\n",
    "for u in corrected_updates:\n",
    "    medians.append(u[len(u) // 2])\n",
    "medsum = sum(medians)\n",
    "print(medians, medsum)"
   ]
  },
  {
   "cell_type": "code",
   "execution_count": null,
   "id": "a095f486-0fff-4696-85d2-cd7a3c6a6e02",
   "metadata": {},
   "outputs": [],
   "source": []
  }
 ],
 "metadata": {
  "kernelspec": {
   "display_name": "Python 3 (ipykernel)",
   "language": "python",
   "name": "python3"
  },
  "language_info": {
   "codemirror_mode": {
    "name": "ipython",
    "version": 3
   },
   "file_extension": ".py",
   "mimetype": "text/x-python",
   "name": "python",
   "nbconvert_exporter": "python",
   "pygments_lexer": "ipython3",
   "version": "3.12.8"
  }
 },
 "nbformat": 4,
 "nbformat_minor": 5
}
