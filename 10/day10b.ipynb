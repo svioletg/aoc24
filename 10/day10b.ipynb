{
 "cells": [
  {
   "cell_type": "markdown",
   "id": "5411f5f8-c06f-4ffc-9fb4-5439c660bb24",
   "metadata": {},
   "source": [
    "# Setup"
   ]
  },
  {
   "cell_type": "code",
   "execution_count": 1,
   "id": "db5a0762-aa3b-4192-8fc0-16b088c5453c",
   "metadata": {},
   "outputs": [],
   "source": [
    "import sys\n",
    "import time\n",
    "\n",
    "sys.path.append('../utils')\n",
    "from pyutils import *"
   ]
  },
  {
   "cell_type": "code",
   "execution_count": 2,
   "id": "63df2a4d-65d2-4a90-9e6d-72545ef77814",
   "metadata": {},
   "outputs": [],
   "source": [
    "# sample = \"\"\"0123\n",
    "# 1234\n",
    "# 8765\n",
    "# 9876\n",
    "# \"\"\"\n",
    "sample = \"\"\"89010123\n",
    "78121874\n",
    "87430965\n",
    "96549874\n",
    "45678903\n",
    "32019012\n",
    "01329801\n",
    "10456732\n",
    "\"\"\""
   ]
  },
  {
   "cell_type": "code",
   "execution_count": 3,
   "id": "aca8a8a9-526c-42c5-91e4-354d1521c356",
   "metadata": {},
   "outputs": [],
   "source": [
    "with open('input.txt', 'r', encoding='utf-8') as f:\n",
    "    puzzle = f.read()"
   ]
  },
  {
   "cell_type": "code",
   "execution_count": 4,
   "id": "1be2aeb6-ef5c-4484-ae25-2fa81a0dc8d9",
   "metadata": {},
   "outputs": [],
   "source": [
    "UP    = (-1,  0)\n",
    "DOWN  =  (1,  0)\n",
    "RIGHT =  (0,  1)\n",
    "LEFT  =  (0, -1)"
   ]
  },
  {
   "cell_type": "code",
   "execution_count": 5,
   "id": "9fc06247-eb04-4111-a6c0-68db834d6fda",
   "metadata": {},
   "outputs": [],
   "source": [
    "def find_trailheads(mat: IntMatrix) -> list[Point]:\n",
    "    return [pt for pt, val in mat_iter(mat) if val == 0]"
   ]
  },
  {
   "cell_type": "code",
   "execution_count": 6,
   "id": "1cb4069a-003d-4e6e-8642-05f34e56c263",
   "metadata": {},
   "outputs": [],
   "source": [
    "def get_trailhead_scores(mat: IntMatrix, trailheads: list[Point], show: bool=False):\n",
    "    scores: dict[Point, int] = {th:0 for th in trailheads}\n",
    "    ratings: dict[Point, int] = {th:0 for th in trailheads}\n",
    "    visited: list[Point] = []\n",
    "\n",
    "    def _find_next(pt: Point, level: int):\n",
    "        adj: dict[Point, int] = points_adjacent(pt, mat, corners=False)\n",
    "        branches: dict[Point, int] = {pt:h for pt, h in adj.items() if h == level + 1}\n",
    "        path.append((pt, level))\n",
    "        if show:\n",
    "            time.sleep(0.01)\n",
    "            clear_output(wait=True)\n",
    "            print(show_in_matrix(mat, *[pathpt for pathpt, level in path], col='white on blue', colmap={pt: 'white on red'}))\n",
    "        if not branches:\n",
    "            if level == 9:\n",
    "                ratings[head] += 1\n",
    "                if pt not in visited:\n",
    "                    scores[head] += 1\n",
    "            visited.append(pt)\n",
    "            path.clear()\n",
    "            return\n",
    "        visited.append(pt)\n",
    "        for pt, h in branches.items():\n",
    "            _find_next(pt, h)\n",
    "\n",
    "    for head in trailheads:\n",
    "        path: list[tuple[Point, int]] = [] # [ (<point>, <level>), ... ]\n",
    "        _find_next(head, 0)\n",
    "        visited.clear()\n",
    "\n",
    "    return scores, ratings"
   ]
  },
  {
   "cell_type": "markdown",
   "id": "44cfbe3b-7786-431a-ba9f-b0d0d653715e",
   "metadata": {},
   "source": [
    "# Solve"
   ]
  },
  {
   "cell_type": "code",
   "execution_count": 7,
   "id": "2345673b-8b67-4e9d-b8a5-2a97479dc5dd",
   "metadata": {},
   "outputs": [],
   "source": [
    "matrix = strtomat(puzzle.strip(), map_fn=int)"
   ]
  },
  {
   "cell_type": "code",
   "execution_count": 8,
   "id": "25311783-b3c9-4bf2-9c4f-d0f4e84ba5ad",
   "metadata": {},
   "outputs": [],
   "source": [
    "heads = find_trailheads(matrix)"
   ]
  },
  {
   "cell_type": "code",
   "execution_count": 11,
   "id": "fd93b159-3e08-46de-8ca4-09fe34bb0008",
   "metadata": {},
   "outputs": [],
   "source": [
    "headstats = get_trailhead_scores(matrix, heads, show=False)"
   ]
  },
  {
   "cell_type": "code",
   "execution_count": 10,
   "id": "5d877c73-790d-4d0e-a345-1989d68ab7bd",
   "metadata": {},
   "outputs": [
    {
     "name": "stdout",
     "output_type": "stream",
     "text": [
      "694 1497\n"
     ]
    }
   ],
   "source": [
    "print(sum([sc for head, sc in headstats[0].items()]), sum([r for head, r in headstats[1].items()]))"
   ]
  },
  {
   "cell_type": "code",
   "execution_count": null,
   "id": "d945bf68-db0e-4724-9ca4-b698eca45dfb",
   "metadata": {},
   "outputs": [],
   "source": []
  }
 ],
 "metadata": {
  "kernelspec": {
   "display_name": "Python 3 (ipykernel)",
   "language": "python",
   "name": "python3"
  },
  "language_info": {
   "codemirror_mode": {
    "name": "ipython",
    "version": 3
   },
   "file_extension": ".py",
   "mimetype": "text/x-python",
   "name": "python",
   "nbconvert_exporter": "python",
   "pygments_lexer": "ipython3",
   "version": "3.12.8"
  }
 },
 "nbformat": 4,
 "nbformat_minor": 5
}
