{
 "cells": [
  {
   "cell_type": "markdown",
   "id": "5411f5f8-c06f-4ffc-9fb4-5439c660bb24",
   "metadata": {},
   "source": [
    "# Setup"
   ]
  },
  {
   "cell_type": "code",
   "execution_count": 1,
   "id": "db5a0762-aa3b-4192-8fc0-16b088c5453c",
   "metadata": {},
   "outputs": [],
   "source": [
    "import sys\n",
    "import time\n",
    "\n",
    "sys.path.append('../utils')\n",
    "from pyutils import *"
   ]
  },
  {
   "cell_type": "code",
   "execution_count": 2,
   "id": "63df2a4d-65d2-4a90-9e6d-72545ef77814",
   "metadata": {},
   "outputs": [],
   "source": [
    "sample = \"\"\"0123\n",
    "1234\n",
    "8765\n",
    "9876\n",
    "\"\"\""
   ]
  },
  {
   "cell_type": "code",
   "execution_count": 3,
   "id": "aca8a8a9-526c-42c5-91e4-354d1521c356",
   "metadata": {},
   "outputs": [],
   "source": [
    "with open('input.txt', 'r', encoding='utf-8') as f:\n",
    "    puzzle = f.read()"
   ]
  },
  {
   "cell_type": "code",
   "execution_count": 4,
   "id": "1be2aeb6-ef5c-4484-ae25-2fa81a0dc8d9",
   "metadata": {},
   "outputs": [],
   "source": [
    "UP    = (-1,  0)\n",
    "DOWN  =  (1,  0)\n",
    "RIGHT =  (0,  1)\n",
    "LEFT  =  (0, -1)"
   ]
  },
  {
   "cell_type": "code",
   "execution_count": 5,
   "id": "9fc06247-eb04-4111-a6c0-68db834d6fda",
   "metadata": {},
   "outputs": [],
   "source": [
    "def find_trailheads(mat: IntMatrix) -> list[Point]:\n",
    "    return [pt for pt, val in mat_iter(mat) if val == 0]"
   ]
  },
  {
   "cell_type": "markdown",
   "id": "44cfbe3b-7786-431a-ba9f-b0d0d653715e",
   "metadata": {},
   "source": [
    "# Solve"
   ]
  },
  {
   "cell_type": "code",
   "execution_count": 6,
   "id": "2345673b-8b67-4e9d-b8a5-2a97479dc5dd",
   "metadata": {},
   "outputs": [],
   "source": [
    "matrix = strtomat(sample.strip(), map_fn=int)"
   ]
  },
  {
   "cell_type": "code",
   "execution_count": 7,
   "id": "25311783-b3c9-4bf2-9c4f-d0f4e84ba5ad",
   "metadata": {},
   "outputs": [],
   "source": [
    "heads = find_trailheads(matrix)"
   ]
  },
  {
   "cell_type": "code",
   "execution_count": 8,
   "id": "7d47063a-3f1c-478a-b2a9-8b4e9928d13f",
   "metadata": {},
   "outputs": [
    {
     "data": {
      "text/plain": [
       "{(-1, 0): None, (0, -1): None, (0, 0): 0, (0, 1): 1, (1, 0): 1}"
      ]
     },
     "execution_count": 8,
     "metadata": {},
     "output_type": "execute_result"
    }
   ],
   "source": [
    "points_adjacent(heads[0], matrix, corners=False)"
   ]
  },
  {
   "cell_type": "code",
   "execution_count": null,
   "id": "fd93b159-3e08-46de-8ca4-09fe34bb0008",
   "metadata": {},
   "outputs": [],
   "source": []
  }
 ],
 "metadata": {
  "kernelspec": {
   "display_name": "Python 3 (ipykernel)",
   "language": "python",
   "name": "python3"
  },
  "language_info": {
   "codemirror_mode": {
    "name": "ipython",
    "version": 3
   },
   "file_extension": ".py",
   "mimetype": "text/x-python",
   "name": "python",
   "nbconvert_exporter": "python",
   "pygments_lexer": "ipython3",
   "version": "3.12.8"
  }
 },
 "nbformat": 4,
 "nbformat_minor": 5
}
