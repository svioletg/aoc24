{
 "cells": [
  {
   "cell_type": "code",
   "execution_count": 1,
   "id": "db5a0762-aa3b-4192-8fc0-16b088c5453c",
   "metadata": {},
   "outputs": [],
   "source": [
    "import sys\n",
    "import time\n",
    "\n",
    "sys.path.append('../utils')\n",
    "from pyutils import *"
   ]
  },
  {
   "cell_type": "code",
   "execution_count": 3,
   "id": "63df2a4d-65d2-4a90-9e6d-72545ef77814",
   "metadata": {},
   "outputs": [],
   "source": [
    "sample = \"\"\"0123\n",
    "1234\n",
    "8765\n",
    "9876\n",
    "\"\"\""
   ]
  },
  {
   "cell_type": "code",
   "execution_count": 6,
   "id": "2345673b-8b67-4e9d-b8a5-2a97479dc5dd",
   "metadata": {},
   "outputs": [],
   "source": [
    "matrix = strtomat(sample.strip())"
   ]
  },
  {
   "cell_type": "code",
   "execution_count": 7,
   "id": "aca8a8a9-526c-42c5-91e4-354d1521c356",
   "metadata": {},
   "outputs": [
    {
     "data": {
      "text/plain": [
       "[['0', '1', '2', '3'],\n",
       " ['1', '2', '3', '4'],\n",
       " ['8', '7', '6', '5'],\n",
       " ['9', '8', '7', '6']]"
      ]
     },
     "execution_count": 7,
     "metadata": {},
     "output_type": "execute_result"
    }
   ],
   "source": [
    "matrix"
   ]
  },
  {
   "cell_type": "code",
   "execution_count": 8,
   "id": "b52c5040-560b-4849-8ac8-45c3d31992ba",
   "metadata": {},
   "outputs": [
    {
     "data": {
      "text/plain": [
       "{(-1, -1): '0',\n",
       " (-1, 0): '1',\n",
       " (-1, 1): '2',\n",
       " (0, -1): '1',\n",
       " (0, 0): '2',\n",
       " (0, 1): '3',\n",
       " (1, -1): '8',\n",
       " (1, 0): '7',\n",
       " (1, 1): '6'}"
      ]
     },
     "execution_count": 8,
     "metadata": {},
     "output_type": "execute_result"
    }
   ],
   "source": [
    "points_adjacent((1, 1), matrix)"
   ]
  },
  {
   "cell_type": "code",
   "execution_count": null,
   "id": "25311783-b3c9-4bf2-9c4f-d0f4e84ba5ad",
   "metadata": {},
   "outputs": [],
   "source": []
  }
 ],
 "metadata": {
  "kernelspec": {
   "display_name": "Python 3 (ipykernel)",
   "language": "python",
   "name": "python3"
  },
  "language_info": {
   "codemirror_mode": {
    "name": "ipython",
    "version": 3
   },
   "file_extension": ".py",
   "mimetype": "text/x-python",
   "name": "python",
   "nbconvert_exporter": "python",
   "pygments_lexer": "ipython3",
   "version": "3.12.8"
  }
 },
 "nbformat": 4,
 "nbformat_minor": 5
}
