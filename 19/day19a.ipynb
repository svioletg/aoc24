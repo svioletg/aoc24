{
 "cells": [
  {
   "cell_type": "code",
   "execution_count": null,
   "id": "208b1a5c-b0b4-4968-9949-b10cdf142dd2",
   "metadata": {},
   "outputs": [],
   "source": [
    "import sys\n",
    "from colorama import Fore, Back, Style\n",
    "import time\n",
    "\n",
    "sys.path.append('../utils')\n",
    "from pyutils import *"
   ]
  },
  {
   "cell_type": "code",
   "execution_count": null,
   "id": "e66cfa7c-6fe8-4e99-b720-6ceb6eba192c",
   "metadata": {},
   "outputs": [],
   "source": [
    "sample = readutf8('sample.txt')\n",
    "puzzle = readutf8('input.txt')"
   ]
  },
  {
   "cell_type": "code",
   "execution_count": null,
   "id": "b406dc93-ca3b-44dd-b476-b97ccbbe2739",
   "metadata": {},
   "outputs": [],
   "source": [
    "def parse_input(puzzle_input: str)-> tuple[list[str], list[str]]:\n",
    "    part = 1\n",
    "\n",
    "    available_towels: list[str] = []\n",
    "    wanted_designs: list[str] = []\n",
    "    for line in puzzle_input.split('\\n'):\n",
    "        if line.strip() == '':\n",
    "            part += 1\n",
    "            continue\n",
    "        if part == 1:\n",
    "            available_towels.extend(map(lambda i: i.strip(), line.split(',')))\n",
    "        elif part == 2:\n",
    "            wanted_designs.append(line)\n",
    "\n",
    "    return available_towels, wanted_designs"
   ]
  },
  {
   "cell_type": "code",
   "execution_count": null,
   "id": "3086e26c-9841-43aa-aa3c-ba72611db142",
   "metadata": {},
   "outputs": [],
   "source": [
    "def match(s, pats):\n",
    "    acc = ''\n",
    "    pos = 0\n",
    "    print('=========')\n",
    "    while pos < len(s):\n",
    "        matched: list[str] = []\n",
    "        check = s[pos:]\n",
    "        print(s)\n",
    "        print(acc)\n",
    "        print(s[:pos] + Back.RED + s[pos:] + Style.RESET_ALL)\n",
    "        for p in pats:\n",
    "            if check.startswith(p):\n",
    "                matched.append(p)\n",
    "        if len(matched) == 0:\n",
    "            break\n",
    "        matched.sort(reverse=True, key=lambda i: len(i))\n",
    "        print(matched)\n",
    "        p = matched[0]\n",
    "        acc += p\n",
    "        pos += len(p)\n",
    "    print('........')\n",
    "    print(s)\n",
    "    print(acc)\n",
    "    print('--------')\n",
    "    return s == acc"
   ]
  },
  {
   "cell_type": "code",
   "execution_count": null,
   "id": "78f6842e-a7bb-4ec8-9fe0-7885cea6f09d",
   "metadata": {},
   "outputs": [],
   "source": [
    "def check_towels(available: list[str], wanted: list[str]) -> list[bool]:\n",
    "    return [match(i, available) for i in wanted]"
   ]
  },
  {
   "cell_type": "code",
   "execution_count": null,
   "id": "f7804c18-48ff-4b53-87e6-e37c1118a376",
   "metadata": {},
   "outputs": [],
   "source": [
    "available_towels, wanted_designs = parse_input(puzzle)"
   ]
  },
  {
   "cell_type": "code",
   "execution_count": null,
   "id": "9faddd12-6963-4658-8c96-3c70e178c0fe",
   "metadata": {},
   "outputs": [],
   "source": [
    "# print(available_towels)\n",
    "# print()\n",
    "ta = time.perf_counter()\n",
    "check_towels(available_towels, wanted_designs).count(True)\n",
    "tb = time.perf_counter()\n",
    "print(f'{tb - ta:.08f}')"
   ]
  },
  {
   "cell_type": "code",
   "execution_count": null,
   "id": "125cc447-3155-4515-863d-7f21c4c89c63",
   "metadata": {},
   "outputs": [],
   "source": []
  }
 ],
 "metadata": {
  "kernelspec": {
   "display_name": "Python 3 (ipykernel)",
   "language": "python",
   "name": "python3"
  },
  "language_info": {
   "codemirror_mode": {
    "name": "ipython",
    "version": 3
   },
   "file_extension": ".py",
   "mimetype": "text/x-python",
   "name": "python",
   "nbconvert_exporter": "python",
   "pygments_lexer": "ipython3",
   "version": "3.12.8"
  }
 },
 "nbformat": 4,
 "nbformat_minor": 5
}
