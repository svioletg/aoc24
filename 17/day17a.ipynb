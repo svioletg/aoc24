{
 "cells": [
  {
   "cell_type": "code",
   "execution_count": null,
   "id": "149e8a41-f8a6-4f83-91d9-4c80008e1a82",
   "metadata": {},
   "outputs": [],
   "source": [
    "import sys\n",
    "from typing import Callable, Self\n",
    "\n",
    "sys.path.append('../utils')\n",
    "from pyutils import *"
   ]
  },
  {
   "cell_type": "code",
   "execution_count": null,
   "id": "bba928ec-c4ae-449b-a6ed-296f38dd662b",
   "metadata": {},
   "outputs": [],
   "source": [
    "class ElfComputer:\n",
    "    def __init__(self, r_a: int = 0, r_b: int = 0, r_c: int = 0):\n",
    "        self.r_a = r_a\n",
    "        self.r_b = r_b\n",
    "        self.r_c = r_c\n",
    "        self.inst_ptr: int = 0\n",
    "        self.inst_set: list[Callable] = [\n",
    "            self.adv, self.bxl, self.bst, self.jnz, self.bxc, self.out, self.bdv, self.cdv\n",
    "        ]\n",
    "        self.program: list[int] = []\n",
    "        self.stdout: list[int] = []\n",
    "\n",
    "    @classmethod\n",
    "    def from_str(cls, initstr: str) -> Self:\n",
    "        inst = cls()\n",
    "        for line in initstr.split('\\n'):\n",
    "            if line.startswith('Register A:'):\n",
    "                inst.r_a = int(line.split(':')[1].strip())\n",
    "            elif line.startswith('Register B:'):\n",
    "                inst.r_b = int(line.split(':')[1].strip())\n",
    "            elif line.startswith('Register C:'):\n",
    "                inst.r_c = int(line.split(':')[1].strip())\n",
    "            elif line.startswith('Program:'):\n",
    "                inst.program = list(map(int, line.split(':')[1].split(',')))\n",
    "        return inst\n",
    "    \n",
    "    def get_combo_op(self, val: int) -> int:\n",
    "        match val:\n",
    "            case 0 | 1 | 2 | 3: return val\n",
    "            case 4: return self.r_a\n",
    "            case 5: return self.r_b\n",
    "            case 6: return self.r_c\n",
    "            case 7: raise ValueError('Attempt to use reserved combo operand 7')\n",
    "\n",
    "    def run_program(self, must_copy: bool = False):\n",
    "        while True:\n",
    "            copy_success = True\n",
    "            n = 0\n",
    "            if must_copy:\n",
    "                self.r_a = n\n",
    "            self.inst_ptr = 0\n",
    "            while self.inst_ptr < len(self.program):\n",
    "                opcode = self.program[self.inst_ptr]\n",
    "                operand = self.program[self.inst_ptr + 1]\n",
    "                ret = self.inst_set[opcode](operand)\n",
    "                if ret != 1:\n",
    "                    self.inst_ptr += 2\n",
    "                if must_copy and (self.stdout != self.program[:len(self.stdout)]):\n",
    "                    n += 1\n",
    "                    copy_success = False\n",
    "                    break\n",
    "            if must_copy and not copy_success:\n",
    "                continue\n",
    "            break\n",
    "    \n",
    "    def _dv(self, op: int) -> int:\n",
    "        op = self.get_combo_op(op)\n",
    "        return self.r_a // (2 ** op)\n",
    "    \n",
    "    def adv(self, op: int):\n",
    "        self.r_a = self._dv(op)\n",
    "\n",
    "    def bdv(self, op: int):\n",
    "        self.r_b = self._dv(op)\n",
    "\n",
    "    def cdv(self, op: int):\n",
    "        self.r_c = self._dv(op)\n",
    "    \n",
    "    def bxl(self, op: int):\n",
    "        self.r_b = self.r_b ^ op\n",
    "\n",
    "    def bst(self, op: int):\n",
    "        op = self.get_combo_op(op)\n",
    "        self.r_b = op % 8\n",
    "\n",
    "    def jnz(self, op: int) -> int | None:\n",
    "        if self.r_a == 0:\n",
    "            return\n",
    "        else:\n",
    "            self.inst_ptr = op\n",
    "            return 1\n",
    "\n",
    "    def bxc(self, _):\n",
    "        self.r_b = self.r_b ^ self.r_c\n",
    "\n",
    "    def out(self, op: int):\n",
    "        op = self.get_combo_op(op)\n",
    "        self.stdout.append(op % 8)"
   ]
  },
  {
   "cell_type": "code",
   "execution_count": null,
   "id": "e07736fa-858a-434b-9949-565e73e3300a",
   "metadata": {},
   "outputs": [],
   "source": [
    "# puzzle_part = int(sys.argv[1])\n",
    "puzzle_part = 1\n",
    "sample = readutf8('sample.txt')\n",
    "puzzle = readutf8('input.txt')"
   ]
  },
  {
   "cell_type": "code",
   "execution_count": null,
   "id": "60ad5670-be27-4524-8e44-05b08884c9ad",
   "metadata": {},
   "outputs": [],
   "source": [
    "cpu = ElfComputer.from_str(puzzle)"
   ]
  },
  {
   "cell_type": "code",
   "execution_count": null,
   "id": "9759e4b5-2245-4ad5-892e-82a0e84809fe",
   "metadata": {},
   "outputs": [],
   "source": [
    "cpu.run_program(must_copy=True if puzzle_part == 2 else False)"
   ]
  },
  {
   "cell_type": "code",
   "execution_count": null,
   "id": "e63ce596-7440-4220-a3c1-a40dc0f12171",
   "metadata": {},
   "outputs": [],
   "source": [
    "','.join(map(str, cpu.stdout))"
   ]
  },
  {
   "cell_type": "code",
   "execution_count": null,
   "id": "1abef2c8-a035-404a-a6a1-9b31b409c0a7",
   "metadata": {},
   "outputs": [],
   "source": []
  }
 ],
 "metadata": {
  "kernelspec": {
   "display_name": "Python 3 (ipykernel)",
   "language": "python",
   "name": "python3"
  },
  "language_info": {
   "codemirror_mode": {
    "name": "ipython",
    "version": 3
   },
   "file_extension": ".py",
   "mimetype": "text/x-python",
   "name": "python",
   "nbconvert_exporter": "python",
   "pygments_lexer": "ipython3",
   "version": "3.12.8"
  }
 },
 "nbformat": 4,
 "nbformat_minor": 5
}
