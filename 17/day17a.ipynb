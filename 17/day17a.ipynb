{
 "cells": [
  {
   "cell_type": "code",
   "execution_count": 1,
   "id": "149e8a41-f8a6-4f83-91d9-4c80008e1a82",
   "metadata": {},
   "outputs": [],
   "source": [
    "import sys\n",
    "from typing import Callable, Self\n",
    "\n",
    "sys.path.append('../utils')\n",
    "from pyutils import *"
   ]
  },
  {
   "cell_type": "code",
   "execution_count": 55,
   "id": "bba928ec-c4ae-449b-a6ed-296f38dd662b",
   "metadata": {},
   "outputs": [],
   "source": [
    "class ElfComputer:\n",
    "    def __init__(self, r_a: int = 0, r_b: int = 0, r_c: int = 0):\n",
    "        self.r_a = r_a\n",
    "        self.r_b = r_b\n",
    "        self.r_c = r_c\n",
    "        self.inst_ptr: int = 0\n",
    "        self.inst_set: list[Callable] = [\n",
    "            self.adv, self.bxl, self.bst, self.jnz, self.bxc, self.out, self.bdv, self.cdv\n",
    "        ]\n",
    "        self.program: list[int] = []\n",
    "        self.stdout: list[int] = []\n",
    "\n",
    "    @classmethod\n",
    "    def from_str(cls, initstr: str) -> Self:\n",
    "        inst = cls()\n",
    "        for line in initstr.split('\\n'):\n",
    "            if line.startswith('Register A:'):\n",
    "                inst.r_a = int(line.split(':')[1].strip())\n",
    "            elif line.startswith('Register B:'):\n",
    "                inst.r_b = int(line.split(':')[1].strip())\n",
    "            elif line.startswith('Register C:'):\n",
    "                inst.r_c = int(line.split(':')[1].strip())\n",
    "            elif line.startswith('Program:'):\n",
    "                inst.program = list(map(int, line.split(':')[1].split(',')))\n",
    "        return inst\n",
    "    \n",
    "    def get_combo_op(self, val: int) -> int:\n",
    "        match val:\n",
    "            case 0 | 1 | 2 | 3: return val\n",
    "            case 4: return self.r_a\n",
    "            case 5: return self.r_b\n",
    "            case 6: return self.r_c\n",
    "            case 7: raise ValueError('Attempt to use reserved combo operand 7')\n",
    "\n",
    "    def run_program(self, must_copy: bool = False):\n",
    "        while True:\n",
    "            copy_success = True\n",
    "            n = 0\n",
    "            if must_copy:\n",
    "                self.r_a = n\n",
    "            self.inst_ptr = 0\n",
    "            while self.inst_ptr < len(self.program):\n",
    "                opcode = self.program[self.inst_ptr]\n",
    "                operand = self.program[self.inst_ptr + 1]\n",
    "                ret = self.inst_set[opcode](operand)\n",
    "                if ret != 1:\n",
    "                    self.inst_ptr += 2\n",
    "                if must_copy and (self.stdout != self.program[:len(self.stdout)]):\n",
    "                    n += 1\n",
    "                    copy_success = False\n",
    "                    break\n",
    "            if must_copy and not copy_success:\n",
    "                continue\n",
    "            break\n",
    "    \n",
    "    def _dv(self, op: int) -> int:\n",
    "        op = self.get_combo_op(op)\n",
    "        return self.r_a // (2 ** op)\n",
    "    \n",
    "    def adv(self, op: int):\n",
    "        self.r_a = self._dv(op)\n",
    "\n",
    "    def bdv(self, op: int):\n",
    "        self.r_b = self._dv(op)\n",
    "\n",
    "    def cdv(self, op: int):\n",
    "        self.r_c = self._dv(op)\n",
    "    \n",
    "    def bxl(self, op: int):\n",
    "        self.r_b = self.r_b ^ op\n",
    "\n",
    "    def bst(self, op: int):\n",
    "        op = self.get_combo_op(op)\n",
    "        self.r_b = op % 8\n",
    "\n",
    "    def jnz(self, op: int) -> int | None:\n",
    "        if self.r_a == 0:\n",
    "            return\n",
    "        else:\n",
    "            self.inst_ptr = op\n",
    "            return 1\n",
    "\n",
    "    def bxc(self, _):\n",
    "        self.r_b = self.r_b ^ self.r_c\n",
    "\n",
    "    def out(self, op: int):\n",
    "        op = self.get_combo_op(op)\n",
    "        self.stdout.append(op % 8)"
   ]
  },
  {
   "cell_type": "code",
   "execution_count": 56,
   "id": "e07736fa-858a-434b-9949-565e73e3300a",
   "metadata": {},
   "outputs": [],
   "source": [
    "sample = readutf8('sample.txt')\n",
    "puzzle = readutf8('input.txt')"
   ]
  },
  {
   "cell_type": "code",
   "execution_count": 57,
   "id": "60ad5670-be27-4524-8e44-05b08884c9ad",
   "metadata": {},
   "outputs": [],
   "source": [
    "cpu = ElfComputer.from_str(puzzle)"
   ]
  },
  {
   "cell_type": "code",
   "execution_count": null,
   "id": "9759e4b5-2245-4ad5-892e-82a0e84809fe",
   "metadata": {},
   "outputs": [],
   "source": [
    "cpu.run_program(must_copy=True)"
   ]
  },
  {
   "cell_type": "code",
   "execution_count": 37,
   "id": "e63ce596-7440-4220-a3c1-a40dc0f12171",
   "metadata": {},
   "outputs": [
    {
     "data": {
      "text/plain": [
       "'1,5,7,4,1,6,0,3,0,0'"
      ]
     },
     "execution_count": 37,
     "metadata": {},
     "output_type": "execute_result"
    }
   ],
   "source": [
    "','.join(map(str, cpu.stdout))"
   ]
  },
  {
   "cell_type": "code",
   "execution_count": 38,
   "id": "4b459601-81a4-418b-9895-027e8653a469",
   "metadata": {},
   "outputs": [
    {
     "data": {
      "text/plain": [
       "[2, 4, 1, 3, 7, 5, 4, 0, 1, 3, 0, 3, 5, 5, 3, 0]"
      ]
     },
     "execution_count": 38,
     "metadata": {},
     "output_type": "execute_result"
    }
   ],
   "source": [
    "cpu.program"
   ]
  },
  {
   "cell_type": "code",
   "execution_count": 22,
   "id": "d501498f-2d67-4b5a-81d9-9b2d41f31f06",
   "metadata": {},
   "outputs": [
    {
     "ename": "KeyboardInterrupt",
     "evalue": "",
     "output_type": "error",
     "traceback": [
      "\u001b[0;31m---------------------------------------------------------------------------\u001b[0m",
      "\u001b[0;31mKeyboardInterrupt\u001b[0m                         Traceback (most recent call last)",
      "Cell \u001b[0;32mIn[22], line 3\u001b[0m\n\u001b[1;32m      1\u001b[0m \u001b[38;5;28;01mwhile\u001b[39;00m \u001b[38;5;28;01mTrue\u001b[39;00m:\n\u001b[1;32m      2\u001b[0m     n \u001b[38;5;241m=\u001b[39m \u001b[38;5;241m0\u001b[39m\n\u001b[0;32m----> 3\u001b[0m     testcpu \u001b[38;5;241m=\u001b[39m \u001b[43mElfComputer\u001b[49m\u001b[38;5;241;43m.\u001b[39;49m\u001b[43mfrom_str\u001b[49m\u001b[43m(\u001b[49m\u001b[43msample\u001b[49m\u001b[43m)\u001b[49m\n\u001b[1;32m      4\u001b[0m     testcpu\u001b[38;5;241m.\u001b[39mr_a \u001b[38;5;241m=\u001b[39m n\n\u001b[1;32m      5\u001b[0m     testcpu\u001b[38;5;241m.\u001b[39mrun_program()\n",
      "Cell \u001b[0;32mIn[2], line 20\u001b[0m, in \u001b[0;36mElfComputer.from_str\u001b[0;34m(cls, initstr)\u001b[0m\n\u001b[1;32m     18\u001b[0m \u001b[38;5;28;01mif\u001b[39;00m line\u001b[38;5;241m.\u001b[39mstartswith(\u001b[38;5;124m'\u001b[39m\u001b[38;5;124mRegister A:\u001b[39m\u001b[38;5;124m'\u001b[39m):\n\u001b[1;32m     19\u001b[0m     inst\u001b[38;5;241m.\u001b[39mr_a \u001b[38;5;241m=\u001b[39m \u001b[38;5;28mint\u001b[39m(line\u001b[38;5;241m.\u001b[39msplit(\u001b[38;5;124m'\u001b[39m\u001b[38;5;124m:\u001b[39m\u001b[38;5;124m'\u001b[39m)[\u001b[38;5;241m1\u001b[39m]\u001b[38;5;241m.\u001b[39mstrip())\n\u001b[0;32m---> 20\u001b[0m \u001b[38;5;28;01melif\u001b[39;00m \u001b[43mline\u001b[49m\u001b[38;5;241;43m.\u001b[39;49m\u001b[43mstartswith\u001b[49m\u001b[43m(\u001b[49m\u001b[38;5;124;43m'\u001b[39;49m\u001b[38;5;124;43mRegister B:\u001b[39;49m\u001b[38;5;124;43m'\u001b[39;49m\u001b[43m)\u001b[49m:\n\u001b[1;32m     21\u001b[0m     inst\u001b[38;5;241m.\u001b[39mr_b \u001b[38;5;241m=\u001b[39m \u001b[38;5;28mint\u001b[39m(line\u001b[38;5;241m.\u001b[39msplit(\u001b[38;5;124m'\u001b[39m\u001b[38;5;124m:\u001b[39m\u001b[38;5;124m'\u001b[39m)[\u001b[38;5;241m1\u001b[39m]\u001b[38;5;241m.\u001b[39mstrip())\n\u001b[1;32m     22\u001b[0m \u001b[38;5;28;01melif\u001b[39;00m line\u001b[38;5;241m.\u001b[39mstartswith(\u001b[38;5;124m'\u001b[39m\u001b[38;5;124mRegister C:\u001b[39m\u001b[38;5;124m'\u001b[39m):\n",
      "\u001b[0;31mKeyboardInterrupt\u001b[0m: "
     ]
    }
   ],
   "source": [
    "while True:\n",
    "    n = 0\n",
    "    testcpu = ElfComputer.from_str(sample)\n",
    "    testcpu.r_a = n\n",
    "    testcpu.run_program()\n",
    "    if list(map(int, testcpu.stdout)) == testcpu.program:\n",
    "        print(0)\n",
    "        break\n",
    "    else:\n",
    "        n += 1"
   ]
  },
  {
   "cell_type": "code",
   "execution_count": 24,
   "id": "244c699b-0243-4b5f-953b-12a7b251502f",
   "metadata": {},
   "outputs": [
    {
     "data": {
      "text/plain": [
       "[1, 2]"
      ]
     },
     "execution_count": 24,
     "metadata": {},
     "output_type": "execute_result"
    }
   ],
   "source": [
    "[1, 2, 3, 4, 5][:2]"
   ]
  },
  {
   "cell_type": "code",
   "execution_count": null,
   "id": "1abef2c8-a035-404a-a6a1-9b31b409c0a7",
   "metadata": {},
   "outputs": [],
   "source": []
  }
 ],
 "metadata": {
  "kernelspec": {
   "display_name": "Python 3 (ipykernel)",
   "language": "python",
   "name": "python3"
  },
  "language_info": {
   "codemirror_mode": {
    "name": "ipython",
    "version": 3
   },
   "file_extension": ".py",
   "mimetype": "text/x-python",
   "name": "python",
   "nbconvert_exporter": "python",
   "pygments_lexer": "ipython3",
   "version": "3.12.8"
  }
 },
 "nbformat": 4,
 "nbformat_minor": 5
}
