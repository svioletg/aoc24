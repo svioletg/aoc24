{
 "cells": [
  {
   "cell_type": "code",
   "execution_count": 1,
   "id": "d79c84cc-ba9d-45ab-9aab-7fc601cef25c",
   "metadata": {},
   "outputs": [],
   "source": [
    "import math\n",
    "from typing import Any\n",
    "from collections.abc import Generator, Callable, Iterable, Sequence\n",
    "from time import perf_counter"
   ]
  },
  {
   "cell_type": "code",
   "execution_count": 2,
   "id": "226d0e04-247a-4c40-a9fb-e1e0654062be",
   "metadata": {},
   "outputs": [],
   "source": [
    "sample=\"\"\"190: 10 19\n",
    "3267: 81 40 27\n",
    "83: 17 5\n",
    "156: 15 6\n",
    "7290: 6 8 6 15\n",
    "161011: 16 10 13\n",
    "192: 17 8 14\n",
    "21037: 9 7 18 13\n",
    "292: 11 6 16 20\n",
    "\"\"\""
   ]
  },
  {
   "cell_type": "code",
   "execution_count": 3,
   "id": "68d86db9-f8ce-41e3-8c41-ab40b35b1dd2",
   "metadata": {},
   "outputs": [],
   "source": [
    "with open('input.txt', 'r', encoding='utf-8') as f:\n",
    "    content = f.read()"
   ]
  },
  {
   "cell_type": "code",
   "execution_count": 4,
   "id": "2a114a21-91d1-4c9a-bb6a-b1463c53d7e8",
   "metadata": {},
   "outputs": [],
   "source": [
    "def mapl[T](fn: Callable, it: Iterable[T]) -> list[T]:\n",
    "    return list(map(fn, it))"
   ]
  },
  {
   "cell_type": "code",
   "execution_count": 5,
   "id": "212467c6-429a-4a3f-9861-5735e6f5faf6",
   "metadata": {},
   "outputs": [],
   "source": [
    "def pairwise(it: Sequence) -> Generator:\n",
    "    for n, i in enumerate(it):\n",
    "        if n + 1 == len(it):\n",
    "            break\n",
    "        yield it[n], it[n + 1]"
   ]
  },
  {
   "cell_type": "code",
   "execution_count": 6,
   "id": "47e27171-11c8-47d5-846f-581a3a62e324",
   "metadata": {},
   "outputs": [],
   "source": [
    "def product(it: Iterable, repeat: int) -> Generator:\n",
    "    pools = [tuple(it)] * repeat\n",
    "    result = [[]]\n",
    "    for pool in pools:\n",
    "        result = [x + [y] for x in result for y in pool]\n",
    "    for r in result:\n",
    "        yield(r)"
   ]
  },
  {
   "cell_type": "code",
   "execution_count": 12,
   "id": "094c0909-4dcd-4f73-99d5-d713e3d1c226",
   "metadata": {},
   "outputs": [],
   "source": [
    "def tryops(eqs, ops):\n",
    "    loopcount = 0\n",
    "    solvable = []\n",
    "    for e in eqs:\n",
    "        possible_seqs = [[None] + opseq for opseq in product(ops, len(e['values']) - 1)]\n",
    "        eq_done = False\n",
    "        while True:\n",
    "            test_result = 0\n",
    "            for n1, opseq in enumerate(possible_seqs):\n",
    "                for n2, v in enumerate(e['values']):\n",
    "                    continue\n",
    "                    if n2 == 0:\n",
    "                        test_result = v\n",
    "                        continue\n",
    "                    if opseq[n2] == '+':\n",
    "                        test_result += v\n",
    "                    elif opseq[n2] == '*':\n",
    "                        test_result *= v\n",
    "                    elif opseq[n2] == '||':\n",
    "                        test_result = int(str(test_result) + str(v))\n",
    "                if test_result == e['result']:\n",
    "                    eq_done = True\n",
    "                    solvable.append({'values': e['values'].copy(), 'result': test_result, 'opseq': opseq})\n",
    "            else:\n",
    "                eq_done = True\n",
    "            if eq_done:\n",
    "                break\n",
    "    return solvable"
   ]
  },
  {
   "cell_type": "code",
   "execution_count": 13,
   "id": "a27be72e-6b07-4a1c-b1d4-ad15e1ad5af2",
   "metadata": {},
   "outputs": [],
   "source": [
    "operations = ['+', '*', '||']\n",
    "equations = [{'result': int(l.split(':')[0]), 'values': mapl(int, l.split(':')[1].split())} for l in content.strip().split('\\n') if ':' in l]"
   ]
  },
  {
   "cell_type": "code",
   "execution_count": 14,
   "id": "4e7c8f89-8f35-40af-b448-4c256b5f949a",
   "metadata": {
    "scrolled": true
   },
   "outputs": [
    {
     "name": "stderr",
     "output_type": "stream",
     "text": [
      "Exception ignored in: <bound method IPythonKernel._clean_thread_parent_frames of <ipykernel.ipkernel.IPythonKernel object at 0x7832d1504ce0>>\n",
      "Traceback (most recent call last):\n",
      "  File \"/home/violet/.pyenv/versions/3.12.8/lib/python3.12/site-packages/ipykernel/ipkernel.py\", line 775, in _clean_thread_parent_frames\n",
      "    def _clean_thread_parent_frames(\n",
      "\n",
      "KeyboardInterrupt: \n"
     ]
    },
    {
     "ename": "KeyboardInterrupt",
     "evalue": "",
     "output_type": "error",
     "traceback": [
      "\u001b[0;31m---------------------------------------------------------------------------\u001b[0m",
      "\u001b[0;31mKeyboardInterrupt\u001b[0m                         Traceback (most recent call last)",
      "Cell \u001b[0;32mIn[14], line 2\u001b[0m\n\u001b[1;32m      1\u001b[0m ta \u001b[38;5;241m=\u001b[39m perf_counter()\n\u001b[0;32m----> 2\u001b[0m solvable \u001b[38;5;241m=\u001b[39m \u001b[43mtryops\u001b[49m\u001b[43m(\u001b[49m\u001b[43mequations\u001b[49m\u001b[43m,\u001b[49m\u001b[43m \u001b[49m\u001b[43moperations\u001b[49m\u001b[43m)\u001b[49m\n\u001b[1;32m      3\u001b[0m tb \u001b[38;5;241m=\u001b[39m perf_counter()\n\u001b[1;32m      4\u001b[0m \u001b[38;5;28mprint\u001b[39m(\u001b[38;5;124mf\u001b[39m\u001b[38;5;124m'\u001b[39m\u001b[38;5;132;01m{\u001b[39;00mtb\u001b[38;5;250m \u001b[39m\u001b[38;5;241m-\u001b[39m\u001b[38;5;250m \u001b[39mta\u001b[38;5;132;01m:\u001b[39;00m\u001b[38;5;124m.03f\u001b[39m\u001b[38;5;132;01m}\u001b[39;00m\u001b[38;5;124m'\u001b[39m)\n",
      "Cell \u001b[0;32mIn[12], line 20\u001b[0m, in \u001b[0;36mtryops\u001b[0;34m(eqs, ops)\u001b[0m\n\u001b[1;32m     18\u001b[0m     \u001b[38;5;28;01melif\u001b[39;00m opseq[n2] \u001b[38;5;241m==\u001b[39m \u001b[38;5;124m'\u001b[39m\u001b[38;5;124m||\u001b[39m\u001b[38;5;124m'\u001b[39m:\n\u001b[1;32m     19\u001b[0m         test_result \u001b[38;5;241m=\u001b[39m \u001b[38;5;28mint\u001b[39m(\u001b[38;5;28mstr\u001b[39m(test_result) \u001b[38;5;241m+\u001b[39m \u001b[38;5;28mstr\u001b[39m(v))\n\u001b[0;32m---> 20\u001b[0m \u001b[38;5;28;01mif\u001b[39;00m test_result \u001b[38;5;241m==\u001b[39m e[\u001b[38;5;124m'\u001b[39m\u001b[38;5;124mresult\u001b[39m\u001b[38;5;124m'\u001b[39m]:\n\u001b[1;32m     21\u001b[0m     eq_done \u001b[38;5;241m=\u001b[39m \u001b[38;5;28;01mTrue\u001b[39;00m\n\u001b[1;32m     22\u001b[0m     solvable\u001b[38;5;241m.\u001b[39mappend({\u001b[38;5;124m'\u001b[39m\u001b[38;5;124mvalues\u001b[39m\u001b[38;5;124m'\u001b[39m: e[\u001b[38;5;124m'\u001b[39m\u001b[38;5;124mvalues\u001b[39m\u001b[38;5;124m'\u001b[39m]\u001b[38;5;241m.\u001b[39mcopy(), \u001b[38;5;124m'\u001b[39m\u001b[38;5;124mresult\u001b[39m\u001b[38;5;124m'\u001b[39m: test_result, \u001b[38;5;124m'\u001b[39m\u001b[38;5;124mopseq\u001b[39m\u001b[38;5;124m'\u001b[39m: opseq})\n",
      "\u001b[0;31mKeyboardInterrupt\u001b[0m: "
     ]
    }
   ],
   "source": [
    "ta = perf_counter()\n",
    "solvable = tryops(equations, operations)\n",
    "tb = perf_counter()\n",
    "print(f'{tb - ta:.03f}')"
   ]
  },
  {
   "cell_type": "code",
   "execution_count": 10,
   "id": "9dffce65-3923-4dba-829f-d59326969cbb",
   "metadata": {},
   "outputs": [
    {
     "name": "stdout",
     "output_type": "stream",
     "text": [
      "165278151522644\n"
     ]
    }
   ],
   "source": [
    "print(sum(set(group['result'] for group in solvable)))"
   ]
  },
  {
   "cell_type": "code",
   "execution_count": 15,
   "id": "71a53246-bd55-4b40-bc0d-8be26d7045d0",
   "metadata": {},
   "outputs": [
    {
     "data": {
      "text/plain": [
       "165278151522644"
      ]
     },
     "execution_count": 15,
     "metadata": {},
     "output_type": "execute_result"
    }
   ],
   "source": [
    "165278151522644"
   ]
  }
 ],
 "metadata": {
  "kernelspec": {
   "display_name": "Python 3",
   "language": "python",
   "name": "python3"
  },
  "language_info": {
   "codemirror_mode": {
    "name": "ipython",
    "version": 3
   },
   "file_extension": ".py",
   "mimetype": "text/x-python",
   "name": "python",
   "nbconvert_exporter": "python",
   "pygments_lexer": "ipython3",
   "version": "3.12.8"
  }
 },
 "nbformat": 4,
 "nbformat_minor": 5
}
