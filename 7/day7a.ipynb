{
 "cells": [
  {
   "cell_type": "code",
   "execution_count": 1,
   "id": "d79c84cc-ba9d-45ab-9aab-7fc601cef25c",
   "metadata": {},
   "outputs": [],
   "source": [
    "import time\n",
    "from typing import Any\n",
    "from collections.abc import Sequence, Callable, Iterable, Generator\n",
    "import sys\n",
    "\n",
    "sys.path.append('../utils')\n",
    "from pyutils import *"
   ]
  },
  {
   "cell_type": "code",
   "execution_count": 2,
   "id": "226d0e04-247a-4c40-a9fb-e1e0654062be",
   "metadata": {},
   "outputs": [],
   "source": [
    "sample=\"\"\"190: 10 19\n",
    "3267: 81 40 27\n",
    "83: 17 5\n",
    "156: 15 6\n",
    "7290: 6 8 6 15\n",
    "161011: 16 10 13\n",
    "192: 17 8 14\n",
    "21037: 9 7 18 13\n",
    "292: 11 6 16 20\n",
    "\"\"\""
   ]
  },
  {
   "cell_type": "code",
   "execution_count": 3,
   "id": "68d86db9-f8ce-41e3-8c41-ab40b35b1dd2",
   "metadata": {},
   "outputs": [],
   "source": [
    "with open('input.txt', 'r', encoding='utf-8') as f:\n",
    "    content = f.read()"
   ]
  },
  {
   "cell_type": "code",
   "execution_count": 4,
   "id": "2a114a21-91d1-4c9a-bb6a-b1463c53d7e8",
   "metadata": {},
   "outputs": [],
   "source": [
    "def mapl[T](fn: Callable, it: Iterable[T]) -> list[T]:\n",
    "    return list(map(fn, it))"
   ]
  },
  {
   "cell_type": "code",
   "execution_count": 5,
   "id": "212467c6-429a-4a3f-9861-5735e6f5faf6",
   "metadata": {},
   "outputs": [],
   "source": [
    "def pairwise(it: Sequence) -> Generator:\n",
    "    for n, i in enumerate(it):\n",
    "        if n + 1 == len(it):\n",
    "            break\n",
    "        yield it[n], it[n + 1]"
   ]
  },
  {
   "cell_type": "code",
   "execution_count": 6,
   "id": "47e27171-11c8-47d5-846f-581a3a62e324",
   "metadata": {},
   "outputs": [],
   "source": [
    "def product(it: Iterable, repeat: int) -> Generator:\n",
    "    pools = [tuple(it)] * repeat\n",
    "    result = [[]]\n",
    "    for pool in pools:\n",
    "        result = [x + [y] for x in result for y in pool]\n",
    "    for r in result:\n",
    "        yield(r)"
   ]
  },
  {
   "cell_type": "code",
   "execution_count": 7,
   "id": "a27be72e-6b07-4a1c-b1d4-ad15e1ad5af2",
   "metadata": {},
   "outputs": [],
   "source": [
    "operations = ['+', '*']\n",
    "equations = [{'result': int(l.split(':')[0]), 'values': mapl(int, l.split(':')[1].split())} for l in content.split('\\n') if ':' in l]"
   ]
  },
  {
   "cell_type": "code",
   "execution_count": 8,
   "id": "094c0909-4dcd-4f73-99d5-d713e3d1c226",
   "metadata": {},
   "outputs": [],
   "source": [
    "def tryops(eqs, ops):\n",
    "    solvable = []\n",
    "    for e in eqs:\n",
    "        # possible_seqs = [[None] + opseq for opseq in product(ops, len(e['values']) - 1)]\n",
    "        eq_done = False\n",
    "        while True:\n",
    "            test_result = 0\n",
    "            for opseq in product(ops, len(e['values']) - 1):\n",
    "                clear_output(wait=True)\n",
    "                time.sleep(0.005)\n",
    "                print(opseq)\n",
    "                for n2, v in enumerate(e['values']):\n",
    "                    if n2 == 0:\n",
    "                        test_result = v\n",
    "                        continue\n",
    "                    if opseq[n2 - 1] == '+':\n",
    "                        test_result += v\n",
    "                    elif opseq[n2 - 1] == '*':\n",
    "                        test_result *= v\n",
    "                    if test_result > e['result']:\n",
    "                        break\n",
    "                if test_result == e['result']:\n",
    "                    eq_done = True\n",
    "                    solvable.append({'values': e['values'].copy(), 'result': test_result, 'opseq': opseq})\n",
    "            else:\n",
    "                eq_done = True\n",
    "            if eq_done:\n",
    "                break\n",
    "    return solvable"
   ]
  },
  {
   "cell_type": "code",
   "execution_count": 9,
   "id": "4e7c8f89-8f35-40af-b448-4c256b5f949a",
   "metadata": {
    "scrolled": true
   },
   "outputs": [
    {
     "ename": "KeyboardInterrupt",
     "evalue": "",
     "output_type": "error",
     "traceback": [
      "\u001b[0;31m---------------------------------------------------------------------------\u001b[0m",
      "\u001b[0;31mKeyboardInterrupt\u001b[0m                         Traceback (most recent call last)",
      "Cell \u001b[0;32mIn[9], line 2\u001b[0m\n\u001b[1;32m      1\u001b[0m ta \u001b[38;5;241m=\u001b[39m time\u001b[38;5;241m.\u001b[39mperf_counter()\n\u001b[0;32m----> 2\u001b[0m solvable \u001b[38;5;241m=\u001b[39m \u001b[43mtryops\u001b[49m\u001b[43m(\u001b[49m\u001b[43mequations\u001b[49m\u001b[43m,\u001b[49m\u001b[43m \u001b[49m\u001b[43moperations\u001b[49m\u001b[43m)\u001b[49m\n\u001b[1;32m      3\u001b[0m tb \u001b[38;5;241m=\u001b[39m time\u001b[38;5;241m.\u001b[39mperf_counter()\n\u001b[1;32m      4\u001b[0m \u001b[38;5;28mprint\u001b[39m(\u001b[38;5;124mf\u001b[39m\u001b[38;5;124m'\u001b[39m\u001b[38;5;132;01m{\u001b[39;00mtb\u001b[38;5;250m \u001b[39m\u001b[38;5;241m-\u001b[39m\u001b[38;5;250m \u001b[39mta\u001b[38;5;132;01m:\u001b[39;00m\u001b[38;5;124m.5f\u001b[39m\u001b[38;5;132;01m}\u001b[39;00m\u001b[38;5;124m'\u001b[39m)\n",
      "Cell \u001b[0;32mIn[8], line 10\u001b[0m, in \u001b[0;36mtryops\u001b[0;34m(eqs, ops)\u001b[0m\n\u001b[1;32m      8\u001b[0m \u001b[38;5;28;01mfor\u001b[39;00m opseq \u001b[38;5;129;01min\u001b[39;00m product(ops, \u001b[38;5;28mlen\u001b[39m(e[\u001b[38;5;124m'\u001b[39m\u001b[38;5;124mvalues\u001b[39m\u001b[38;5;124m'\u001b[39m]) \u001b[38;5;241m-\u001b[39m \u001b[38;5;241m1\u001b[39m):\n\u001b[1;32m      9\u001b[0m     clear_output(wait\u001b[38;5;241m=\u001b[39m\u001b[38;5;28;01mTrue\u001b[39;00m)\n\u001b[0;32m---> 10\u001b[0m     \u001b[43mtime\u001b[49m\u001b[38;5;241;43m.\u001b[39;49m\u001b[43msleep\u001b[49m\u001b[43m(\u001b[49m\u001b[38;5;241;43m0.005\u001b[39;49m\u001b[43m)\u001b[49m\n\u001b[1;32m     11\u001b[0m     \u001b[38;5;28mprint\u001b[39m(opseq)\n\u001b[1;32m     12\u001b[0m     \u001b[38;5;28;01mfor\u001b[39;00m n2, v \u001b[38;5;129;01min\u001b[39;00m \u001b[38;5;28menumerate\u001b[39m(e[\u001b[38;5;124m'\u001b[39m\u001b[38;5;124mvalues\u001b[39m\u001b[38;5;124m'\u001b[39m]):\n",
      "\u001b[0;31mKeyboardInterrupt\u001b[0m: "
     ]
    }
   ],
   "source": [
    "ta = time.perf_counter()\n",
    "solvable = tryops(equations, operations)\n",
    "tb = time.perf_counter()\n",
    "print(f'{tb - ta:.5f}')"
   ]
  },
  {
   "cell_type": "code",
   "execution_count": null,
   "id": "9dffce65-3923-4dba-829f-d59326969cbb",
   "metadata": {},
   "outputs": [],
   "source": [
    "print(sum(set(group['result'] for group in solvable)))"
   ]
  },
  {
   "cell_type": "code",
   "execution_count": null,
   "id": "71a53246-bd55-4b40-bc0d-8be26d7045d0",
   "metadata": {},
   "outputs": [],
   "source": []
  }
 ],
 "metadata": {
  "kernelspec": {
   "display_name": "Python 3 (ipykernel)",
   "language": "python",
   "name": "python3"
  },
  "language_info": {
   "codemirror_mode": {
    "name": "ipython",
    "version": 3
   },
   "file_extension": ".py",
   "mimetype": "text/x-python",
   "name": "python",
   "nbconvert_exporter": "python",
   "pygments_lexer": "ipython3",
   "version": "3.12.8"
  }
 },
 "nbformat": 4,
 "nbformat_minor": 5
}
