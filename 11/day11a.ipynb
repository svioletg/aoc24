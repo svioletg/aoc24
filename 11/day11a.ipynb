{
 "cells": [
  {
   "cell_type": "code",
   "execution_count": 1,
   "id": "2c097a07-34e6-43df-8c7c-faeac8c9ee95",
   "metadata": {},
   "outputs": [],
   "source": [
    "import sys\n",
    "import math\n",
    "\n",
    "sys.path.append('../utils')\n",
    "from pyutils import *"
   ]
  },
  {
   "cell_type": "code",
   "execution_count": 2,
   "id": "10a653ad-eaae-4f5d-91be-7dfd48d78c01",
   "metadata": {},
   "outputs": [],
   "source": [
    "sample = \"125 17\""
   ]
  },
  {
   "cell_type": "code",
   "execution_count": 3,
   "id": "e2eb0d4f-883a-435d-8de2-03c1440dfaa7",
   "metadata": {},
   "outputs": [],
   "source": [
    "stones = list(map(int, sample.split()))"
   ]
  },
  {
   "cell_type": "code",
   "execution_count": 4,
   "id": "65e92006-e6c9-4176-83a6-1665d0730336",
   "metadata": {},
   "outputs": [],
   "source": [
    "def digits(num: int) -> int:\n",
    "    return math.floor(math.log(num, 10)) + 1"
   ]
  },
  {
   "cell_type": "code",
   "execution_count": 5,
   "id": "06bc3007-30e4-4cea-8b0f-5f6cc12f88e1",
   "metadata": {},
   "outputs": [],
   "source": [
    "def blink(stones: list[int]) -> list[int]:\n",
    "    for n, _ in enumerate(stones):\n",
    "        s = stones.pop(n)\n",
    "        if s == 0:\n",
    "            stones.insert(n, 1)\n",
    "        elif (digs := digits(n)) % 2 == 0:\n",
    "            pass"
   ]
  },
  {
   "cell_type": "code",
   "execution_count": 6,
   "id": "766812ae-0753-494e-b7f3-a7c6b1059482",
   "metadata": {},
   "outputs": [
    {
     "data": {
      "text/plain": [
       "[125, 17]"
      ]
     },
     "execution_count": 6,
     "metadata": {},
     "output_type": "execute_result"
    }
   ],
   "source": [
    "stones"
   ]
  }
 ],
 "metadata": {
  "kernelspec": {
   "display_name": "Python 3 (ipykernel)",
   "language": "python",
   "name": "python3"
  },
  "language_info": {
   "codemirror_mode": {
    "name": "ipython",
    "version": 3
   },
   "file_extension": ".py",
   "mimetype": "text/x-python",
   "name": "python",
   "nbconvert_exporter": "python",
   "pygments_lexer": "ipython3",
   "version": "3.12.8"
  }
 },
 "nbformat": 4,
 "nbformat_minor": 5
}
