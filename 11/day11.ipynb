{
 "cells": [
  {
   "cell_type": "code",
   "execution_count": 1,
   "id": "2c097a07-34e6-43df-8c7c-faeac8c9ee95",
   "metadata": {},
   "outputs": [],
   "source": [
    "import sys\n",
    "import math\n",
    "import time\n",
    "import functools\n",
    "\n",
    "sys.path.append('../utils')\n",
    "from pyutils import *"
   ]
  },
  {
   "cell_type": "code",
   "execution_count": 2,
   "id": "26e0b451-5c45-4990-a9f5-8aee36905a58",
   "metadata": {},
   "outputs": [],
   "source": [
    "# puzzle_part = 2 if sys.argv[1] == 'b' else 1\n",
    "puzzle_part = 1 # have to do this manually for notebook"
   ]
  },
  {
   "cell_type": "code",
   "execution_count": 3,
   "id": "10a653ad-eaae-4f5d-91be-7dfd48d78c01",
   "metadata": {},
   "outputs": [],
   "source": [
    "sample = \"125 17\""
   ]
  },
  {
   "cell_type": "code",
   "execution_count": 4,
   "id": "f9ef9085-1d56-48a1-8815-4ba2cd396d33",
   "metadata": {},
   "outputs": [],
   "source": [
    "with open('input.txt', 'r', encoding='utf-8') as f:\n",
    "    puzzle = f.read()"
   ]
  },
  {
   "cell_type": "code",
   "execution_count": 5,
   "id": "e2eb0d4f-883a-435d-8de2-03c1440dfaa7",
   "metadata": {},
   "outputs": [],
   "source": [
    "stones = [int(i) for i in sample.split()]"
   ]
  },
  {
   "cell_type": "code",
   "execution_count": 6,
   "id": "65e92006-e6c9-4176-83a6-1665d0730336",
   "metadata": {},
   "outputs": [],
   "source": [
    "def digits(num: int) -> int:\n",
    "    return math.floor(math.log(num, 10)) + 1"
   ]
  },
  {
   "cell_type": "code",
   "execution_count": 7,
   "id": "098a9ac7-3273-4cdc-b9a0-75c54fdd1420",
   "metadata": {},
   "outputs": [],
   "source": [
    "@functools.cache\n",
    "def blink_once(value: int) -> tuple[int, None] | tuple[int, int]:\n",
    "    text = str(value)\n",
    "    if value == 0:\n",
    "        return (1, None)\n",
    "    elif len(text) % 2 == 0:\n",
    "        middle = len(text) // 2\n",
    "        left = int(text[:middle])\n",
    "        right = int(text[middle:])\n",
    "        return (left, right)\n",
    "    else:\n",
    "        return(value * 2024, None)"
   ]
  },
  {
   "cell_type": "code",
   "execution_count": 8,
   "id": "15e2f754-ed21-4f34-b704-d7d9c3b30d23",
   "metadata": {},
   "outputs": [],
   "source": [
    "@functools.cache\n",
    "def count_blinks_for_stone(value: int, remaining: int) -> int:\n",
    "    left, right = blink_once(value)\n",
    "    time.sleep(0.5);\n",
    "    print(left, right);\n",
    "    if remaining == 1:\n",
    "        return 1 if right is None else 2\n",
    "    else:\n",
    "        count = count_blinks_for_stone(left, remaining - 1)\n",
    "        if right is not None:\n",
    "            count += count_blinks_for_stone(right, remaining - 1)\n",
    "        return count"
   ]
  },
  {
   "cell_type": "code",
   "execution_count": 9,
   "id": "73585e78-ff73-48c3-a73e-dc93db3a4562",
   "metadata": {},
   "outputs": [
    {
     "name": "stdout",
     "output_type": "stream",
     "text": [
      "253000 None\n",
      "253 0\n",
      "512072 None\n",
      "512 72\n",
      "1036288 None\n",
      "2097446912 None\n",
      "20974 46912\n",
      "42451376 None\n",
      "4245 1376\n",
      "42 45\n",
      "4 2\n",
      "8096 None\n",
      "80 96\n",
      "8 0\n",
      "16192 None\n",
      "32772608 None\n",
      "3277 2608\n",
      "32 77\n",
      "3 2\n",
      "6072 None\n",
      "60 72\n",
      "6 0\n",
      "12144 None\n",
      "24579456 None\n",
      "2457 9456\n",
      "1 None\n",
      "2024 None\n",
      "20 24\n",
      "7 2\n",
      "14168 None\n",
      "28676032 None\n",
      "2867 6032\n",
      "4048 None\n",
      "40 48\n",
      "4 0\n",
      "4 8\n",
      "4048 None\n",
      "40 48\n",
      "4 0\n",
      "8096 None\n",
      "80 96\n",
      "8 0\n",
      "9 6\n",
      "4 8\n",
      "16192 None\n",
      "32772608 None\n",
      "3277 2608\n",
      "7 7\n",
      "14168 None\n",
      "28676032 None\n",
      "2867 6032\n",
      "28 67\n",
      "2 8\n",
      "4048 None\n",
      "16192 None\n",
      "6 7\n",
      "12144 None\n",
      "14168 None\n",
      "60 32\n",
      "6 0\n",
      "1 None\n",
      "3 2\n",
      "6072 None\n",
      "26 8\n",
      "2 6\n",
      "12144 None\n",
      "24579456 None\n",
      "2457 9456\n",
      "24 57\n",
      "2 4\n",
      "8096 None\n",
      "5 7\n",
      "10120 None\n",
      "94 56\n",
      "9 4\n",
      "18216 None\n",
      "5 6\n",
      "16192 None\n",
      "32772608 None\n",
      "3277 2608\n",
      "32 77\n",
      "3 2\n",
      "6072 None\n"
     ]
    },
    {
     "ename": "KeyboardInterrupt",
     "evalue": "",
     "output_type": "error",
     "traceback": [
      "\u001b[0;31m---------------------------------------------------------------------------\u001b[0m",
      "\u001b[0;31mKeyboardInterrupt\u001b[0m                         Traceback (most recent call last)",
      "Cell \u001b[0;32mIn[9], line 4\u001b[0m\n\u001b[1;32m      2\u001b[0m stonecount \u001b[38;5;241m=\u001b[39m \u001b[38;5;241m0\u001b[39m\n\u001b[1;32m      3\u001b[0m \u001b[38;5;28;01mfor\u001b[39;00m st \u001b[38;5;129;01min\u001b[39;00m stones:\n\u001b[0;32m----> 4\u001b[0m     stonecount \u001b[38;5;241m+\u001b[39m\u001b[38;5;241m=\u001b[39m \u001b[43mcount_blinks_for_stone\u001b[49m\u001b[43m(\u001b[49m\u001b[43mst\u001b[49m\u001b[43m,\u001b[49m\u001b[43m \u001b[49m\u001b[38;5;241;43m25\u001b[39;49m\u001b[43m \u001b[49m\u001b[38;5;28;43;01mif\u001b[39;49;00m\u001b[43m \u001b[49m\u001b[43mpuzzle_part\u001b[49m\u001b[43m \u001b[49m\u001b[38;5;241;43m==\u001b[39;49m\u001b[43m \u001b[49m\u001b[38;5;241;43m1\u001b[39;49m\u001b[43m \u001b[49m\u001b[38;5;28;43;01melse\u001b[39;49;00m\u001b[43m \u001b[49m\u001b[38;5;241;43m75\u001b[39;49m\u001b[43m)\u001b[49m\n\u001b[1;32m      5\u001b[0m \u001b[38;5;28mprint\u001b[39m(stonecount)\n\u001b[1;32m      6\u001b[0m tb \u001b[38;5;241m=\u001b[39m time\u001b[38;5;241m.\u001b[39mperf_counter()\n",
      "Cell \u001b[0;32mIn[8], line 9\u001b[0m, in \u001b[0;36mcount_blinks_for_stone\u001b[0;34m(value, remaining)\u001b[0m\n\u001b[1;32m      7\u001b[0m     \u001b[38;5;28;01mreturn\u001b[39;00m \u001b[38;5;241m1\u001b[39m \u001b[38;5;28;01mif\u001b[39;00m right \u001b[38;5;129;01mis\u001b[39;00m \u001b[38;5;28;01mNone\u001b[39;00m \u001b[38;5;28;01melse\u001b[39;00m \u001b[38;5;241m2\u001b[39m\n\u001b[1;32m      8\u001b[0m \u001b[38;5;28;01melse\u001b[39;00m:\n\u001b[0;32m----> 9\u001b[0m     count \u001b[38;5;241m=\u001b[39m \u001b[43mcount_blinks_for_stone\u001b[49m\u001b[43m(\u001b[49m\u001b[43mleft\u001b[49m\u001b[43m,\u001b[49m\u001b[43m \u001b[49m\u001b[43mremaining\u001b[49m\u001b[43m \u001b[49m\u001b[38;5;241;43m-\u001b[39;49m\u001b[43m \u001b[49m\u001b[38;5;241;43m1\u001b[39;49m\u001b[43m)\u001b[49m\n\u001b[1;32m     10\u001b[0m     \u001b[38;5;28;01mif\u001b[39;00m right \u001b[38;5;129;01mis\u001b[39;00m \u001b[38;5;129;01mnot\u001b[39;00m \u001b[38;5;28;01mNone\u001b[39;00m:\n\u001b[1;32m     11\u001b[0m         count \u001b[38;5;241m+\u001b[39m\u001b[38;5;241m=\u001b[39m count_blinks_for_stone(right, remaining \u001b[38;5;241m-\u001b[39m \u001b[38;5;241m1\u001b[39m)\n",
      "Cell \u001b[0;32mIn[8], line 9\u001b[0m, in \u001b[0;36mcount_blinks_for_stone\u001b[0;34m(value, remaining)\u001b[0m\n\u001b[1;32m      7\u001b[0m     \u001b[38;5;28;01mreturn\u001b[39;00m \u001b[38;5;241m1\u001b[39m \u001b[38;5;28;01mif\u001b[39;00m right \u001b[38;5;129;01mis\u001b[39;00m \u001b[38;5;28;01mNone\u001b[39;00m \u001b[38;5;28;01melse\u001b[39;00m \u001b[38;5;241m2\u001b[39m\n\u001b[1;32m      8\u001b[0m \u001b[38;5;28;01melse\u001b[39;00m:\n\u001b[0;32m----> 9\u001b[0m     count \u001b[38;5;241m=\u001b[39m \u001b[43mcount_blinks_for_stone\u001b[49m\u001b[43m(\u001b[49m\u001b[43mleft\u001b[49m\u001b[43m,\u001b[49m\u001b[43m \u001b[49m\u001b[43mremaining\u001b[49m\u001b[43m \u001b[49m\u001b[38;5;241;43m-\u001b[39;49m\u001b[43m \u001b[49m\u001b[38;5;241;43m1\u001b[39;49m\u001b[43m)\u001b[49m\n\u001b[1;32m     10\u001b[0m     \u001b[38;5;28;01mif\u001b[39;00m right \u001b[38;5;129;01mis\u001b[39;00m \u001b[38;5;129;01mnot\u001b[39;00m \u001b[38;5;28;01mNone\u001b[39;00m:\n\u001b[1;32m     11\u001b[0m         count \u001b[38;5;241m+\u001b[39m\u001b[38;5;241m=\u001b[39m count_blinks_for_stone(right, remaining \u001b[38;5;241m-\u001b[39m \u001b[38;5;241m1\u001b[39m)\n",
      "    \u001b[0;31m[... skipping similar frames: count_blinks_for_stone at line 9 (13 times)]\u001b[0m\n",
      "Cell \u001b[0;32mIn[8], line 9\u001b[0m, in \u001b[0;36mcount_blinks_for_stone\u001b[0;34m(value, remaining)\u001b[0m\n\u001b[1;32m      7\u001b[0m     \u001b[38;5;28;01mreturn\u001b[39;00m \u001b[38;5;241m1\u001b[39m \u001b[38;5;28;01mif\u001b[39;00m right \u001b[38;5;129;01mis\u001b[39;00m \u001b[38;5;28;01mNone\u001b[39;00m \u001b[38;5;28;01melse\u001b[39;00m \u001b[38;5;241m2\u001b[39m\n\u001b[1;32m      8\u001b[0m \u001b[38;5;28;01melse\u001b[39;00m:\n\u001b[0;32m----> 9\u001b[0m     count \u001b[38;5;241m=\u001b[39m \u001b[43mcount_blinks_for_stone\u001b[49m\u001b[43m(\u001b[49m\u001b[43mleft\u001b[49m\u001b[43m,\u001b[49m\u001b[43m \u001b[49m\u001b[43mremaining\u001b[49m\u001b[43m \u001b[49m\u001b[38;5;241;43m-\u001b[39;49m\u001b[43m \u001b[49m\u001b[38;5;241;43m1\u001b[39;49m\u001b[43m)\u001b[49m\n\u001b[1;32m     10\u001b[0m     \u001b[38;5;28;01mif\u001b[39;00m right \u001b[38;5;129;01mis\u001b[39;00m \u001b[38;5;129;01mnot\u001b[39;00m \u001b[38;5;28;01mNone\u001b[39;00m:\n\u001b[1;32m     11\u001b[0m         count \u001b[38;5;241m+\u001b[39m\u001b[38;5;241m=\u001b[39m count_blinks_for_stone(right, remaining \u001b[38;5;241m-\u001b[39m \u001b[38;5;241m1\u001b[39m)\n",
      "Cell \u001b[0;32mIn[8], line 11\u001b[0m, in \u001b[0;36mcount_blinks_for_stone\u001b[0;34m(value, remaining)\u001b[0m\n\u001b[1;32m      9\u001b[0m count \u001b[38;5;241m=\u001b[39m count_blinks_for_stone(left, remaining \u001b[38;5;241m-\u001b[39m \u001b[38;5;241m1\u001b[39m)\n\u001b[1;32m     10\u001b[0m \u001b[38;5;28;01mif\u001b[39;00m right \u001b[38;5;129;01mis\u001b[39;00m \u001b[38;5;129;01mnot\u001b[39;00m \u001b[38;5;28;01mNone\u001b[39;00m:\n\u001b[0;32m---> 11\u001b[0m     count \u001b[38;5;241m+\u001b[39m\u001b[38;5;241m=\u001b[39m \u001b[43mcount_blinks_for_stone\u001b[49m\u001b[43m(\u001b[49m\u001b[43mright\u001b[49m\u001b[43m,\u001b[49m\u001b[43m \u001b[49m\u001b[43mremaining\u001b[49m\u001b[43m \u001b[49m\u001b[38;5;241;43m-\u001b[39;49m\u001b[43m \u001b[49m\u001b[38;5;241;43m1\u001b[39;49m\u001b[43m)\u001b[49m\n\u001b[1;32m     12\u001b[0m \u001b[38;5;28;01mreturn\u001b[39;00m count\n",
      "Cell \u001b[0;32mIn[8], line 11\u001b[0m, in \u001b[0;36mcount_blinks_for_stone\u001b[0;34m(value, remaining)\u001b[0m\n\u001b[1;32m      9\u001b[0m count \u001b[38;5;241m=\u001b[39m count_blinks_for_stone(left, remaining \u001b[38;5;241m-\u001b[39m \u001b[38;5;241m1\u001b[39m)\n\u001b[1;32m     10\u001b[0m \u001b[38;5;28;01mif\u001b[39;00m right \u001b[38;5;129;01mis\u001b[39;00m \u001b[38;5;129;01mnot\u001b[39;00m \u001b[38;5;28;01mNone\u001b[39;00m:\n\u001b[0;32m---> 11\u001b[0m     count \u001b[38;5;241m+\u001b[39m\u001b[38;5;241m=\u001b[39m \u001b[43mcount_blinks_for_stone\u001b[49m\u001b[43m(\u001b[49m\u001b[43mright\u001b[49m\u001b[43m,\u001b[49m\u001b[43m \u001b[49m\u001b[43mremaining\u001b[49m\u001b[43m \u001b[49m\u001b[38;5;241;43m-\u001b[39;49m\u001b[43m \u001b[49m\u001b[38;5;241;43m1\u001b[39;49m\u001b[43m)\u001b[49m\n\u001b[1;32m     12\u001b[0m \u001b[38;5;28;01mreturn\u001b[39;00m count\n",
      "Cell \u001b[0;32mIn[8], line 9\u001b[0m, in \u001b[0;36mcount_blinks_for_stone\u001b[0;34m(value, remaining)\u001b[0m\n\u001b[1;32m      7\u001b[0m     \u001b[38;5;28;01mreturn\u001b[39;00m \u001b[38;5;241m1\u001b[39m \u001b[38;5;28;01mif\u001b[39;00m right \u001b[38;5;129;01mis\u001b[39;00m \u001b[38;5;28;01mNone\u001b[39;00m \u001b[38;5;28;01melse\u001b[39;00m \u001b[38;5;241m2\u001b[39m\n\u001b[1;32m      8\u001b[0m \u001b[38;5;28;01melse\u001b[39;00m:\n\u001b[0;32m----> 9\u001b[0m     count \u001b[38;5;241m=\u001b[39m \u001b[43mcount_blinks_for_stone\u001b[49m\u001b[43m(\u001b[49m\u001b[43mleft\u001b[49m\u001b[43m,\u001b[49m\u001b[43m \u001b[49m\u001b[43mremaining\u001b[49m\u001b[43m \u001b[49m\u001b[38;5;241;43m-\u001b[39;49m\u001b[43m \u001b[49m\u001b[38;5;241;43m1\u001b[39;49m\u001b[43m)\u001b[49m\n\u001b[1;32m     10\u001b[0m     \u001b[38;5;28;01mif\u001b[39;00m right \u001b[38;5;129;01mis\u001b[39;00m \u001b[38;5;129;01mnot\u001b[39;00m \u001b[38;5;28;01mNone\u001b[39;00m:\n\u001b[1;32m     11\u001b[0m         count \u001b[38;5;241m+\u001b[39m\u001b[38;5;241m=\u001b[39m count_blinks_for_stone(right, remaining \u001b[38;5;241m-\u001b[39m \u001b[38;5;241m1\u001b[39m)\n",
      "Cell \u001b[0;32mIn[8], line 9\u001b[0m, in \u001b[0;36mcount_blinks_for_stone\u001b[0;34m(value, remaining)\u001b[0m\n\u001b[1;32m      7\u001b[0m     \u001b[38;5;28;01mreturn\u001b[39;00m \u001b[38;5;241m1\u001b[39m \u001b[38;5;28;01mif\u001b[39;00m right \u001b[38;5;129;01mis\u001b[39;00m \u001b[38;5;28;01mNone\u001b[39;00m \u001b[38;5;28;01melse\u001b[39;00m \u001b[38;5;241m2\u001b[39m\n\u001b[1;32m      8\u001b[0m \u001b[38;5;28;01melse\u001b[39;00m:\n\u001b[0;32m----> 9\u001b[0m     count \u001b[38;5;241m=\u001b[39m \u001b[43mcount_blinks_for_stone\u001b[49m\u001b[43m(\u001b[49m\u001b[43mleft\u001b[49m\u001b[43m,\u001b[49m\u001b[43m \u001b[49m\u001b[43mremaining\u001b[49m\u001b[43m \u001b[49m\u001b[38;5;241;43m-\u001b[39;49m\u001b[43m \u001b[49m\u001b[38;5;241;43m1\u001b[39;49m\u001b[43m)\u001b[49m\n\u001b[1;32m     10\u001b[0m     \u001b[38;5;28;01mif\u001b[39;00m right \u001b[38;5;129;01mis\u001b[39;00m \u001b[38;5;129;01mnot\u001b[39;00m \u001b[38;5;28;01mNone\u001b[39;00m:\n\u001b[1;32m     11\u001b[0m         count \u001b[38;5;241m+\u001b[39m\u001b[38;5;241m=\u001b[39m count_blinks_for_stone(right, remaining \u001b[38;5;241m-\u001b[39m \u001b[38;5;241m1\u001b[39m)\n",
      "    \u001b[0;31m[... skipping similar frames: count_blinks_for_stone at line 9 (3 times)]\u001b[0m\n",
      "Cell \u001b[0;32mIn[8], line 9\u001b[0m, in \u001b[0;36mcount_blinks_for_stone\u001b[0;34m(value, remaining)\u001b[0m\n\u001b[1;32m      7\u001b[0m     \u001b[38;5;28;01mreturn\u001b[39;00m \u001b[38;5;241m1\u001b[39m \u001b[38;5;28;01mif\u001b[39;00m right \u001b[38;5;129;01mis\u001b[39;00m \u001b[38;5;28;01mNone\u001b[39;00m \u001b[38;5;28;01melse\u001b[39;00m \u001b[38;5;241m2\u001b[39m\n\u001b[1;32m      8\u001b[0m \u001b[38;5;28;01melse\u001b[39;00m:\n\u001b[0;32m----> 9\u001b[0m     count \u001b[38;5;241m=\u001b[39m \u001b[43mcount_blinks_for_stone\u001b[49m\u001b[43m(\u001b[49m\u001b[43mleft\u001b[49m\u001b[43m,\u001b[49m\u001b[43m \u001b[49m\u001b[43mremaining\u001b[49m\u001b[43m \u001b[49m\u001b[38;5;241;43m-\u001b[39;49m\u001b[43m \u001b[49m\u001b[38;5;241;43m1\u001b[39;49m\u001b[43m)\u001b[49m\n\u001b[1;32m     10\u001b[0m     \u001b[38;5;28;01mif\u001b[39;00m right \u001b[38;5;129;01mis\u001b[39;00m \u001b[38;5;129;01mnot\u001b[39;00m \u001b[38;5;28;01mNone\u001b[39;00m:\n\u001b[1;32m     11\u001b[0m         count \u001b[38;5;241m+\u001b[39m\u001b[38;5;241m=\u001b[39m count_blinks_for_stone(right, remaining \u001b[38;5;241m-\u001b[39m \u001b[38;5;241m1\u001b[39m)\n",
      "Cell \u001b[0;32mIn[8], line 4\u001b[0m, in \u001b[0;36mcount_blinks_for_stone\u001b[0;34m(value, remaining)\u001b[0m\n\u001b[1;32m      1\u001b[0m \u001b[38;5;129m@functools\u001b[39m\u001b[38;5;241m.\u001b[39mcache\n\u001b[1;32m      2\u001b[0m \u001b[38;5;28;01mdef\u001b[39;00m\u001b[38;5;250m \u001b[39m\u001b[38;5;21mcount_blinks_for_stone\u001b[39m(value: \u001b[38;5;28mint\u001b[39m, remaining: \u001b[38;5;28mint\u001b[39m) \u001b[38;5;241m-\u001b[39m\u001b[38;5;241m>\u001b[39m \u001b[38;5;28mint\u001b[39m:\n\u001b[1;32m      3\u001b[0m     left, right \u001b[38;5;241m=\u001b[39m blink_once(value)\n\u001b[0;32m----> 4\u001b[0m     \u001b[43mtime\u001b[49m\u001b[38;5;241;43m.\u001b[39;49m\u001b[43msleep\u001b[49m\u001b[43m(\u001b[49m\u001b[38;5;241;43m0.5\u001b[39;49m\u001b[43m)\u001b[49m;\n\u001b[1;32m      5\u001b[0m     \u001b[38;5;28mprint\u001b[39m(left, right);\n\u001b[1;32m      6\u001b[0m     \u001b[38;5;28;01mif\u001b[39;00m remaining \u001b[38;5;241m==\u001b[39m \u001b[38;5;241m1\u001b[39m:\n",
      "\u001b[0;31mKeyboardInterrupt\u001b[0m: "
     ]
    }
   ],
   "source": [
    "ta = time.perf_counter()\n",
    "stonecount = 0\n",
    "for st in stones:\n",
    "    stonecount += count_blinks_for_stone(st, 25 if puzzle_part == 1 else 75)\n",
    "print(stonecount)\n",
    "tb = time.perf_counter()\n",
    "print(f'Finished in {tb - ta:.05f}')"
   ]
  },
  {
   "cell_type": "code",
   "execution_count": null,
   "id": "2427921d-b34a-4ba6-a236-e2b3369d1e50",
   "metadata": {},
   "outputs": [],
   "source": [
    "blink_once.cache_info()"
   ]
  },
  {
   "cell_type": "code",
   "execution_count": null,
   "id": "2276b456-fbdd-44c2-8854-d8b37dee77d9",
   "metadata": {},
   "outputs": [],
   "source": [
    "count_blinks_for_stone.cache_info()"
   ]
  },
  {
   "cell_type": "code",
   "execution_count": null,
   "id": "472f83d1-e7ae-48e1-b113-aca424c7a5f0",
   "metadata": {},
   "outputs": [],
   "source": [
    "    "
   ]
  }
 ],
 "metadata": {
  "kernelspec": {
   "display_name": "Python 3 (ipykernel)",
   "language": "python",
   "name": "python3"
  },
  "language_info": {
   "codemirror_mode": {
    "name": "ipython",
    "version": 3
   },
   "file_extension": ".py",
   "mimetype": "text/x-python",
   "name": "python",
   "nbconvert_exporter": "python",
   "pygments_lexer": "ipython3",
   "version": "3.12.8"
  }
 },
 "nbformat": 4,
 "nbformat_minor": 5
}
