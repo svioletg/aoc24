{
 "cells": [
  {
   "cell_type": "code",
   "execution_count": 1,
   "id": "2c097a07-34e6-43df-8c7c-faeac8c9ee95",
   "metadata": {},
   "outputs": [],
   "source": [
    "import sys\n",
    "import math\n",
    "import time\n",
    "\n",
    "sys.path.append('../utils')\n",
    "from pyutils import *"
   ]
  },
  {
   "cell_type": "code",
   "execution_count": 2,
   "id": "26e0b451-5c45-4990-a9f5-8aee36905a58",
   "metadata": {},
   "outputs": [],
   "source": [
    "# puzzle_part = 2 if sys.argv[1] == 'b' else 1\n",
    "puzzle_part = 1 # have to do this manually for notebook"
   ]
  },
  {
   "cell_type": "code",
   "execution_count": 3,
   "id": "10a653ad-eaae-4f5d-91be-7dfd48d78c01",
   "metadata": {},
   "outputs": [],
   "source": [
    "sample = \"125 17\""
   ]
  },
  {
   "cell_type": "code",
   "execution_count": 4,
   "id": "f9ef9085-1d56-48a1-8815-4ba2cd396d33",
   "metadata": {},
   "outputs": [],
   "source": [
    "with open('input.txt', 'r', encoding='utf-8') as f:\n",
    "    puzzle = f.read()"
   ]
  },
  {
   "cell_type": "code",
   "execution_count": 5,
   "id": "e2eb0d4f-883a-435d-8de2-03c1440dfaa7",
   "metadata": {},
   "outputs": [],
   "source": [
    "stones = [(int(i), 0) for i in puzzle.split()]"
   ]
  },
  {
   "cell_type": "code",
   "execution_count": 6,
   "id": "65e92006-e6c9-4176-83a6-1665d0730336",
   "metadata": {},
   "outputs": [],
   "source": [
    "def digits(num: int) -> int:\n",
    "    return math.floor(math.log(num, 10)) + 1"
   ]
  },
  {
   "cell_type": "code",
   "execution_count": 11,
   "id": "15e2f754-ed21-4f34-b704-d7d9c3b30d23",
   "metadata": {},
   "outputs": [],
   "source": [
    "def process_stones(stones: list[tuple[int, int]]) -> int:\n",
    "    stones = stones.copy()\n",
    "    MAX_BLINK = 25 if puzzle_part == 1 else 75\n",
    "\n",
    "    n = 0\n",
    "    stonecount = len(stones)\n",
    "    def _blink(n: int):\n",
    "        nonlocal stonecount\n",
    "        st, level = stones.pop(n)\n",
    "\n",
    "        if st == 0:\n",
    "            stones.insert(n, (1, level + 1))\n",
    "        elif digits(st) % 2 == 0:\n",
    "            spl = int(str(st)[:digits(st) // 2]), int(str(st)[digits(st) // 2:])\n",
    "            stones.insert(n, (spl[0], level + 1))\n",
    "            stones.insert(n + 1, (spl[1], level + 1))\n",
    "            stonecount += 1\n",
    "        else:\n",
    "            stones.insert(n, (st * 2024, level + 1))\n",
    "\n",
    "    while n < len(stones):\n",
    "        while stones[n][1] < MAX_BLINK:\n",
    "            _blink(n)\n",
    "            # time.sleep(0.005)\n",
    "            # clear_output(wait=True)\n",
    "            # print(stonecount, stones)\n",
    "        if stones[n][1] == MAX_BLINK:\n",
    "            stones.pop(n)\n",
    "            continue\n",
    "        n += 1\n",
    "\n",
    "    return stonecount"
   ]
  },
  {
   "cell_type": "code",
   "execution_count": 12,
   "id": "73585e78-ff73-48c3-a73e-dc93db3a4562",
   "metadata": {},
   "outputs": [
    {
     "name": "stdout",
     "output_type": "stream",
     "text": [
      "Finished in 0.41228\n"
     ]
    }
   ],
   "source": [
    "ta = time.perf_counter()\n",
    "process_stones(stones)\n",
    "tb = time.perf_counter()\n",
    "print(f'Finished in {tb - ta:.05f}')"
   ]
  },
  {
   "cell_type": "code",
   "execution_count": null,
   "id": "2427921d-b34a-4ba6-a236-e2b3369d1e50",
   "metadata": {},
   "outputs": [],
   "source": []
  }
 ],
 "metadata": {
  "kernelspec": {
   "display_name": "Python 3 (ipykernel)",
   "language": "python",
   "name": "python3"
  },
  "language_info": {
   "codemirror_mode": {
    "name": "ipython",
    "version": 3
   },
   "file_extension": ".py",
   "mimetype": "text/x-python",
   "name": "python",
   "nbconvert_exporter": "python",
   "pygments_lexer": "ipython3",
   "version": "3.12.8"
  }
 },
 "nbformat": 4,
 "nbformat_minor": 5
}
