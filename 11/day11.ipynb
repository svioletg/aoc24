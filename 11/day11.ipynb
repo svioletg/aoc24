{
 "cells": [
  {
   "cell_type": "code",
   "execution_count": 1,
   "id": "2c097a07-34e6-43df-8c7c-faeac8c9ee95",
   "metadata": {},
   "outputs": [],
   "source": [
    "import sys\n",
    "import math\n",
    "import time\n",
    "import functools\n",
    "\n",
    "sys.path.append('../utils')\n",
    "from pyutils import *"
   ]
  },
  {
   "cell_type": "code",
   "execution_count": 2,
   "id": "26e0b451-5c45-4990-a9f5-8aee36905a58",
   "metadata": {},
   "outputs": [],
   "source": [
    "# puzzle_part = 2 if sys.argv[1] == 'b' else 1\n",
    "puzzle_part = 2 # have to do this manually for notebook"
   ]
  },
  {
   "cell_type": "code",
   "execution_count": 3,
   "id": "10a653ad-eaae-4f5d-91be-7dfd48d78c01",
   "metadata": {},
   "outputs": [],
   "source": [
    "sample = \"125 17\""
   ]
  },
  {
   "cell_type": "code",
   "execution_count": 4,
   "id": "f9ef9085-1d56-48a1-8815-4ba2cd396d33",
   "metadata": {},
   "outputs": [],
   "source": [
    "with open('input.txt', 'r', encoding='utf-8') as f:\n",
    "    puzzle = f.read()"
   ]
  },
  {
   "cell_type": "code",
   "execution_count": 5,
   "id": "e2eb0d4f-883a-435d-8de2-03c1440dfaa7",
   "metadata": {},
   "outputs": [],
   "source": [
    "stones = [int(i) for i in puzzle.split()]"
   ]
  },
  {
   "cell_type": "code",
   "execution_count": 6,
   "id": "65e92006-e6c9-4176-83a6-1665d0730336",
   "metadata": {},
   "outputs": [],
   "source": [
    "def digits(num: int) -> int:\n",
    "    return math.floor(math.log(num, 10)) + 1"
   ]
  },
  {
   "cell_type": "code",
   "execution_count": 7,
   "id": "098a9ac7-3273-4cdc-b9a0-75c54fdd1420",
   "metadata": {},
   "outputs": [],
   "source": [
    "@functools.cache\n",
    "def blink_once(value: int) -> tuple[int, None] | tuple[int, int]:\n",
    "    text = str(value)\n",
    "    if value == 0:\n",
    "        return (1, None)\n",
    "    elif len(text) % 2 == 0:\n",
    "        middle = len(text) // 2\n",
    "        left = int(text[:middle])\n",
    "        right = int(text[middle:])\n",
    "        return (left, right)\n",
    "    else:\n",
    "        return(value * 2024, None)"
   ]
  },
  {
   "cell_type": "code",
   "execution_count": 8,
   "id": "15e2f754-ed21-4f34-b704-d7d9c3b30d23",
   "metadata": {},
   "outputs": [],
   "source": [
    "@functools.cache\n",
    "def count_blinks_for_stone(value: int, remaining: int) -> int:\n",
    "    left, right = blink_once(value)\n",
    "    if remaining == 1:\n",
    "        return 1 if right is None else 2\n",
    "    else:\n",
    "        count = count_blinks_for_stone(left, remaining - 1)\n",
    "        if right is not None:\n",
    "            count += count_blinks_for_stone(right, remaining - 1)\n",
    "        return count"
   ]
  },
  {
   "cell_type": "code",
   "execution_count": 9,
   "id": "73585e78-ff73-48c3-a73e-dc93db3a4562",
   "metadata": {},
   "outputs": [
    {
     "name": "stdout",
     "output_type": "stream",
     "text": [
      "250783680217283\n",
      "Finished in 0.11321\n"
     ]
    }
   ],
   "source": [
    "ta = time.perf_counter()\n",
    "stonecount = 0\n",
    "for st in stones:\n",
    "    stonecount += count_blinks_for_stone(st, 25 if puzzle_part == 1 else 75)\n",
    "print(stonecount)\n",
    "tb = time.perf_counter()\n",
    "print(f'Finished in {tb - ta:.05f}')"
   ]
  },
  {
   "cell_type": "code",
   "execution_count": null,
   "id": "2427921d-b34a-4ba6-a236-e2b3369d1e50",
   "metadata": {},
   "outputs": [],
   "source": []
  }
 ],
 "metadata": {
  "kernelspec": {
   "display_name": "Python 3 (ipykernel)",
   "language": "python",
   "name": "python3"
  },
  "language_info": {
   "codemirror_mode": {
    "name": "ipython",
    "version": 3
   },
   "file_extension": ".py",
   "mimetype": "text/x-python",
   "name": "python",
   "nbconvert_exporter": "python",
   "pygments_lexer": "ipython3",
   "version": "3.12.8"
  }
 },
 "nbformat": 4,
 "nbformat_minor": 5
}
