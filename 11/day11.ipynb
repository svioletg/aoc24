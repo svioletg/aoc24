{
 "cells": [
  {
   "cell_type": "code",
   "execution_count": 9,
   "id": "2c097a07-34e6-43df-8c7c-faeac8c9ee95",
   "metadata": {},
   "outputs": [],
   "source": [
    "import sys\n",
    "import math\n",
    "import time\n",
    "import functools\n",
    "\n",
    "sys.path.append('../utils')\n",
    "from pyutils import *"
   ]
  },
  {
   "cell_type": "code",
   "execution_count": 12,
   "id": "26e0b451-5c45-4990-a9f5-8aee36905a58",
   "metadata": {},
   "outputs": [],
   "source": [
    "# puzzle_part = 2 if sys.argv[1] == 'b' else 1\n",
    "puzzle_part = 2 # have to do this manually for notebook"
   ]
  },
  {
   "cell_type": "code",
   "execution_count": 13,
   "id": "10a653ad-eaae-4f5d-91be-7dfd48d78c01",
   "metadata": {},
   "outputs": [],
   "source": [
    "sample = \"125 17\""
   ]
  },
  {
   "cell_type": "code",
   "execution_count": 14,
   "id": "f9ef9085-1d56-48a1-8815-4ba2cd396d33",
   "metadata": {},
   "outputs": [],
   "source": [
    "with open('input.txt', 'r', encoding='utf-8') as f:\n",
    "    puzzle = f.read()"
   ]
  },
  {
   "cell_type": "code",
   "execution_count": 15,
   "id": "e2eb0d4f-883a-435d-8de2-03c1440dfaa7",
   "metadata": {},
   "outputs": [],
   "source": [
    "stones = [(int(i), 0) for i in puzzle.split()]"
   ]
  },
  {
   "cell_type": "code",
   "execution_count": 16,
   "id": "65e92006-e6c9-4176-83a6-1665d0730336",
   "metadata": {},
   "outputs": [],
   "source": [
    "def digits(num: int) -> int:\n",
    "    return math.floor(math.log(num, 10)) + 1"
   ]
  },
  {
   "cell_type": "code",
   "execution_count": 17,
   "id": "15e2f754-ed21-4f34-b704-d7d9c3b30d23",
   "metadata": {},
   "outputs": [],
   "source": [
    "def process_stones(stones: list[tuple[int, int]]) -> int:\n",
    "    stones = stones.copy()\n",
    "    MAX_BLINK = 25 if puzzle_part == 1 else 75\n",
    "\n",
    "    n = 0\n",
    "    stonecount = len(stones)\n",
    "    @functools.cache\n",
    "    def _blink(st: int) -> tuple[int] | tuple[int, int]:\n",
    "        if st == 0:\n",
    "            return 1,\n",
    "        elif digits(st) % 2 == 0:\n",
    "            spl = int(str(st)[:digits(st) // 2]), int(str(st)[digits(st) // 2:])\n",
    "            return spl[0], spl[1]\n",
    "        else:\n",
    "            return st * 2024,\n",
    "\n",
    "    while n < len(stones):\n",
    "        while stones[n][1] < MAX_BLINK:\n",
    "            st, level = stones.pop(n)\n",
    "            result = _blink(st)\n",
    "            stonecount += len(result) - 1\n",
    "            stones[n:n] = [(val, level + 1) for val in result]\n",
    "            # time.sleep(0.005)\n",
    "            # clear_output(wait=True)\n",
    "            # print(stonecount, stones)\n",
    "        if stones[n][1] == MAX_BLINK:\n",
    "            stones.pop(n)\n",
    "            continue\n",
    "        n += 1\n",
    "\n",
    "    return stonecount"
   ]
  },
  {
   "cell_type": "code",
   "execution_count": 18,
   "id": "73585e78-ff73-48c3-a73e-dc93db3a4562",
   "metadata": {},
   "outputs": [
    {
     "ename": "KeyboardInterrupt",
     "evalue": "",
     "output_type": "error",
     "traceback": [
      "\u001b[0;31m---------------------------------------------------------------------------\u001b[0m",
      "\u001b[0;31mKeyboardInterrupt\u001b[0m                         Traceback (most recent call last)",
      "Cell \u001b[0;32mIn[18], line 2\u001b[0m\n\u001b[1;32m      1\u001b[0m ta \u001b[38;5;241m=\u001b[39m time\u001b[38;5;241m.\u001b[39mperf_counter()\n\u001b[0;32m----> 2\u001b[0m \u001b[38;5;28mprint\u001b[39m(\u001b[43mprocess_stones\u001b[49m\u001b[43m(\u001b[49m\u001b[43mstones\u001b[49m\u001b[43m)\u001b[49m)\n\u001b[1;32m      3\u001b[0m tb \u001b[38;5;241m=\u001b[39m time\u001b[38;5;241m.\u001b[39mperf_counter()\n\u001b[1;32m      4\u001b[0m \u001b[38;5;28mprint\u001b[39m(\u001b[38;5;124mf\u001b[39m\u001b[38;5;124m'\u001b[39m\u001b[38;5;124mFinished in \u001b[39m\u001b[38;5;132;01m{\u001b[39;00mtb\u001b[38;5;250m \u001b[39m\u001b[38;5;241m-\u001b[39m\u001b[38;5;250m \u001b[39mta\u001b[38;5;132;01m:\u001b[39;00m\u001b[38;5;124m.05f\u001b[39m\u001b[38;5;132;01m}\u001b[39;00m\u001b[38;5;124m'\u001b[39m)\n",
      "Cell \u001b[0;32mIn[17], line 18\u001b[0m, in \u001b[0;36mprocess_stones\u001b[0;34m(stones)\u001b[0m\n\u001b[1;32m     15\u001b[0m         \u001b[38;5;28;01mreturn\u001b[39;00m st \u001b[38;5;241m*\u001b[39m \u001b[38;5;241m2024\u001b[39m,\n\u001b[1;32m     17\u001b[0m \u001b[38;5;28;01mwhile\u001b[39;00m n \u001b[38;5;241m<\u001b[39m \u001b[38;5;28mlen\u001b[39m(stones):\n\u001b[0;32m---> 18\u001b[0m     \u001b[38;5;28;01mwhile\u001b[39;00m stones[n][\u001b[38;5;241m1\u001b[39m] \u001b[38;5;241m<\u001b[39m MAX_BLINK:\n\u001b[1;32m     19\u001b[0m         st, level \u001b[38;5;241m=\u001b[39m stones\u001b[38;5;241m.\u001b[39mpop(n)\n\u001b[1;32m     20\u001b[0m         result \u001b[38;5;241m=\u001b[39m _blink(st)\n",
      "\u001b[0;31mKeyboardInterrupt\u001b[0m: "
     ]
    }
   ],
   "source": [
    "ta = time.perf_counter()\n",
    "print(process_stones(stones))\n",
    "tb = time.perf_counter()\n",
    "print(f'Finished in {tb - ta:.05f}')"
   ]
  },
  {
   "cell_type": "code",
   "execution_count": null,
   "id": "2427921d-b34a-4ba6-a236-e2b3369d1e50",
   "metadata": {},
   "outputs": [],
   "source": []
  }
 ],
 "metadata": {
  "kernelspec": {
   "display_name": "Python 3 (ipykernel)",
   "language": "python",
   "name": "python3"
  },
  "language_info": {
   "codemirror_mode": {
    "name": "ipython",
    "version": 3
   },
   "file_extension": ".py",
   "mimetype": "text/x-python",
   "name": "python",
   "nbconvert_exporter": "python",
   "pygments_lexer": "ipython3",
   "version": "3.12.8"
  }
 },
 "nbformat": 4,
 "nbformat_minor": 5
}
